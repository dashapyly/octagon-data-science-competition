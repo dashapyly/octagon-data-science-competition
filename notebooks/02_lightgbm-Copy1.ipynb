{
 "cells": [
  {
   "cell_type": "markdown",
   "metadata": {},
   "source": [
    "## Summary\n",
    "\n",
    "---"
   ]
  },
  {
   "cell_type": "markdown",
   "metadata": {},
   "source": [
    "## Imports"
   ]
  },
  {
   "cell_type": "code",
   "execution_count": 1,
   "metadata": {},
   "outputs": [],
   "source": [
    "from pathlib import Path\n",
    "\n",
    "import tqdm\n",
    "import numpy as np\n",
    "import pandas as pd\n",
    "import pyarrow as pa\n",
    "import pyarrow.parquet as pq\n",
    "import matplotlib.pyplot as plt\n",
    "import lightgbm as lgb\n",
    "from scipy import stats\n",
    "from sklearn.model_selection import KFold\n",
    "from sklearn.model_selection import GridSearchCV"
   ]
  },
  {
   "cell_type": "code",
   "execution_count": 2,
   "metadata": {},
   "outputs": [],
   "source": [
    "pd.set_option(\"max_rows\", 1000)\n",
    "pd.set_option(\"max_columns\", 1000)"
   ]
  },
  {
   "cell_type": "markdown",
   "metadata": {},
   "source": [
    "## Parameters"
   ]
  },
  {
   "cell_type": "code",
   "execution_count": 3,
   "metadata": {},
   "outputs": [
    {
     "data": {
      "text/plain": [
       "'bayesian-linear-regression'"
      ]
     },
     "execution_count": 3,
     "metadata": {},
     "output_type": "execute_result"
    }
   ],
   "source": [
    "NOTEBOOK_NAME = \"bayesian-linear-regression\"\n",
    "NOTEBOOK_PATH = Path(NOTEBOOK_NAME).resolve()\n",
    "NOTEBOOK_PATH.mkdir(exist_ok=True)\n",
    "NOTEBOOK_NAME"
   ]
  },
  {
   "cell_type": "markdown",
   "metadata": {},
   "source": [
    "## Load data"
   ]
  },
  {
   "cell_type": "code",
   "execution_count": 4,
   "metadata": {},
   "outputs": [],
   "source": [
    "input_df = pq.read_table(\"01_prepare_combined_dataset/combined.parquet\").to_pandas()"
   ]
  },
  {
   "cell_type": "code",
   "execution_count": 5,
   "metadata": {},
   "outputs": [],
   "source": [
    "# input_df = pq.read_table(\"data-challenge/data_final2.parquet\").to_pandas()"
   ]
  },
  {
   "cell_type": "markdown",
   "metadata": {},
   "source": [
    "## Filter data"
   ]
  },
  {
   "cell_type": "code",
   "execution_count": 6,
   "metadata": {},
   "outputs": [],
   "source": [
    "input_df[\"y\"] = input_df[[\"acq2\", \"acq3\", \"acq4\", \"acq5\"]].mean(axis=1) - input_df[\"acq\"]"
   ]
  },
  {
   "cell_type": "code",
   "execution_count": 7,
   "metadata": {},
   "outputs": [],
   "source": [
    "input_df = input_df[input_df[\"y\"].notnull()]\n",
    "input_df = input_df[\n",
    "    (input_df[[\"acq\", \"acq2\", \"acq3\", \"acq4\", \"acq5\"]] <= 6).all(axis=1)\n",
    "]"
   ]
  },
  {
   "cell_type": "code",
   "execution_count": 8,
   "metadata": {},
   "outputs": [],
   "source": [
    "assert len(input_df) == 143, len(input_df)"
   ]
  },
  {
   "cell_type": "markdown",
   "metadata": {},
   "source": [
    "## Explore input data"
   ]
  },
  {
   "cell_type": "code",
   "execution_count": 9,
   "metadata": {},
   "outputs": [
    {
     "data": {
      "image/png": "[encoded data removed]",
      "text/plain": [
       "<Figure size 360x288 with 1 Axes>"
      ]
     },
     "metadata": {
      "needs_background": "light"
     },
     "output_type": "display_data"
    }
   ],
   "source": [
    "fg, ax = plt.subplots(figsize=(5, 4))\n",
    "ax.hist(input_df[\"y\"], bins=20)\n",
    "ax.set_xlabel(\"Change in ACQ\")\n",
    "ax.set_ylabel(\"Number of participants\")\n",
    "None"
   ]
  },
  {
   "cell_type": "code",
   "execution_count": 10,
   "metadata": {},
   "outputs": [
    {
     "data": {
      "text/plain": [
       "Index(['id', 'date_x', 'acq', 'date2', 'acq2', 'date3', 'acq3', 'date4',\n",
       "       'acq4', 'date5', 'acq5', 'co-copd', 'co-heartfailure', 'co-diabetes',\n",
       "       'co-yellowfever', 'co-asthma', 'co-pulmonaryembolism', 'co-bronchitis',\n",
       "       'co-arthritis', 'co-pneumonia', 'medhistory_table', 'assess', 'smoking',\n",
       "       'polyps', 'vaccine', 'arthritis', 'CVD', 'Prev-biologic', 'allergy',\n",
       "       'weight', 'height', 'bmi', 'age', 'race', 'gender', 'work', 'retire',\n",
       "       'disab', 'demographics_table', 'sex', 'date_y', 'clinic', 'infconsent',\n",
       "       '18+', 'eos300', 'eos150', 'sputum', 'acq-screen', 'result', 'y'],\n",
       "      dtype='object')"
      ]
     },
     "execution_count": 10,
     "metadata": {},
     "output_type": "execute_result"
    }
   ],
   "source": [
    "input_df.columns"
   ]
  },
  {
   "cell_type": "code",
   "execution_count": 11,
   "metadata": {},
   "outputs": [],
   "source": [
    "def compute_correlations(df, target_col):\n",
    "    corrs = []\n",
    "    for col in df._get_numeric_data():\n",
    "        if col == target_col:\n",
    "            continue\n",
    "        df_subset = df[[col, target_col]].dropna()\n",
    "        corr = stats.spearmanr(df_subset[col], df_subset[target_col])\n",
    "        corrs.append((target_col, col) + tuple(corr))\n",
    "    df = pd.DataFrame(corrs, columns=[\"col1\", \"col2\", \"corr\", \"pvalue\"])\n",
    "    df = df.sort_values(\"pvalue\", ascending=True)\n",
    "    return df"
   ]
  },
  {
   "cell_type": "code",
   "execution_count": 12,
   "metadata": {},
   "outputs": [
    {
     "name": "stderr",
     "output_type": "stream",
     "text": [
      "/home/ubuntu/anaconda3/envs/defaults-v1/lib/python3.7/site-packages/numpy/lib/function_base.py:2534: RuntimeWarning: invalid value encountered in true_divide\n",
      "  c /= stddev[:, None]\n",
      "/home/ubuntu/anaconda3/envs/defaults-v1/lib/python3.7/site-packages/numpy/lib/function_base.py:2535: RuntimeWarning: invalid value encountered in true_divide\n",
      "  c /= stddev[None, :]\n",
      "/home/ubuntu/anaconda3/envs/defaults-v1/lib/python3.7/site-packages/scipy/stats/_distn_infrastructure.py:901: RuntimeWarning: invalid value encountered in greater\n",
      "  return (a < x) & (x < b)\n",
      "/home/ubuntu/anaconda3/envs/defaults-v1/lib/python3.7/site-packages/scipy/stats/_distn_infrastructure.py:901: RuntimeWarning: invalid value encountered in less\n",
      "  return (a < x) & (x < b)\n",
      "/home/ubuntu/anaconda3/envs/defaults-v1/lib/python3.7/site-packages/scipy/stats/_distn_infrastructure.py:1892: RuntimeWarning: invalid value encountered in less_equal\n",
      "  cond2 = cond0 & (x <= _a)\n"
     ]
    },
    {
     "data": {
      "text/html": [
       "<div>\n",
       "<style scoped>\n",
       "    .dataframe tbody tr th:only-of-type {\n",
       "        vertical-align: middle;\n",
       "    }\n",
       "\n",
       "    .dataframe tbody tr th {\n",
       "        vertical-align: top;\n",
       "    }\n",
       "\n",
       "    .dataframe thead th {\n",
       "        text-align: right;\n",
       "    }\n",
       "</style>\n",
       "<table border=\"1\" class=\"dataframe\">\n",
       "  <thead>\n",
       "    <tr style=\"text-align: right;\">\n",
       "      <th></th>\n",
       "      <th>col1</th>\n",
       "      <th>col2</th>\n",
       "      <th>corr</th>\n",
       "      <th>pvalue</th>\n",
       "    </tr>\n",
       "  </thead>\n",
       "  <tbody>\n",
       "    <tr>\n",
       "      <th>5</th>\n",
       "      <td>y</td>\n",
       "      <td>acq5</td>\n",
       "      <td>0.663667</td>\n",
       "      <td>1.672047e-19</td>\n",
       "    </tr>\n",
       "    <tr>\n",
       "      <th>4</th>\n",
       "      <td>y</td>\n",
       "      <td>acq4</td>\n",
       "      <td>0.646168</td>\n",
       "      <td>2.908548e-18</td>\n",
       "    </tr>\n",
       "    <tr>\n",
       "      <th>3</th>\n",
       "      <td>y</td>\n",
       "      <td>acq3</td>\n",
       "      <td>0.624139</td>\n",
       "      <td>8.222309e-17</td>\n",
       "    </tr>\n",
       "    <tr>\n",
       "      <th>2</th>\n",
       "      <td>y</td>\n",
       "      <td>acq2</td>\n",
       "      <td>0.610862</td>\n",
       "      <td>5.439628e-16</td>\n",
       "    </tr>\n",
       "    <tr>\n",
       "      <th>1</th>\n",
       "      <td>y</td>\n",
       "      <td>acq</td>\n",
       "      <td>-0.567981</td>\n",
       "      <td>1.382140e-13</td>\n",
       "    </tr>\n",
       "    <tr>\n",
       "      <th>28</th>\n",
       "      <td>y</td>\n",
       "      <td>gender</td>\n",
       "      <td>-0.396433</td>\n",
       "      <td>6.776397e-02</td>\n",
       "    </tr>\n",
       "    <tr>\n",
       "      <th>30</th>\n",
       "      <td>y</td>\n",
       "      <td>retire</td>\n",
       "      <td>-0.199471</td>\n",
       "      <td>9.298206e-02</td>\n",
       "    </tr>\n",
       "    <tr>\n",
       "      <th>20</th>\n",
       "      <td>y</td>\n",
       "      <td>arthritis</td>\n",
       "      <td>0.151384</td>\n",
       "      <td>1.213696e-01</td>\n",
       "    </tr>\n",
       "    <tr>\n",
       "      <th>19</th>\n",
       "      <td>y</td>\n",
       "      <td>vaccine</td>\n",
       "      <td>-0.150725</td>\n",
       "      <td>1.230172e-01</td>\n",
       "    </tr>\n",
       "    <tr>\n",
       "      <th>21</th>\n",
       "      <td>y</td>\n",
       "      <td>CVD</td>\n",
       "      <td>0.141872</td>\n",
       "      <td>1.468661e-01</td>\n",
       "    </tr>\n",
       "    <tr>\n",
       "      <th>27</th>\n",
       "      <td>y</td>\n",
       "      <td>age</td>\n",
       "      <td>-0.118638</td>\n",
       "      <td>1.581748e-01</td>\n",
       "    </tr>\n",
       "    <tr>\n",
       "      <th>34</th>\n",
       "      <td>y</td>\n",
       "      <td>clinic</td>\n",
       "      <td>-0.114207</td>\n",
       "      <td>1.744066e-01</td>\n",
       "    </tr>\n",
       "    <tr>\n",
       "      <th>33</th>\n",
       "      <td>y</td>\n",
       "      <td>sex</td>\n",
       "      <td>-0.119035</td>\n",
       "      <td>1.934556e-01</td>\n",
       "    </tr>\n",
       "    <tr>\n",
       "      <th>0</th>\n",
       "      <td>y</td>\n",
       "      <td>id</td>\n",
       "      <td>-0.109321</td>\n",
       "      <td>1.936978e-01</td>\n",
       "    </tr>\n",
       "    <tr>\n",
       "      <th>17</th>\n",
       "      <td>y</td>\n",
       "      <td>smoking</td>\n",
       "      <td>-0.123364</td>\n",
       "      <td>2.077149e-01</td>\n",
       "    </tr>\n",
       "    <tr>\n",
       "      <th>23</th>\n",
       "      <td>y</td>\n",
       "      <td>allergy</td>\n",
       "      <td>0.109273</td>\n",
       "      <td>2.648329e-01</td>\n",
       "    </tr>\n",
       "    <tr>\n",
       "      <th>18</th>\n",
       "      <td>y</td>\n",
       "      <td>polyps</td>\n",
       "      <td>-0.104050</td>\n",
       "      <td>2.884890e-01</td>\n",
       "    </tr>\n",
       "    <tr>\n",
       "      <th>35</th>\n",
       "      <td>y</td>\n",
       "      <td>eos300</td>\n",
       "      <td>0.090098</td>\n",
       "      <td>2.968823e-01</td>\n",
       "    </tr>\n",
       "    <tr>\n",
       "      <th>38</th>\n",
       "      <td>y</td>\n",
       "      <td>acq-screen</td>\n",
       "      <td>-0.084327</td>\n",
       "      <td>3.166610e-01</td>\n",
       "    </tr>\n",
       "    <tr>\n",
       "      <th>22</th>\n",
       "      <td>y</td>\n",
       "      <td>Prev-biologic</td>\n",
       "      <td>0.094373</td>\n",
       "      <td>3.359205e-01</td>\n",
       "    </tr>\n",
       "    <tr>\n",
       "      <th>7</th>\n",
       "      <td>y</td>\n",
       "      <td>co-heartfailure</td>\n",
       "      <td>0.097744</td>\n",
       "      <td>6.818324e-01</td>\n",
       "    </tr>\n",
       "    <tr>\n",
       "      <th>10</th>\n",
       "      <td>y</td>\n",
       "      <td>co-asthma</td>\n",
       "      <td>-0.082707</td>\n",
       "      <td>7.288509e-01</td>\n",
       "    </tr>\n",
       "    <tr>\n",
       "      <th>14</th>\n",
       "      <td>y</td>\n",
       "      <td>co-pneumonia</td>\n",
       "      <td>0.076623</td>\n",
       "      <td>7.413114e-01</td>\n",
       "    </tr>\n",
       "    <tr>\n",
       "      <th>8</th>\n",
       "      <td>y</td>\n",
       "      <td>co-diabetes</td>\n",
       "      <td>0.072727</td>\n",
       "      <td>7.540637e-01</td>\n",
       "    </tr>\n",
       "    <tr>\n",
       "      <th>6</th>\n",
       "      <td>y</td>\n",
       "      <td>co-copd</td>\n",
       "      <td>0.096561</td>\n",
       "      <td>7.652992e-01</td>\n",
       "    </tr>\n",
       "    <tr>\n",
       "      <th>31</th>\n",
       "      <td>y</td>\n",
       "      <td>disab</td>\n",
       "      <td>0.025060</td>\n",
       "      <td>7.664011e-01</td>\n",
       "    </tr>\n",
       "    <tr>\n",
       "      <th>16</th>\n",
       "      <td>y</td>\n",
       "      <td>assess</td>\n",
       "      <td>-0.022571</td>\n",
       "      <td>8.183561e-01</td>\n",
       "    </tr>\n",
       "    <tr>\n",
       "      <th>29</th>\n",
       "      <td>y</td>\n",
       "      <td>work</td>\n",
       "      <td>-0.014061</td>\n",
       "      <td>8.676231e-01</td>\n",
       "    </tr>\n",
       "    <tr>\n",
       "      <th>24</th>\n",
       "      <td>y</td>\n",
       "      <td>weight</td>\n",
       "      <td>0.016199</td>\n",
       "      <td>8.690940e-01</td>\n",
       "    </tr>\n",
       "    <tr>\n",
       "      <th>26</th>\n",
       "      <td>y</td>\n",
       "      <td>bmi</td>\n",
       "      <td>-0.014676</td>\n",
       "      <td>8.813033e-01</td>\n",
       "    </tr>\n",
       "    <tr>\n",
       "      <th>25</th>\n",
       "      <td>y</td>\n",
       "      <td>height</td>\n",
       "      <td>0.012860</td>\n",
       "      <td>8.959031e-01</td>\n",
       "    </tr>\n",
       "    <tr>\n",
       "      <th>15</th>\n",
       "      <td>y</td>\n",
       "      <td>medhistory_table</td>\n",
       "      <td>0.000939</td>\n",
       "      <td>9.911190e-01</td>\n",
       "    </tr>\n",
       "    <tr>\n",
       "      <th>32</th>\n",
       "      <td>y</td>\n",
       "      <td>demographics_table</td>\n",
       "      <td>0.000939</td>\n",
       "      <td>9.911190e-01</td>\n",
       "    </tr>\n",
       "    <tr>\n",
       "      <th>9</th>\n",
       "      <td>y</td>\n",
       "      <td>co-yellowfever</td>\n",
       "      <td>NaN</td>\n",
       "      <td>NaN</td>\n",
       "    </tr>\n",
       "    <tr>\n",
       "      <th>11</th>\n",
       "      <td>y</td>\n",
       "      <td>co-pulmonaryembolism</td>\n",
       "      <td>NaN</td>\n",
       "      <td>NaN</td>\n",
       "    </tr>\n",
       "    <tr>\n",
       "      <th>12</th>\n",
       "      <td>y</td>\n",
       "      <td>co-bronchitis</td>\n",
       "      <td>NaN</td>\n",
       "      <td>NaN</td>\n",
       "    </tr>\n",
       "    <tr>\n",
       "      <th>13</th>\n",
       "      <td>y</td>\n",
       "      <td>co-arthritis</td>\n",
       "      <td>NaN</td>\n",
       "      <td>NaN</td>\n",
       "    </tr>\n",
       "    <tr>\n",
       "      <th>36</th>\n",
       "      <td>y</td>\n",
       "      <td>eos150</td>\n",
       "      <td>NaN</td>\n",
       "      <td>NaN</td>\n",
       "    </tr>\n",
       "    <tr>\n",
       "      <th>37</th>\n",
       "      <td>y</td>\n",
       "      <td>sputum</td>\n",
       "      <td>NaN</td>\n",
       "      <td>NaN</td>\n",
       "    </tr>\n",
       "  </tbody>\n",
       "</table>\n",
       "</div>"
      ],
      "text/plain": [
       "   col1                  col2      corr        pvalue\n",
       "5     y                  acq5  0.663667  1.672047e-19\n",
       "4     y                  acq4  0.646168  2.908548e-18\n",
       "3     y                  acq3  0.624139  8.222309e-17\n",
       "2     y                  acq2  0.610862  5.439628e-16\n",
       "1     y                   acq -0.567981  1.382140e-13\n",
       "28    y                gender -0.396433  6.776397e-02\n",
       "30    y                retire -0.199471  9.298206e-02\n",
       "20    y             arthritis  0.151384  1.213696e-01\n",
       "19    y               vaccine -0.150725  1.230172e-01\n",
       "21    y                   CVD  0.141872  1.468661e-01\n",
       "27    y                   age -0.118638  1.581748e-01\n",
       "34    y                clinic -0.114207  1.744066e-01\n",
       "33    y                   sex -0.119035  1.934556e-01\n",
       "0     y                    id -0.109321  1.936978e-01\n",
       "17    y               smoking -0.123364  2.077149e-01\n",
       "23    y               allergy  0.109273  2.648329e-01\n",
       "18    y                polyps -0.104050  2.884890e-01\n",
       "35    y                eos300  0.090098  2.968823e-01\n",
       "38    y            acq-screen -0.084327  3.166610e-01\n",
       "22    y         Prev-biologic  0.094373  3.359205e-01\n",
       "7     y       co-heartfailure  0.097744  6.818324e-01\n",
       "10    y             co-asthma -0.082707  7.288509e-01\n",
       "14    y          co-pneumonia  0.076623  7.413114e-01\n",
       "8     y           co-diabetes  0.072727  7.540637e-01\n",
       "6     y               co-copd  0.096561  7.652992e-01\n",
       "31    y                 disab  0.025060  7.664011e-01\n",
       "16    y                assess -0.022571  8.183561e-01\n",
       "29    y                  work -0.014061  8.676231e-01\n",
       "24    y                weight  0.016199  8.690940e-01\n",
       "26    y                   bmi -0.014676  8.813033e-01\n",
       "25    y                height  0.012860  8.959031e-01\n",
       "15    y      medhistory_table  0.000939  9.911190e-01\n",
       "32    y    demographics_table  0.000939  9.911190e-01\n",
       "9     y        co-yellowfever       NaN           NaN\n",
       "11    y  co-pulmonaryembolism       NaN           NaN\n",
       "12    y         co-bronchitis       NaN           NaN\n",
       "13    y          co-arthritis       NaN           NaN\n",
       "36    y                eos150       NaN           NaN\n",
       "37    y                sputum       NaN           NaN"
      ]
     },
     "execution_count": 12,
     "metadata": {},
     "output_type": "execute_result"
    }
   ],
   "source": [
    "compute_correlations(input_df, 'y')"
   ]
  },
  {
   "cell_type": "markdown",
   "metadata": {},
   "source": [
    "## Fit model"
   ]
  },
  {
   "cell_type": "code",
   "execution_count": 13,
   "metadata": {},
   "outputs": [],
   "source": [
    "def encode_categorical(df, column):\n",
    "    categories = {c: i for i, c in enumerate(set(df[column]))}\n",
    "    df[column] = df[column].map(categories)"
   ]
  },
  {
   "cell_type": "code",
   "execution_count": 14,
   "metadata": {},
   "outputs": [],
   "source": [
    "def iter_grid_params(grid_params):\n",
    "    if not grid_params:\n",
    "        return [{}]\n",
    "    grid_params = grid_params.copy()\n",
    "    key, values = grid_params.popitem()\n",
    "    result = []\n",
    "    for child_dict in iter_grid_params(grid_params):\n",
    "        for value in values:\n",
    "            result.append({**child_dict, key: value})\n",
    "    return result"
   ]
  },
  {
   "cell_type": "code",
   "execution_count": 15,
   "metadata": {},
   "outputs": [],
   "source": [
    "columns_to_drop = [\n",
    "    #\n",
    "    \"id\",\n",
    "    \"date_x\",\n",
    "    \"date_y\",\n",
    "    \"acq\",\n",
    "    \"date2\",\n",
    "    \"acq2\",\n",
    "    \"date3\",\n",
    "    \"acq3\",\n",
    "    \"date4\",\n",
    "    \"acq4\",\n",
    "    \"date5\",\n",
    "    \"acq5\",\n",
    "    \"assess\",\n",
    "    \"date_x\",\n",
    "    \"date_y\",\n",
    "    \"clinic\",\n",
    "    \"infconsent\",\n",
    "    \"18+\",\n",
    "    #     \"eos300\",\n",
    "    \"eos150\",\n",
    "    \"sputum\",\n",
    "#     \"acq-screen\",\n",
    "    \"result\",\n",
    "]\n",
    "data_df = input_df.drop(pd.Index(columns_to_drop), axis=1)"
   ]
  },
  {
   "cell_type": "code",
   "execution_count": 16,
   "metadata": {},
   "outputs": [],
   "source": [
    "# columns_to_keep = [\n",
    "#     \"y\", \"retire\", \"arthritis\", \"vaccine\",\n",
    "# ]\n",
    "# data_df = data_df[columns_to_keep]"
   ]
  },
  {
   "cell_type": "code",
   "execution_count": 17,
   "metadata": {},
   "outputs": [
    {
     "data": {
      "text/plain": [
       "['medhistory_table', 'race', 'work', 'disab']"
      ]
     },
     "execution_count": 17,
     "metadata": {},
     "output_type": "execute_result"
    }
   ],
   "source": [
    "categorical_feature=[\n",
    "    \"medhistory_table\",\n",
    "    \"race\",\n",
    "    \"ethnicity\",\n",
    "    \"work\",\n",
    "    \"disab\",\n",
    "    \"demographics_tabl\",\n",
    "    \"clinic\",\n",
    "    \"infconsent\",\n",
    "    \"18+\",\n",
    "    \"result\",\n",
    "]\n",
    "categorical_feature = [c for c in categorical_feature if c in data_df]\n",
    "for column in categorical_feature:\n",
    "    encode_categorical(data_df, column)\n",
    "    \n",
    "categorical_feature"
   ]
  },
  {
   "cell_type": "markdown",
   "metadata": {},
   "source": [
    "### Prepare LGB datasets"
   ]
  },
  {
   "cell_type": "code",
   "execution_count": 18,
   "metadata": {},
   "outputs": [],
   "source": [
    "lgb_train_test_splits = []\n",
    "\n",
    "kf = KFold(n_splits=10, shuffle=True, random_state=42)\n",
    "for train_index, test_index in kf.split(data_df):\n",
    "    train_df = data_df.iloc[train_index]\n",
    "    test_df = data_df.iloc[test_index]\n",
    "    X_train = train_df.drop(\"y\", axis=1)\n",
    "    y_train = train_df[\"y\"]\n",
    "    X_test = test_df.drop(\"y\", axis=1)\n",
    "    y_test = test_df[\"y\"]\n",
    "    lgb_train = lgb.Dataset(\n",
    "        X_train, y_train, categorical_feature=categorical_feature, free_raw_data=False\n",
    "    )\n",
    "    lgb_test = lgb.Dataset(\n",
    "        X_test,\n",
    "        y_test,\n",
    "        reference=lgb_train,\n",
    "        categorical_feature=categorical_feature,\n",
    "        free_raw_data=False,\n",
    "    )\n",
    "    lgb_train_test_splits.append((lgb_train, lgb_test))\n",
    "\n",
    "lgb_full = lgb.Dataset(\n",
    "    data_df.drop(\"y\", axis=1),\n",
    "    data_df[\"y\"],\n",
    "    categorical_feature=categorical_feature,\n",
    "    free_raw_data=False,\n",
    ")"
   ]
  },
  {
   "cell_type": "markdown",
   "metadata": {},
   "source": [
    "### Run grid-search"
   ]
  },
  {
   "cell_type": "code",
   "execution_count": 19,
   "metadata": {},
   "outputs": [],
   "source": [
    "grid_params = {\n",
    "    'boosting_type': ['gbdt'],\n",
    "    'learning_rate': [0.05, 0.1, 0.2, 0.5],\n",
    "#     'colsample_bytree' : [0.65, 0.66, 0.8],\n",
    "#     'max_bin': [512],\n",
    "    'max_depth': [0, 2, 4],\n",
    "#     'min_split_gain': [0.5],\n",
    "#     'min_child_weight': [1],\n",
    "#     'min_child_samples': [5],\n",
    "    'num_leaves': [2, 4, 6, 8, 12, 16, 32],\n",
    "#     'num_class' : [1],\n",
    "    'num_iterations': [100, 200, 500, 1000],\n",
    "#     'reg_alpha' : [1, 1.2],\n",
    "#     'reg_lambda' : [1, 1.2, 1.4],\n",
    "#     'subsample_for_bin': [200],\n",
    "    'subsample' : [0.8, 1],\n",
    "#     'subsample_freq': [1],\n",
    "#     'scale_pos_weight': [1],\n",
    "}"
   ]
  },
  {
   "cell_type": "code",
   "execution_count": 20,
   "metadata": {},
   "outputs": [],
   "source": [
    "default_params = {\n",
    "    \"random_state\": 42,\n",
    "    \"objective\": \"regression_l1\",\n",
    "    \"metric\" : [\"l1\", \"l2\"],\n",
    "#     'nthread': 3,\n",
    "}"
   ]
  },
  {
   "cell_type": "code",
   "execution_count": 21,
   "metadata": {},
   "outputs": [
    {
     "data": {
      "application/vnd.jupyter.widget-view+json": {
       "model_id": "ffa326a9dd034c369a9af29990d677c5",
       "version_major": 2,
       "version_minor": 0
      },
      "text/plain": [
       "HBox(children=(IntProgress(value=0, max=672), HTML(value='')))"
      ]
     },
     "metadata": {},
     "output_type": "display_data"
    },
    {
     "name": "stderr",
     "output_type": "stream",
     "text": [
      "/home/ubuntu/anaconda3/envs/defaults-v1/lib/python3.7/site-packages/lightgbm/engine.py:118: UserWarning: Found `num_iterations` in params. Will use it instead of argument\n",
      "  warnings.warn(\"Found `{}` in params. Will use it instead of argument\".format(alias))\n",
      "/home/ubuntu/anaconda3/envs/defaults-v1/lib/python3.7/site-packages/lightgbm/basic.py:1205: UserWarning: Using categorical_feature in Dataset.\n",
      "  warnings.warn('Using categorical_feature in Dataset.')\n",
      "/home/ubuntu/anaconda3/envs/defaults-v1/lib/python3.7/site-packages/lightgbm/basic.py:762: UserWarning: categorical_feature in param dict is overridden.\n",
      "  warnings.warn('categorical_feature in param dict is overridden.')\n"
     ]
    },
    {
     "ename": "KeyboardInterrupt",
     "evalue": "",
     "output_type": "error",
     "traceback": [
      "\u001b[0;31m---------------------------------------------------------------------------\u001b[0m",
      "\u001b[0;31mKeyboardInterrupt\u001b[0m                         Traceback (most recent call last)",
      "\u001b[0;32m<ipython-input-21-6e23bce1be77>\u001b[0m in \u001b[0;36m<module>\u001b[0;34m\u001b[0m\n\u001b[1;32m     15\u001b[0m             \u001b[0mvalid_sets\u001b[0m\u001b[0;34m=\u001b[0m\u001b[0;34m[\u001b[0m\u001b[0mlgb_train\u001b[0m\u001b[0;34m,\u001b[0m \u001b[0mlgb_test\u001b[0m\u001b[0;34m]\u001b[0m\u001b[0;34m,\u001b[0m\u001b[0;34m\u001b[0m\u001b[0;34m\u001b[0m\u001b[0m\n\u001b[1;32m     16\u001b[0m             \u001b[0mearly_stopping_rounds\u001b[0m\u001b[0;34m=\u001b[0m\u001b[0;32mNone\u001b[0m\u001b[0;34m,\u001b[0m\u001b[0;34m\u001b[0m\u001b[0;34m\u001b[0m\u001b[0m\n\u001b[0;32m---> 17\u001b[0;31m             \u001b[0mverbose_eval\u001b[0m\u001b[0;34m=\u001b[0m\u001b[0;36m0\u001b[0m\u001b[0;34m,\u001b[0m\u001b[0;34m\u001b[0m\u001b[0;34m\u001b[0m\u001b[0m\n\u001b[0m\u001b[1;32m     18\u001b[0m         )\n\u001b[1;32m     19\u001b[0m         \u001b[0mstats\u001b[0m\u001b[0;34m[\u001b[0m\u001b[0;34m\"best_score_training_l1\"\u001b[0m\u001b[0;34m]\u001b[0m\u001b[0;34m.\u001b[0m\u001b[0mappend\u001b[0m\u001b[0;34m(\u001b[0m\u001b[0mgbm\u001b[0m\u001b[0;34m.\u001b[0m\u001b[0mbest_score\u001b[0m\u001b[0;34m[\u001b[0m\u001b[0;34m\"training\"\u001b[0m\u001b[0;34m]\u001b[0m\u001b[0;34m[\u001b[0m\u001b[0;34m\"l1\"\u001b[0m\u001b[0;34m]\u001b[0m\u001b[0;34m)\u001b[0m\u001b[0;34m\u001b[0m\u001b[0;34m\u001b[0m\u001b[0m\n",
      "\u001b[0;32m~/anaconda3/envs/defaults-v1/lib/python3.7/site-packages/lightgbm/engine.py\u001b[0m in \u001b[0;36mtrain\u001b[0;34m(params, train_set, num_boost_round, valid_sets, valid_names, fobj, feval, init_model, feature_name, categorical_feature, early_stopping_rounds, evals_result, verbose_eval, learning_rates, keep_training_booster, callbacks)\u001b[0m\n\u001b[1;32m    216\u001b[0m                                     evaluation_result_list=None))\n\u001b[1;32m    217\u001b[0m \u001b[0;34m\u001b[0m\u001b[0m\n\u001b[0;32m--> 218\u001b[0;31m         \u001b[0mbooster\u001b[0m\u001b[0;34m.\u001b[0m\u001b[0mupdate\u001b[0m\u001b[0;34m(\u001b[0m\u001b[0mfobj\u001b[0m\u001b[0;34m=\u001b[0m\u001b[0mfobj\u001b[0m\u001b[0;34m)\u001b[0m\u001b[0;34m\u001b[0m\u001b[0;34m\u001b[0m\u001b[0m\n\u001b[0m\u001b[1;32m    219\u001b[0m \u001b[0;34m\u001b[0m\u001b[0m\n\u001b[1;32m    220\u001b[0m         \u001b[0mevaluation_result_list\u001b[0m \u001b[0;34m=\u001b[0m \u001b[0;34m[\u001b[0m\u001b[0;34m]\u001b[0m\u001b[0;34m\u001b[0m\u001b[0;34m\u001b[0m\u001b[0m\n",
      "\u001b[0;32m~/anaconda3/envs/defaults-v1/lib/python3.7/site-packages/lightgbm/basic.py\u001b[0m in \u001b[0;36mupdate\u001b[0;34m(self, train_set, fobj)\u001b[0m\n\u001b[1;32m   1800\u001b[0m             _safe_call(_LIB.LGBM_BoosterUpdateOneIter(\n\u001b[1;32m   1801\u001b[0m                 \u001b[0mself\u001b[0m\u001b[0;34m.\u001b[0m\u001b[0mhandle\u001b[0m\u001b[0;34m,\u001b[0m\u001b[0;34m\u001b[0m\u001b[0;34m\u001b[0m\u001b[0m\n\u001b[0;32m-> 1802\u001b[0;31m                 ctypes.byref(is_finished)))\n\u001b[0m\u001b[1;32m   1803\u001b[0m             \u001b[0mself\u001b[0m\u001b[0;34m.\u001b[0m\u001b[0m__is_predicted_cur_iter\u001b[0m \u001b[0;34m=\u001b[0m \u001b[0;34m[\u001b[0m\u001b[0;32mFalse\u001b[0m \u001b[0;32mfor\u001b[0m \u001b[0m_\u001b[0m \u001b[0;32min\u001b[0m \u001b[0mrange_\u001b[0m\u001b[0;34m(\u001b[0m\u001b[0mself\u001b[0m\u001b[0;34m.\u001b[0m\u001b[0m__num_dataset\u001b[0m\u001b[0;34m)\u001b[0m\u001b[0;34m]\u001b[0m\u001b[0;34m\u001b[0m\u001b[0;34m\u001b[0m\u001b[0m\n\u001b[1;32m   1804\u001b[0m             \u001b[0;32mreturn\u001b[0m \u001b[0mis_finished\u001b[0m\u001b[0;34m.\u001b[0m\u001b[0mvalue\u001b[0m \u001b[0;34m==\u001b[0m \u001b[0;36m1\u001b[0m\u001b[0;34m\u001b[0m\u001b[0;34m\u001b[0m\u001b[0m\n",
      "\u001b[0;31mKeyboardInterrupt\u001b[0m: "
     ]
    }
   ],
   "source": [
    "training_stats = []\n",
    "\n",
    "for params in tqdm.tqdm_notebook(iter_grid_params(grid_params)):\n",
    "    params = {**default_params, **params}\n",
    "    stats = {\n",
    "        \"best_score_training_l1\": [],\n",
    "        \"best_score_training_l2\": [],\n",
    "        \"best_score_valid_l1\": [],\n",
    "        \"best_score_valid_l2\": [],\n",
    "    }\n",
    "    for lgb_train, lgb_test in lgb_train_test_splits:\n",
    "        gbm = lgb.train(\n",
    "            params,\n",
    "            lgb_train,\n",
    "            valid_sets=[lgb_train, lgb_test],\n",
    "            early_stopping_rounds=None,\n",
    "            verbose_eval=0,\n",
    "        )\n",
    "        stats[\"best_score_training_l1\"].append(gbm.best_score[\"training\"][\"l1\"])\n",
    "        stats[\"best_score_training_l2\"].append(gbm.best_score[\"training\"][\"l2\"])\n",
    "        stats[\"best_score_valid_l1\"].append(gbm.best_score[\"valid_1\"][\"l1\"])\n",
    "        stats[\"best_score_valid_l2\"].append(gbm.best_score[\"valid_1\"][\"l2\"])\n",
    "    training_stats.append(\n",
    "        {\n",
    "            **{k: np.mean(v) for k, v in stats.items()},\n",
    "            \"params\": {**default_params, **params},\n",
    "        }\n",
    "    )"
   ]
  },
  {
   "cell_type": "code",
   "execution_count": 22,
   "metadata": {},
   "outputs": [],
   "source": [
    "training_stats_df = pd.DataFrame(training_stats).sort_values(\"best_score_valid_l1\", ascending=True)"
   ]
  },
  {
   "cell_type": "code",
   "execution_count": 23,
   "metadata": {},
   "outputs": [
    {
     "data": {
      "text/html": [
       "<div>\n",
       "<style scoped>\n",
       "    .dataframe tbody tr th:only-of-type {\n",
       "        vertical-align: middle;\n",
       "    }\n",
       "\n",
       "    .dataframe tbody tr th {\n",
       "        vertical-align: top;\n",
       "    }\n",
       "\n",
       "    .dataframe thead th {\n",
       "        text-align: right;\n",
       "    }\n",
       "</style>\n",
       "<table border=\"1\" class=\"dataframe\">\n",
       "  <thead>\n",
       "    <tr style=\"text-align: right;\">\n",
       "      <th></th>\n",
       "      <th>best_score_training_l1</th>\n",
       "      <th>best_score_training_l2</th>\n",
       "      <th>best_score_valid_l1</th>\n",
       "      <th>best_score_valid_l2</th>\n",
       "      <th>params</th>\n",
       "    </tr>\n",
       "  </thead>\n",
       "  <tbody>\n",
       "    <tr>\n",
       "      <th>0</th>\n",
       "      <td>1.266664</td>\n",
       "      <td>2.749968</td>\n",
       "      <td>1.472049</td>\n",
       "      <td>3.305888</td>\n",
       "      <td>{'random_state': 42, 'objective': 'regression_...</td>\n",
       "    </tr>\n",
       "    <tr>\n",
       "      <th>1</th>\n",
       "      <td>1.266664</td>\n",
       "      <td>2.749968</td>\n",
       "      <td>1.472049</td>\n",
       "      <td>3.305888</td>\n",
       "      <td>{'random_state': 42, 'objective': 'regression_...</td>\n",
       "    </tr>\n",
       "  </tbody>\n",
       "</table>\n",
       "</div>"
      ],
      "text/plain": [
       "   best_score_training_l1  best_score_training_l2  best_score_valid_l1  \\\n",
       "0                1.266664                2.749968             1.472049   \n",
       "1                1.266664                2.749968             1.472049   \n",
       "\n",
       "   best_score_valid_l2                                             params  \n",
       "0             3.305888  {'random_state': 42, 'objective': 'regression_...  \n",
       "1             3.305888  {'random_state': 42, 'objective': 'regression_...  "
      ]
     },
     "execution_count": 23,
     "metadata": {},
     "output_type": "execute_result"
    }
   ],
   "source": [
    "training_stats_df.head(5)"
   ]
  },
  {
   "cell_type": "code",
   "execution_count": 24,
   "metadata": {},
   "outputs": [],
   "source": [
    "df = pd.DataFrame(training_stats_df[\"params\"].tolist())"
   ]
  },
  {
   "cell_type": "code",
   "execution_count": 25,
   "metadata": {},
   "outputs": [
    {
     "data": {
      "image/png": "[encoded data removed]",
      "text/plain": [
       "<Figure size 432x288 with 1 Axes>"
      ]
     },
     "metadata": {
      "needs_background": "light"
     },
     "output_type": "display_data"
    }
   ],
   "source": [
    "for key in df:\n",
    "    if isinstance(df[key][0], list):\n",
    "        continue\n",
    "    if len(df[key].drop_duplicates()) == 1:\n",
    "        continue\n",
    "    plt.plot(df[key])\n",
    "    plt.title(key)\n",
    "    plt.show()"
   ]
  },
  {
   "cell_type": "markdown",
   "metadata": {},
   "source": [
    "### Train best model"
   ]
  },
  {
   "cell_type": "code",
   "execution_count": 26,
   "metadata": {},
   "outputs": [],
   "source": [
    "best_params = training_stats_df.iloc[0][\"params\"].copy()"
   ]
  },
  {
   "cell_type": "code",
   "execution_count": 27,
   "metadata": {},
   "outputs": [],
   "source": [
    "gbm = lgb.train(best_params, lgb_full, valid_sets=[lgb_full], verbose_eval=0)"
   ]
  },
  {
   "cell_type": "code",
   "execution_count": 28,
   "metadata": {},
   "outputs": [
    {
     "data": {
      "text/plain": [
       "defaultdict(dict,\n",
       "            {'training': {'l2': 2.750416110278923, 'l1': 1.2720848837504135}})"
      ]
     },
     "execution_count": 28,
     "metadata": {},
     "output_type": "execute_result"
    }
   ],
   "source": [
    "gbm.best_score"
   ]
  },
  {
   "cell_type": "code",
   "execution_count": 29,
   "metadata": {},
   "outputs": [
    {
     "data": {
      "text/plain": [
       "100"
      ]
     },
     "execution_count": 29,
     "metadata": {},
     "output_type": "execute_result"
    }
   ],
   "source": [
    "gbm.num_trees()"
   ]
  },
  {
   "cell_type": "markdown",
   "metadata": {},
   "source": [
    "### Feature importances"
   ]
  },
  {
   "cell_type": "code",
   "execution_count": 44,
   "metadata": {},
   "outputs": [
    {
     "data": {
      "image/png": "[encoded data removed]",
      "text/plain": [
       "<Figure size 288x360 with 1 Axes>"
      ]
     },
     "metadata": {
      "needs_background": "light"
     },
     "output_type": "display_data"
    }
   ],
   "source": [
    "fg, ax = plt.subplots(figsize=(4, 5))\n",
    "\n",
    "with plt.rc_context(rc={\"font.size\": 10}):\n",
    "    lgb.plot_importance(gbm, ax=ax)\n",
    "fg.savefig(NOTEBOOK_PATH / \"feature-importance.svg\", bbox_inches=\"tight\")"
   ]
  },
  {
   "cell_type": "markdown",
   "metadata": {},
   "source": [
    "### Cross-validation accuracy"
   ]
  },
  {
   "cell_type": "code",
   "execution_count": 52,
   "metadata": {},
   "outputs": [],
   "source": [
    "actual = []\n",
    "predicted = []\n",
    "\n",
    "for lgb_train, lgb_test in lgb_train_test_splits:\n",
    "    gbm_sub = lgb.train(\n",
    "        best_params,\n",
    "        lgb_train,\n",
    "        valid_sets=[lgb_train, lgb_test],\n",
    "        early_stopping_rounds=None,\n",
    "        verbose_eval=0,\n",
    "    )\n",
    "    actual.extend(lgb_test.label.tolist())\n",
    "    predicted.extend(gbm_sub.predict(lgb_test.data).tolist())"
   ]
  },
  {
   "cell_type": "code",
   "execution_count": 61,
   "metadata": {},
   "outputs": [
    {
     "data": {
      "image/png": "[encoded data removed]",
      "text/plain": [
       "<Figure size 504x360 with 1 Axes>"
      ]
     },
     "metadata": {
      "needs_background": "light"
     },
     "output_type": "display_data"
    }
   ],
   "source": [
    "fg, ax = plt.subplots(figsize=(7, 5))\n",
    "\n",
    "with plt.rc_context({\"font.size\": 12}):\n",
    "    ax.set_xlabel(\"Predicted change in ACQ score\")\n",
    "    ax.set_ylabel(\"Actual change in ACQ score\")\n",
    "    ax.plot(predicted, actual, 'r.')\n",
    "    par = np.polyfit(predicted, actual, 1, full=True)"
   ]
  },
  {
   "cell_type": "code",
   "execution_count": null,
   "metadata": {},
   "outputs": [],
   "source": []
  },
  {
   "cell_type": "code",
   "execution_count": null,
   "metadata": {},
   "outputs": [],
   "source": []
  },
  {
   "cell_type": "code",
   "execution_count": null,
   "metadata": {},
   "outputs": [],
   "source": []
  },
  {
   "cell_type": "code",
   "execution_count": null,
   "metadata": {},
   "outputs": [],
   "source": []
  },
  {
   "cell_type": "code",
   "execution_count": 45,
   "metadata": {},
   "outputs": [
    {
     "name": "stdout",
     "output_type": "stream",
     "text": [
      "s\n"
     ]
    }
   ],
   "source": [
    "print('s')"
   ]
  },
  {
   "cell_type": "code",
   "execution_count": null,
   "metadata": {},
   "outputs": [],
   "source": [
    "acq-screen, eos300, id, birthyear"
   ]
  }
 ],
 "metadata": {
  "kernelspec": {
   "display_name": "Python [conda env:defaults-v1]",
   "language": "python",
   "name": "conda-env-defaults-v1-py"
  },
  "language_info": {
   "codemirror_mode": {
    "name": "ipython",
    "version": 3
   },
   "file_extension": ".py",
   "mimetype": "text/x-python",
   "name": "python",
   "nbconvert_exporter": "python",
   "pygments_lexer": "ipython3",
   "version": "3.7.3"
  }
 },
 "nbformat": 4,
 "nbformat_minor": 4
}
