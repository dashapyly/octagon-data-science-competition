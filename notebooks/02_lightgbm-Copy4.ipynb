{
 "cells": [
  {
   "cell_type": "markdown",
   "metadata": {},
   "source": [
    "## Summary\n",
    "\n",
    "---"
   ]
  },
  {
   "cell_type": "markdown",
   "metadata": {},
   "source": [
    "## Imports"
   ]
  },
  {
   "cell_type": "code",
   "execution_count": 1,
   "metadata": {},
   "outputs": [],
   "source": [
    "from pathlib import Path\n",
    "\n",
    "import tqdm\n",
    "import numpy as np\n",
    "import pandas as pd\n",
    "import pyarrow as pa\n",
    "import pyarrow.parquet as pq\n",
    "import matplotlib.pyplot as plt\n",
    "import lightgbm as lgb\n",
    "from scipy import stats\n",
    "from sklearn.model_selection import KFold\n",
    "from sklearn.model_selection import GridSearchCV"
   ]
  },
  {
   "cell_type": "code",
   "execution_count": 2,
   "metadata": {},
   "outputs": [],
   "source": [
    "pd.set_option(\"max_rows\", 1000)\n",
    "pd.set_option(\"max_columns\", 1000)"
   ]
  },
  {
   "cell_type": "markdown",
   "metadata": {},
   "source": [
    "## Parameters"
   ]
  },
  {
   "cell_type": "code",
   "execution_count": 3,
   "metadata": {},
   "outputs": [
    {
     "data": {
      "text/plain": [
       "'bayesian-linear-regression'"
      ]
     },
     "execution_count": 3,
     "metadata": {},
     "output_type": "execute_result"
    }
   ],
   "source": [
    "NOTEBOOK_NAME = \"bayesian-linear-regression\"\n",
    "NOTEBOOK_PATH = Path(NOTEBOOK_NAME).resolve()\n",
    "NOTEBOOK_PATH.mkdir(exist_ok=True)\n",
    "NOTEBOOK_NAME"
   ]
  },
  {
   "cell_type": "markdown",
   "metadata": {},
   "source": [
    "## Load data"
   ]
  },
  {
   "cell_type": "code",
   "execution_count": 4,
   "metadata": {},
   "outputs": [],
   "source": [
    "input_df = pq.read_table(\"01_prepare_combined_dataset/combined.parquet\").to_pandas()"
   ]
  },
  {
   "cell_type": "code",
   "execution_count": 5,
   "metadata": {},
   "outputs": [],
   "source": [
    "input_df = pq.read_table(\"data-challenge/data_final2.parquet\").to_pandas()"
   ]
  },
  {
   "cell_type": "markdown",
   "metadata": {},
   "source": [
    "## Filter data"
   ]
  },
  {
   "cell_type": "code",
   "execution_count": 6,
   "metadata": {},
   "outputs": [],
   "source": [
    "input_df[\"y\"] = input_df[[\"acq2\", \"acq3\", \"acq4\", \"acq5\"]].mean(axis=1) - input_df[\"acq\"]"
   ]
  },
  {
   "cell_type": "code",
   "execution_count": 7,
   "metadata": {},
   "outputs": [],
   "source": [
    "input_df = input_df[input_df[\"y\"].notnull()]\n",
    "input_df = input_df[\n",
    "    (input_df[[\"acq\", \"acq2\", \"acq3\", \"acq4\", \"acq5\"]] <= 6).all(axis=1)\n",
    "]"
   ]
  },
  {
   "cell_type": "code",
   "execution_count": 8,
   "metadata": {},
   "outputs": [
    {
     "ename": "AssertionError",
     "evalue": "121",
     "output_type": "error",
     "traceback": [
      "\u001b[0;31m---------------------------------------------------------------------------\u001b[0m",
      "\u001b[0;31mAssertionError\u001b[0m                            Traceback (most recent call last)",
      "\u001b[0;32m<ipython-input-8-1b0e24effd5f>\u001b[0m in \u001b[0;36m<module>\u001b[0;34m\u001b[0m\n\u001b[0;32m----> 1\u001b[0;31m \u001b[0;32massert\u001b[0m \u001b[0mlen\u001b[0m\u001b[0;34m(\u001b[0m\u001b[0minput_df\u001b[0m\u001b[0;34m)\u001b[0m \u001b[0;34m==\u001b[0m \u001b[0;36m143\u001b[0m\u001b[0;34m,\u001b[0m \u001b[0mlen\u001b[0m\u001b[0;34m(\u001b[0m\u001b[0minput_df\u001b[0m\u001b[0;34m)\u001b[0m\u001b[0;34m\u001b[0m\u001b[0;34m\u001b[0m\u001b[0m\n\u001b[0m",
      "\u001b[0;31mAssertionError\u001b[0m: 121"
     ]
    }
   ],
   "source": [
    "assert len(input_df) == 143, len(input_df)"
   ]
  },
  {
   "cell_type": "markdown",
   "metadata": {},
   "source": [
    "## Explore input data"
   ]
  },
  {
   "cell_type": "code",
   "execution_count": 9,
   "metadata": {},
   "outputs": [
    {
     "data": {
      "image/png": "[encoded data removed]",
      "text/plain": [
       "<Figure size 360x288 with 1 Axes>"
      ]
     },
     "metadata": {
      "needs_background": "light"
     },
     "output_type": "display_data"
    }
   ],
   "source": [
    "fg, ax = plt.subplots(figsize=(5, 4))\n",
    "ax.hist(input_df[\"y\"], bins=20)\n",
    "ax.set_xlabel(\"Change in ACQ\")\n",
    "ax.set_ylabel(\"Number of participants\")\n",
    "None"
   ]
  },
  {
   "cell_type": "code",
   "execution_count": 10,
   "metadata": {},
   "outputs": [
    {
     "data": {
      "text/plain": [
       "Index(['id', 'race', 'sex', 'work', 'disab', 'smoking', 'polyps', 'vaccine',\n",
       "       'arthritis', 'CVD', 'Prev-biologic', 'allergy', 'weight', 'height',\n",
       "       'age', 'in_study', 'acq', 'acq2', 'acq3', 'acq4', 'acq5', 'time1',\n",
       "       'time2', 'time3', 'time4', 'time5', 'y'],\n",
       "      dtype='object')"
      ]
     },
     "execution_count": 10,
     "metadata": {},
     "output_type": "execute_result"
    }
   ],
   "source": [
    "input_df.columns"
   ]
  },
  {
   "cell_type": "code",
   "execution_count": 11,
   "metadata": {},
   "outputs": [],
   "source": [
    "def compute_correlations(df, target_col):\n",
    "    corrs = []\n",
    "    for col in df._get_numeric_data():\n",
    "        if col == target_col:\n",
    "            continue\n",
    "        df_subset = df[[col, target_col]].dropna()\n",
    "        corr = stats.spearmanr(df_subset[col], df_subset[target_col])\n",
    "        corrs.append((target_col, col) + tuple(corr))\n",
    "    df = pd.DataFrame(corrs, columns=[\"col1\", \"col2\", \"corr\", \"pvalue\"])\n",
    "    df = df.sort_values(\"pvalue\", ascending=True)\n",
    "    return df"
   ]
  },
  {
   "cell_type": "code",
   "execution_count": 12,
   "metadata": {},
   "outputs": [
    {
     "name": "stderr",
     "output_type": "stream",
     "text": [
      "/home/ubuntu/anaconda3/envs/defaults-v1/lib/python3.7/site-packages/numpy/lib/function_base.py:2534: RuntimeWarning: invalid value encountered in true_divide\n",
      "  c /= stddev[:, None]\n",
      "/home/ubuntu/anaconda3/envs/defaults-v1/lib/python3.7/site-packages/numpy/lib/function_base.py:2535: RuntimeWarning: invalid value encountered in true_divide\n",
      "  c /= stddev[None, :]\n",
      "/home/ubuntu/anaconda3/envs/defaults-v1/lib/python3.7/site-packages/scipy/stats/_distn_infrastructure.py:901: RuntimeWarning: invalid value encountered in greater\n",
      "  return (a < x) & (x < b)\n",
      "/home/ubuntu/anaconda3/envs/defaults-v1/lib/python3.7/site-packages/scipy/stats/_distn_infrastructure.py:901: RuntimeWarning: invalid value encountered in less\n",
      "  return (a < x) & (x < b)\n",
      "/home/ubuntu/anaconda3/envs/defaults-v1/lib/python3.7/site-packages/scipy/stats/_distn_infrastructure.py:1892: RuntimeWarning: invalid value encountered in less_equal\n",
      "  cond2 = cond0 & (x <= _a)\n"
     ]
    },
    {
     "data": {
      "text/html": [
       "<div>\n",
       "<style scoped>\n",
       "    .dataframe tbody tr th:only-of-type {\n",
       "        vertical-align: middle;\n",
       "    }\n",
       "\n",
       "    .dataframe tbody tr th {\n",
       "        vertical-align: top;\n",
       "    }\n",
       "\n",
       "    .dataframe thead th {\n",
       "        text-align: right;\n",
       "    }\n",
       "</style>\n",
       "<table border=\"1\" class=\"dataframe\">\n",
       "  <thead>\n",
       "    <tr style=\"text-align: right;\">\n",
       "      <th></th>\n",
       "      <th>col1</th>\n",
       "      <th>col2</th>\n",
       "      <th>corr</th>\n",
       "      <th>pvalue</th>\n",
       "    </tr>\n",
       "  </thead>\n",
       "  <tbody>\n",
       "    <tr>\n",
       "      <th>19</th>\n",
       "      <td>y</td>\n",
       "      <td>acq5</td>\n",
       "      <td>0.678754</td>\n",
       "      <td>1.177571e-17</td>\n",
       "    </tr>\n",
       "    <tr>\n",
       "      <th>18</th>\n",
       "      <td>y</td>\n",
       "      <td>acq4</td>\n",
       "      <td>0.651975</td>\n",
       "      <td>5.512339e-16</td>\n",
       "    </tr>\n",
       "    <tr>\n",
       "      <th>17</th>\n",
       "      <td>y</td>\n",
       "      <td>acq3</td>\n",
       "      <td>0.631515</td>\n",
       "      <td>8.104874e-15</td>\n",
       "    </tr>\n",
       "    <tr>\n",
       "      <th>16</th>\n",
       "      <td>y</td>\n",
       "      <td>acq2</td>\n",
       "      <td>0.611533</td>\n",
       "      <td>9.296634e-14</td>\n",
       "    </tr>\n",
       "    <tr>\n",
       "      <th>15</th>\n",
       "      <td>y</td>\n",
       "      <td>acq</td>\n",
       "      <td>-0.566924</td>\n",
       "      <td>1.211566e-11</td>\n",
       "    </tr>\n",
       "    <tr>\n",
       "      <th>7</th>\n",
       "      <td>y</td>\n",
       "      <td>arthritis</td>\n",
       "      <td>0.151384</td>\n",
       "      <td>1.213696e-01</td>\n",
       "    </tr>\n",
       "    <tr>\n",
       "      <th>6</th>\n",
       "      <td>y</td>\n",
       "      <td>vaccine</td>\n",
       "      <td>-0.150725</td>\n",
       "      <td>1.230172e-01</td>\n",
       "    </tr>\n",
       "    <tr>\n",
       "      <th>8</th>\n",
       "      <td>y</td>\n",
       "      <td>CVD</td>\n",
       "      <td>0.141872</td>\n",
       "      <td>1.468661e-01</td>\n",
       "    </tr>\n",
       "    <tr>\n",
       "      <th>13</th>\n",
       "      <td>y</td>\n",
       "      <td>age</td>\n",
       "      <td>-0.122981</td>\n",
       "      <td>1.789939e-01</td>\n",
       "    </tr>\n",
       "    <tr>\n",
       "      <th>1</th>\n",
       "      <td>y</td>\n",
       "      <td>sex</td>\n",
       "      <td>-0.119035</td>\n",
       "      <td>1.934556e-01</td>\n",
       "    </tr>\n",
       "    <tr>\n",
       "      <th>4</th>\n",
       "      <td>y</td>\n",
       "      <td>smoking</td>\n",
       "      <td>-0.123364</td>\n",
       "      <td>2.077149e-01</td>\n",
       "    </tr>\n",
       "    <tr>\n",
       "      <th>0</th>\n",
       "      <td>y</td>\n",
       "      <td>id</td>\n",
       "      <td>-0.114355</td>\n",
       "      <td>2.116851e-01</td>\n",
       "    </tr>\n",
       "    <tr>\n",
       "      <th>21</th>\n",
       "      <td>y</td>\n",
       "      <td>time2</td>\n",
       "      <td>-0.108022</td>\n",
       "      <td>2.382526e-01</td>\n",
       "    </tr>\n",
       "    <tr>\n",
       "      <th>10</th>\n",
       "      <td>y</td>\n",
       "      <td>allergy</td>\n",
       "      <td>0.109273</td>\n",
       "      <td>2.648329e-01</td>\n",
       "    </tr>\n",
       "    <tr>\n",
       "      <th>5</th>\n",
       "      <td>y</td>\n",
       "      <td>polyps</td>\n",
       "      <td>-0.104050</td>\n",
       "      <td>2.884890e-01</td>\n",
       "    </tr>\n",
       "    <tr>\n",
       "      <th>9</th>\n",
       "      <td>y</td>\n",
       "      <td>Prev-biologic</td>\n",
       "      <td>0.094373</td>\n",
       "      <td>3.359205e-01</td>\n",
       "    </tr>\n",
       "    <tr>\n",
       "      <th>24</th>\n",
       "      <td>y</td>\n",
       "      <td>time5</td>\n",
       "      <td>0.083578</td>\n",
       "      <td>3.620800e-01</td>\n",
       "    </tr>\n",
       "    <tr>\n",
       "      <th>22</th>\n",
       "      <td>y</td>\n",
       "      <td>time3</td>\n",
       "      <td>0.044616</td>\n",
       "      <td>6.270234e-01</td>\n",
       "    </tr>\n",
       "    <tr>\n",
       "      <th>2</th>\n",
       "      <td>y</td>\n",
       "      <td>work</td>\n",
       "      <td>-0.015380</td>\n",
       "      <td>8.670265e-01</td>\n",
       "    </tr>\n",
       "    <tr>\n",
       "      <th>11</th>\n",
       "      <td>y</td>\n",
       "      <td>weight</td>\n",
       "      <td>0.016199</td>\n",
       "      <td>8.690940e-01</td>\n",
       "    </tr>\n",
       "    <tr>\n",
       "      <th>3</th>\n",
       "      <td>y</td>\n",
       "      <td>disab</td>\n",
       "      <td>-0.013861</td>\n",
       "      <td>8.800586e-01</td>\n",
       "    </tr>\n",
       "    <tr>\n",
       "      <th>23</th>\n",
       "      <td>y</td>\n",
       "      <td>time4</td>\n",
       "      <td>0.013325</td>\n",
       "      <td>8.846635e-01</td>\n",
       "    </tr>\n",
       "    <tr>\n",
       "      <th>12</th>\n",
       "      <td>y</td>\n",
       "      <td>height</td>\n",
       "      <td>0.012860</td>\n",
       "      <td>8.959031e-01</td>\n",
       "    </tr>\n",
       "    <tr>\n",
       "      <th>14</th>\n",
       "      <td>y</td>\n",
       "      <td>in_study</td>\n",
       "      <td>NaN</td>\n",
       "      <td>NaN</td>\n",
       "    </tr>\n",
       "    <tr>\n",
       "      <th>20</th>\n",
       "      <td>y</td>\n",
       "      <td>time1</td>\n",
       "      <td>NaN</td>\n",
       "      <td>NaN</td>\n",
       "    </tr>\n",
       "  </tbody>\n",
       "</table>\n",
       "</div>"
      ],
      "text/plain": [
       "   col1           col2      corr        pvalue\n",
       "19    y           acq5  0.678754  1.177571e-17\n",
       "18    y           acq4  0.651975  5.512339e-16\n",
       "17    y           acq3  0.631515  8.104874e-15\n",
       "16    y           acq2  0.611533  9.296634e-14\n",
       "15    y            acq -0.566924  1.211566e-11\n",
       "7     y      arthritis  0.151384  1.213696e-01\n",
       "6     y        vaccine -0.150725  1.230172e-01\n",
       "8     y            CVD  0.141872  1.468661e-01\n",
       "13    y            age -0.122981  1.789939e-01\n",
       "1     y            sex -0.119035  1.934556e-01\n",
       "4     y        smoking -0.123364  2.077149e-01\n",
       "0     y             id -0.114355  2.116851e-01\n",
       "21    y          time2 -0.108022  2.382526e-01\n",
       "10    y        allergy  0.109273  2.648329e-01\n",
       "5     y         polyps -0.104050  2.884890e-01\n",
       "9     y  Prev-biologic  0.094373  3.359205e-01\n",
       "24    y          time5  0.083578  3.620800e-01\n",
       "22    y          time3  0.044616  6.270234e-01\n",
       "2     y           work -0.015380  8.670265e-01\n",
       "11    y         weight  0.016199  8.690940e-01\n",
       "3     y          disab -0.013861  8.800586e-01\n",
       "23    y          time4  0.013325  8.846635e-01\n",
       "12    y         height  0.012860  8.959031e-01\n",
       "14    y       in_study       NaN           NaN\n",
       "20    y          time1       NaN           NaN"
      ]
     },
     "execution_count": 12,
     "metadata": {},
     "output_type": "execute_result"
    }
   ],
   "source": [
    "compute_correlations(input_df, 'y')"
   ]
  },
  {
   "cell_type": "markdown",
   "metadata": {},
   "source": [
    "## Fit model"
   ]
  },
  {
   "cell_type": "code",
   "execution_count": 13,
   "metadata": {},
   "outputs": [],
   "source": [
    "def encode_categorical(df, column):\n",
    "    categories = {c: i for i, c in enumerate(set(df[column]))}\n",
    "    df[column] = df[column].map(categories)"
   ]
  },
  {
   "cell_type": "code",
   "execution_count": 14,
   "metadata": {},
   "outputs": [],
   "source": [
    "def iter_grid_params(grid_params):\n",
    "    if not grid_params:\n",
    "        return [{}]\n",
    "    grid_params = grid_params.copy()\n",
    "    key, values = grid_params.popitem()\n",
    "    result = []\n",
    "    for child_dict in iter_grid_params(grid_params):\n",
    "        for value in values:\n",
    "            result.append({**child_dict, key: value})\n",
    "    return result"
   ]
  },
  {
   "cell_type": "code",
   "execution_count": 15,
   "metadata": {},
   "outputs": [],
   "source": [
    "columns_to_drop = [\n",
    "    #\n",
    "    \"id\",\n",
    "    \"date_x\",\n",
    "    \"date_y\",\n",
    "    \"acq\",\n",
    "    \"date2\",\n",
    "    \"acq2\",\n",
    "    \"date3\",\n",
    "    \"acq3\",\n",
    "    \"date4\",\n",
    "    \"acq4\",\n",
    "    \"date5\",\n",
    "    \"acq5\",\n",
    "    \"assess\",\n",
    "    \"date_x\",\n",
    "    \"date_y\",\n",
    "    \"clinic\",\n",
    "    \"infconsent\",\n",
    "    \"18+\",\n",
    "    #     \"eos300\",\n",
    "    \"eos150\",\n",
    "    \"sputum\",\n",
    "    \"acq-screen\",\n",
    "    \"result\",\n",
    "]\n",
    "data_df = input_df.drop(pd.Index(columns_to_drop), axis=1)"
   ]
  },
  {
   "cell_type": "code",
   "execution_count": 16,
   "metadata": {},
   "outputs": [],
   "source": [
    "# columns_to_keep = [\n",
    "#     \"y\", \"retire\", \"arthritis\", \"vaccine\",\n",
    "# ]\n",
    "# data_df = data_df[columns_to_keep]"
   ]
  },
  {
   "cell_type": "code",
   "execution_count": 17,
   "metadata": {},
   "outputs": [
    {
     "data": {
      "text/plain": [
       "['medhistory_table', 'race', 'work', 'disab']"
      ]
     },
     "execution_count": 17,
     "metadata": {},
     "output_type": "execute_result"
    }
   ],
   "source": [
    "categorical_feature=[\n",
    "    \"medhistory_table\",\n",
    "    \"race\",\n",
    "    \"ethnicity\",\n",
    "    \"work\",\n",
    "    \"disab\",\n",
    "    \"demographics_tabl\",\n",
    "    \"clinic\",\n",
    "    \"infconsent\",\n",
    "    \"18+\",\n",
    "    \"result\",\n",
    "]\n",
    "categorical_feature = [c for c in categorical_feature if c in data_df]\n",
    "for column in categorical_feature:\n",
    "    encode_categorical(data_df, column)\n",
    "    \n",
    "categorical_feature"
   ]
  },
  {
   "cell_type": "markdown",
   "metadata": {},
   "source": [
    "### Prepare LGB datasets"
   ]
  },
  {
   "cell_type": "code",
   "execution_count": 47,
   "metadata": {},
   "outputs": [
    {
     "data": {
      "text/plain": [
       "Index(['co-copd', 'co-heartfailure', 'co-diabetes', 'co-yellowfever',\n",
       "       'co-asthma', 'co-pulmonaryembolism', 'co-bronchitis', 'co-arthritis',\n",
       "       'co-pneumonia', 'medhistory_table', 'smoking', 'polyps', 'vaccine',\n",
       "       'arthritis', 'CVD', 'Prev-biologic', 'allergy', 'weight', 'height',\n",
       "       'bmi', 'age', 'race', 'gender', 'work', 'retire', 'disab',\n",
       "       'demographics_table', 'sex', 'eos300', 'y'],\n",
       "      dtype='object')"
      ]
     },
     "execution_count": 47,
     "metadata": {},
     "output_type": "execute_result"
    }
   ],
   "source": [
    "data_df.columns"
   ]
  },
  {
   "cell_type": "code",
   "execution_count": 18,
   "metadata": {},
   "outputs": [],
   "source": [
    "lgb_train_test_splits = []\n",
    "\n",
    "kf = KFold(n_splits=10, shuffle=True, random_state=42)\n",
    "for train_index, test_index in kf.split(data_df):\n",
    "    train_df = data_df.iloc[train_index]\n",
    "    test_df = data_df.iloc[test_index]\n",
    "    X_train = train_df.drop(\"y\", axis=1)\n",
    "    y_train = train_df[\"y\"]\n",
    "    X_test = test_df.drop(\"y\", axis=1)\n",
    "    y_test = test_df[\"y\"]\n",
    "    lgb_train = lgb.Dataset(\n",
    "        X_train, y_train, categorical_feature=categorical_feature, free_raw_data=False\n",
    "    )\n",
    "    lgb_test = lgb.Dataset(\n",
    "        X_test,\n",
    "        y_test,\n",
    "        reference=lgb_train,\n",
    "        categorical_feature=categorical_feature,\n",
    "        free_raw_data=False,\n",
    "    )\n",
    "    lgb_train_test_splits.append((lgb_train, lgb_test))\n",
    "\n",
    "lgb_full = lgb.Dataset(\n",
    "    data_df.drop(\"y\", axis=1),\n",
    "    data_df[\"y\"],\n",
    "    categorical_feature=categorical_feature,\n",
    "    free_raw_data=False,\n",
    ")"
   ]
  },
  {
   "cell_type": "markdown",
   "metadata": {},
   "source": [
    "### Run grid-search"
   ]
  },
  {
   "cell_type": "code",
   "execution_count": 19,
   "metadata": {},
   "outputs": [],
   "source": [
    "grid_params = {\n",
    "    'boosting_type': ['gbdt'],\n",
    "    'learning_rate': [0.005, 0.01, 0.05, 0.1, 0.2, 0.5],\n",
    "#     'colsample_bytree' : [0.65, 0.66, 0.8],\n",
    "#     'max_bin': [512],\n",
    "    'max_depth': [0, 2, 4, 8, 12, 24, 36],\n",
    "#     'min_split_gain': [0.5],\n",
    "#     'min_child_weight': [1],\n",
    "#     'min_child_samples': [5],\n",
    "    'num_leaves': [2, 4, 6, 8, 12, 16, 32],\n",
    "#     'num_class' : [1],\n",
    "    'num_iterations': [5, 10, 20, 50, 100, 200, 500],\n",
    "#     'reg_alpha' : [1, 1.2],\n",
    "#     'reg_lambda' : [1, 1.2, 1.4],\n",
    "#     'subsample_for_bin': [200],\n",
    "#     'subsample' : [0.8, 1],\n",
    "#     'subsample_freq': [1],\n",
    "#     'scale_pos_weight': [1],\n",
    "}"
   ]
  },
  {
   "cell_type": "code",
   "execution_count": 20,
   "metadata": {},
   "outputs": [],
   "source": [
    "default_params = {\n",
    "    \"random_state\": 42,\n",
    "    \"objective\": \"regression_l1\",\n",
    "    \"metric\" : [\"l1\", \"l2\"],\n",
    "#     'nthread': 3,\n",
    "}"
   ]
  },
  {
   "cell_type": "code",
   "execution_count": null,
   "metadata": {},
   "outputs": [
    {
     "data": {
      "application/vnd.jupyter.widget-view+json": {
       "model_id": "7aedecd4c87c48b1bbbf2d2f25efc95a",
       "version_major": 2,
       "version_minor": 0
      },
      "text/plain": [
       "HBox(children=(IntProgress(value=0, max=672), HTML(value='')))"
      ]
     },
     "metadata": {},
     "output_type": "display_data"
    },
    {
     "name": "stderr",
     "output_type": "stream",
     "text": [
      "/home/ubuntu/anaconda3/envs/defaults-v1/lib/python3.7/site-packages/lightgbm/engine.py:118: UserWarning: Found `num_iterations` in params. Will use it instead of argument\n",
      "  warnings.warn(\"Found `{}` in params. Will use it instead of argument\".format(alias))\n",
      "/home/ubuntu/anaconda3/envs/defaults-v1/lib/python3.7/site-packages/lightgbm/basic.py:1205: UserWarning: Using categorical_feature in Dataset.\n",
      "  warnings.warn('Using categorical_feature in Dataset.')\n",
      "/home/ubuntu/anaconda3/envs/defaults-v1/lib/python3.7/site-packages/lightgbm/basic.py:762: UserWarning: categorical_feature in param dict is overridden.\n",
      "  warnings.warn('categorical_feature in param dict is overridden.')\n"
     ]
    }
   ],
   "source": [
    "training_stats = []\n",
    "\n",
    "for params in tqdm.tqdm_notebook(iter_grid_params(grid_params)):\n",
    "    params = {**default_params, **params}\n",
    "    stats = {\n",
    "        \"best_score_training_l1\": [],\n",
    "        \"best_score_training_l2\": [],\n",
    "        \"best_score_valid_l1\": [],\n",
    "        \"best_score_valid_l2\": [],\n",
    "    }\n",
    "    for lgb_train, lgb_test in lgb_train_test_splits:\n",
    "        gbm = lgb.train(\n",
    "            params,\n",
    "            lgb_train,\n",
    "            valid_sets=[lgb_train, lgb_test],\n",
    "            early_stopping_rounds=None,\n",
    "            verbose_eval=0,\n",
    "        )\n",
    "        stats[\"best_score_training_l1\"].append(gbm.best_score[\"training\"][\"l1\"])\n",
    "        stats[\"best_score_training_l2\"].append(gbm.best_score[\"training\"][\"l2\"])\n",
    "        stats[\"best_score_valid_l1\"].append(gbm.best_score[\"valid_1\"][\"l1\"])\n",
    "        stats[\"best_score_valid_l2\"].append(gbm.best_score[\"valid_1\"][\"l2\"])\n",
    "    training_stats.append(\n",
    "        {\n",
    "            **{k: np.mean(v) for k, v in stats.items()},\n",
    "            \"params\": {**default_params, **params},\n",
    "        }\n",
    "    )"
   ]
  },
  {
   "cell_type": "code",
   "execution_count": 33,
   "metadata": {},
   "outputs": [],
   "source": [
    "training_stats_df = pd.DataFrame(training_stats).sort_values(\"best_score_valid_l1\", ascending=True)"
   ]
  },
  {
   "cell_type": "code",
   "execution_count": 34,
   "metadata": {},
   "outputs": [
    {
     "data": {
      "text/html": [
       "<div>\n",
       "<style scoped>\n",
       "    .dataframe tbody tr th:only-of-type {\n",
       "        vertical-align: middle;\n",
       "    }\n",
       "\n",
       "    .dataframe tbody tr th {\n",
       "        vertical-align: top;\n",
       "    }\n",
       "\n",
       "    .dataframe thead th {\n",
       "        text-align: right;\n",
       "    }\n",
       "</style>\n",
       "<table border=\"1\" class=\"dataframe\">\n",
       "  <thead>\n",
       "    <tr style=\"text-align: right;\">\n",
       "      <th></th>\n",
       "      <th>best_score_training_l1</th>\n",
       "      <th>best_score_training_l2</th>\n",
       "      <th>best_score_valid_l1</th>\n",
       "      <th>best_score_valid_l2</th>\n",
       "      <th>params</th>\n",
       "    </tr>\n",
       "  </thead>\n",
       "  <tbody>\n",
       "    <tr>\n",
       "      <th>120</th>\n",
       "      <td>1.039682</td>\n",
       "      <td>2.183952</td>\n",
       "      <td>1.465608</td>\n",
       "      <td>3.285979</td>\n",
       "      <td>{'random_state': 42, 'objective': 'regression_...</td>\n",
       "    </tr>\n",
       "    <tr>\n",
       "      <th>8</th>\n",
       "      <td>1.039682</td>\n",
       "      <td>2.183952</td>\n",
       "      <td>1.465608</td>\n",
       "      <td>3.285979</td>\n",
       "      <td>{'random_state': 42, 'objective': 'regression_...</td>\n",
       "    </tr>\n",
       "    <tr>\n",
       "      <th>9</th>\n",
       "      <td>1.039682</td>\n",
       "      <td>2.183952</td>\n",
       "      <td>1.465608</td>\n",
       "      <td>3.285979</td>\n",
       "      <td>{'random_state': 42, 'objective': 'regression_...</td>\n",
       "    </tr>\n",
       "    <tr>\n",
       "      <th>121</th>\n",
       "      <td>1.039682</td>\n",
       "      <td>2.183952</td>\n",
       "      <td>1.465608</td>\n",
       "      <td>3.285979</td>\n",
       "      <td>{'random_state': 42, 'objective': 'regression_...</td>\n",
       "    </tr>\n",
       "    <tr>\n",
       "      <th>58</th>\n",
       "      <td>1.224376</td>\n",
       "      <td>2.623258</td>\n",
       "      <td>1.470810</td>\n",
       "      <td>3.315936</td>\n",
       "      <td>{'random_state': 42, 'objective': 'regression_...</td>\n",
       "    </tr>\n",
       "  </tbody>\n",
       "</table>\n",
       "</div>"
      ],
      "text/plain": [
       "     best_score_training_l1  best_score_training_l2  best_score_valid_l1  \\\n",
       "120                1.039682                2.183952             1.465608   \n",
       "8                  1.039682                2.183952             1.465608   \n",
       "9                  1.039682                2.183952             1.465608   \n",
       "121                1.039682                2.183952             1.465608   \n",
       "58                 1.224376                2.623258             1.470810   \n",
       "\n",
       "     best_score_valid_l2                                             params  \n",
       "120             3.285979  {'random_state': 42, 'objective': 'regression_...  \n",
       "8               3.285979  {'random_state': 42, 'objective': 'regression_...  \n",
       "9               3.285979  {'random_state': 42, 'objective': 'regression_...  \n",
       "121             3.285979  {'random_state': 42, 'objective': 'regression_...  \n",
       "58              3.315936  {'random_state': 42, 'objective': 'regression_...  "
      ]
     },
     "execution_count": 34,
     "metadata": {},
     "output_type": "execute_result"
    }
   ],
   "source": [
    "training_stats_df.head(5)"
   ]
  },
  {
   "cell_type": "code",
   "execution_count": 35,
   "metadata": {},
   "outputs": [],
   "source": [
    "df = pd.DataFrame(training_stats_df[\"params\"].tolist())"
   ]
  },
  {
   "cell_type": "code",
   "execution_count": 36,
   "metadata": {},
   "outputs": [
    {
     "data": {
      "image/png": "[encoded data removed]",
      "text/plain": [
       "<Figure size 432x288 with 1 Axes>"
      ]
     },
     "metadata": {
      "needs_background": "light"
     },
     "output_type": "display_data"
    },
    {
     "data": {
      "image/png": "[encoded data removed]",
      "text/plain": [
       "<Figure size 432x288 with 1 Axes>"
      ]
     },
     "metadata": {
      "needs_background": "light"
     },
     "output_type": "display_data"
    },
    {
     "data": {
      "image/png": "[encoded data removed]",
      "text/plain": [
       "<Figure size 432x288 with 1 Axes>"
      ]
     },
     "metadata": {
      "needs_background": "light"
     },
     "output_type": "display_data"
    },
    {
     "data": {
      "image/png": "[encoded data removed]",
      "text/plain": [
       "<Figure size 432x288 with 1 Axes>"
      ]
     },
     "metadata": {
      "needs_background": "light"
     },
     "output_type": "display_data"
    },
    {
     "data": {
      "image/png": "[encoded data removed]",
      "text/plain": [
       "<Figure size 432x288 with 1 Axes>"
      ]
     },
     "metadata": {
      "needs_background": "light"
     },
     "output_type": "display_data"
    }
   ],
   "source": [
    "for key in df:\n",
    "    if isinstance(df[key][0], list):\n",
    "        continue\n",
    "    if len(df[key].drop_duplicates()) == 1:\n",
    "        continue\n",
    "    plt.plot(df[key])\n",
    "    plt.title(key)\n",
    "    plt.show()"
   ]
  },
  {
   "cell_type": "markdown",
   "metadata": {},
   "source": [
    "### Train best model"
   ]
  },
  {
   "cell_type": "code",
   "execution_count": 37,
   "metadata": {},
   "outputs": [],
   "source": [
    "best_params = training_stats_df.iloc[0][\"params\"].copy()"
   ]
  },
  {
   "cell_type": "code",
   "execution_count": 38,
   "metadata": {},
   "outputs": [],
   "source": [
    "gbm = lgb.train(best_params, lgb_full, valid_sets=[lgb_full], verbose_eval=0)"
   ]
  },
  {
   "cell_type": "code",
   "execution_count": 39,
   "metadata": {},
   "outputs": [
    {
     "data": {
      "text/plain": [
       "defaultdict(dict,\n",
       "            {'training': {'l2': 2.2242905787002747, 'l1': 1.049925958330076}})"
      ]
     },
     "execution_count": 39,
     "metadata": {},
     "output_type": "execute_result"
    }
   ],
   "source": [
    "gbm.best_score"
   ]
  },
  {
   "cell_type": "code",
   "execution_count": 40,
   "metadata": {},
   "outputs": [
    {
     "data": {
      "text/plain": [
       "100"
      ]
     },
     "execution_count": 40,
     "metadata": {},
     "output_type": "execute_result"
    }
   ],
   "source": [
    "gbm.num_trees()"
   ]
  },
  {
   "cell_type": "markdown",
   "metadata": {},
   "source": [
    "### Feature importances"
   ]
  },
  {
   "cell_type": "code",
   "execution_count": 42,
   "metadata": {},
   "outputs": [
    {
     "data": {
      "image/png": "[encoded data removed]",
      "text/plain": [
       "<Figure size 288x360 with 1 Axes>"
      ]
     },
     "metadata": {
      "needs_background": "light"
     },
     "output_type": "display_data"
    }
   ],
   "source": [
    "fg, ax = plt.subplots(figsize=(4, 5))\n",
    "\n",
    "with plt.rc_context(rc={\"font.size\": 10}):\n",
    "    lgb.plot_importance(gbm, ax=ax)\n",
    "fg.savefig(NOTEBOOK_PATH / \"feature-importance.svg\", bbox_inches=\"tight\")"
   ]
  },
  {
   "cell_type": "markdown",
   "metadata": {},
   "source": [
    "### Cross-validation accuracy"
   ]
  },
  {
   "cell_type": "code",
   "execution_count": 45,
   "metadata": {},
   "outputs": [
    {
     "name": "stderr",
     "output_type": "stream",
     "text": [
      "/home/ubuntu/anaconda3/envs/defaults-v1/lib/python3.7/site-packages/lightgbm/engine.py:118: UserWarning: Found `num_iterations` in params. Will use it instead of argument\n",
      "  warnings.warn(\"Found `{}` in params. Will use it instead of argument\".format(alias))\n",
      "/home/ubuntu/anaconda3/envs/defaults-v1/lib/python3.7/site-packages/lightgbm/basic.py:1205: UserWarning: Using categorical_feature in Dataset.\n",
      "  warnings.warn('Using categorical_feature in Dataset.')\n"
     ]
    }
   ],
   "source": [
    "actual = []\n",
    "predicted = []\n",
    "\n",
    "for lgb_train, lgb_test in lgb_train_test_splits:\n",
    "    gbm_sub = lgb.train(\n",
    "        best_params,\n",
    "        lgb_train,\n",
    "        valid_sets=[lgb_train, lgb_test],\n",
    "        early_stopping_rounds=None,\n",
    "        verbose_eval=0,\n",
    "    )\n",
    "    actual.append(lgb_test.label)\n",
    "    predicted.append(gbm_sub.predict(lgb_test.data))\n",
    "    \n",
    "actual = np.hstack(actual)\n",
    "predicted = np.hstack(predicted)"
   ]
  },
  {
   "cell_type": "code",
   "execution_count": 46,
   "metadata": {},
   "outputs": [
    {
     "data": {
      "image/png": "[encoded data removed]",
      "text/plain": [
       "<Figure size 504x360 with 1 Axes>"
      ]
     },
     "metadata": {
      "needs_background": "light"
     },
     "output_type": "display_data"
    }
   ],
   "source": [
    "fg, ax = plt.subplots(figsize=(7, 5))\n",
    "\n",
    "with plt.rc_context({\"font.size\": 12}):\n",
    "    ax.set_xlabel(\"Predicted change in ACQ score\")\n",
    "    ax.set_ylabel(\"Actual change in ACQ score\")\n",
    "    ax.plot(predicted, actual, 'r.')\n",
    "    par = np.polyfit(predicted, actual, 1, full=True)"
   ]
  },
  {
   "cell_type": "code",
   "execution_count": null,
   "metadata": {},
   "outputs": [],
   "source": []
  },
  {
   "cell_type": "code",
   "execution_count": null,
   "metadata": {},
   "outputs": [],
   "source": []
  }
 ],
 "metadata": {
  "kernelspec": {
   "display_name": "Python [conda env:defaults-v1]",
   "language": "python",
   "name": "conda-env-defaults-v1-py"
  },
  "language_info": {
   "codemirror_mode": {
    "name": "ipython",
    "version": 3
   },
   "file_extension": ".py",
   "mimetype": "text/x-python",
   "name": "python",
   "nbconvert_exporter": "python",
   "pygments_lexer": "ipython3",
   "version": "3.7.3"
  }
 },
 "nbformat": 4,
 "nbformat_minor": 4
}
