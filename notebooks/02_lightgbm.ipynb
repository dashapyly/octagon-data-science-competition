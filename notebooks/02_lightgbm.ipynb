{
 "cells": [
  {
   "cell_type": "markdown",
   "metadata": {},
   "source": [
    "## Summary\n",
    "\n",
    "---"
   ]
  },
  {
   "cell_type": "markdown",
   "metadata": {},
   "source": [
    "## Imports"
   ]
  },
  {
   "cell_type": "code",
   "execution_count": 3,
   "metadata": {},
   "outputs": [],
   "source": [
    "from pathlib import Path\n",
    "\n",
    "import tqdm\n",
    "import numpy as np\n",
    "import pandas as pd\n",
    "import pyarrow as pa\n",
    "import pyarrow.parquet as pq\n",
    "import matplotlib.pyplot as plt\n",
    "import lightgbm as lgb\n",
    "from scipy import stats\n",
    "from sklearn.model_selection import KFold\n",
    "from sklearn.model_selection import GridSearchCV"
   ]
  },
  {
   "cell_type": "code",
   "execution_count": 4,
   "metadata": {},
   "outputs": [],
   "source": [
    "pd.set_option(\"max_rows\", 1000)\n",
    "pd.set_option(\"max_columns\", 1000)"
   ]
  },
  {
   "cell_type": "markdown",
   "metadata": {},
   "source": [
    "## Parameters"
   ]
  },
  {
   "cell_type": "code",
   "execution_count": 5,
   "metadata": {},
   "outputs": [
    {
     "data": {
      "text/plain": [
       "'bayesian-linear-regression'"
      ]
     },
     "execution_count": 5,
     "metadata": {},
     "output_type": "execute_result"
    }
   ],
   "source": [
    "NOTEBOOK_NAME = \"bayesian-linear-regression\"\n",
    "NOTEBOOK_PATH = Path(NOTEBOOK_NAME).resolve()\n",
    "NOTEBOOK_PATH.mkdir(exist_ok=True)\n",
    "NOTEBOOK_NAME"
   ]
  },
  {
   "cell_type": "markdown",
   "metadata": {},
   "source": [
    "## Load data"
   ]
  },
  {
   "cell_type": "code",
   "execution_count": 74,
   "metadata": {},
   "outputs": [],
   "source": [
    "input_df = pq.read_table(\"01_prepare_combined_dataset/combined.parquet\").to_pandas()"
   ]
  },
  {
   "cell_type": "code",
   "execution_count": 75,
   "metadata": {},
   "outputs": [],
   "source": [
    "# input_df = pq.read_table(\"data-challenge/data_final2.parquet\").to_pandas()"
   ]
  },
  {
   "cell_type": "markdown",
   "metadata": {},
   "source": [
    "## Filter data"
   ]
  },
  {
   "cell_type": "code",
   "execution_count": 76,
   "metadata": {},
   "outputs": [],
   "source": [
    "input_df[\"y\"] = input_df[[\"acq2\", \"acq3\", \"acq4\", \"acq5\"]].mean(axis=1) - input_df[\"acq\"]"
   ]
  },
  {
   "cell_type": "code",
   "execution_count": 77,
   "metadata": {},
   "outputs": [],
   "source": [
    "input_df = input_df[input_df[\"y\"].notnull()]\n",
    "input_df = input_df[\n",
    "    (input_df[[\"acq\", \"acq2\", \"acq3\", \"acq4\", \"acq5\"]] <= 6).all(axis=1)\n",
    "]"
   ]
  },
  {
   "cell_type": "code",
   "execution_count": 78,
   "metadata": {},
   "outputs": [],
   "source": [
    "assert len(input_df) == 143, len(input_df)"
   ]
  },
  {
   "cell_type": "markdown",
   "metadata": {},
   "source": [
    "## Explore input data"
   ]
  },
  {
   "cell_type": "code",
   "execution_count": 80,
   "metadata": {},
   "outputs": [
    {
     "data": {
      "image/png": "[encoded data removed]",
      "text/plain": [
       "<Figure size 360x288 with 1 Axes>"
      ]
     },
     "metadata": {
      "needs_background": "light"
     },
     "output_type": "display_data"
    }
   ],
   "source": [
    "fg, ax = plt.subplots(figsize=(5, 4))\n",
    "ax.hist(input_df[\"y\"], bins=20)\n",
    "ax.set_xlabel(\"Change in ACQ\")\n",
    "ax.set_ylabel(\"Number of participants\")\n",
    "None"
   ]
  },
  {
   "cell_type": "code",
   "execution_count": 81,
   "metadata": {},
   "outputs": [
    {
     "data": {
      "text/plain": [
       "Index(['id', 'date_x', 'acq', 'date2', 'acq2', 'date3', 'acq3', 'date4',\n",
       "       'acq4', 'date5', 'acq5', 'co-copd', 'co-heartfailure', 'co-diabetes',\n",
       "       'co-yellowfever', 'co-asthma', 'co-pulmonaryembolism', 'co-bronchitis',\n",
       "       'co-arthritis', 'co-pneumonia', 'medhistory_table', 'assess_x',\n",
       "       'smoking', 'polyps', 'vaccine', 'arthritis', 'CVD', 'Prev-biologic',\n",
       "       'allergy', 'weight', 'height', 'age', 'race', 'ethnicity', 'gender',\n",
       "       'work', 'retire', 'disab', 'demographics_table', 'assess_y',\n",
       "       'birthyear', 'sex', 'date_y', 'clinic', 'infconsent', '18+', 'eos300',\n",
       "       'eos150', 'sputum', 'acq-screen', 'result', 'y'],\n",
       "      dtype='object')"
      ]
     },
     "execution_count": 81,
     "metadata": {},
     "output_type": "execute_result"
    }
   ],
   "source": [
    "input_df.columns"
   ]
  },
  {
   "cell_type": "code",
   "execution_count": 82,
   "metadata": {},
   "outputs": [],
   "source": [
    "def compute_correlations(df, target_col):\n",
    "    corrs = []\n",
    "    for col in df._get_numeric_data():\n",
    "        if col == target_col:\n",
    "            continue\n",
    "        df_subset = df[[col, target_col]].dropna()\n",
    "        corr = stats.spearmanr(df_subset[col], df_subset[target_col])\n",
    "        corrs.append((target_col, col) + tuple(corr))\n",
    "    df = pd.DataFrame(corrs, columns=[\"col1\", \"col2\", \"corr\", \"pvalue\"])\n",
    "    df = df.sort_values(\"pvalue\", ascending=True)\n",
    "    return df"
   ]
  },
  {
   "cell_type": "code",
   "execution_count": 84,
   "metadata": {},
   "outputs": [
    {
     "data": {
      "text/html": [
       "<div>\n",
       "<style scoped>\n",
       "    .dataframe tbody tr th:only-of-type {\n",
       "        vertical-align: middle;\n",
       "    }\n",
       "\n",
       "    .dataframe tbody tr th {\n",
       "        vertical-align: top;\n",
       "    }\n",
       "\n",
       "    .dataframe thead th {\n",
       "        text-align: right;\n",
       "    }\n",
       "</style>\n",
       "<table border=\"1\" class=\"dataframe\">\n",
       "  <thead>\n",
       "    <tr style=\"text-align: right;\">\n",
       "      <th></th>\n",
       "      <th>col1</th>\n",
       "      <th>col2</th>\n",
       "      <th>corr</th>\n",
       "      <th>pvalue</th>\n",
       "    </tr>\n",
       "  </thead>\n",
       "  <tbody>\n",
       "    <tr>\n",
       "      <th>5</th>\n",
       "      <td>y</td>\n",
       "      <td>acq5</td>\n",
       "      <td>0.663667</td>\n",
       "      <td>1.672047e-19</td>\n",
       "    </tr>\n",
       "    <tr>\n",
       "      <th>4</th>\n",
       "      <td>y</td>\n",
       "      <td>acq4</td>\n",
       "      <td>0.646168</td>\n",
       "      <td>2.908548e-18</td>\n",
       "    </tr>\n",
       "    <tr>\n",
       "      <th>3</th>\n",
       "      <td>y</td>\n",
       "      <td>acq3</td>\n",
       "      <td>0.624139</td>\n",
       "      <td>8.222309e-17</td>\n",
       "    </tr>\n",
       "    <tr>\n",
       "      <th>2</th>\n",
       "      <td>y</td>\n",
       "      <td>acq2</td>\n",
       "      <td>0.610862</td>\n",
       "      <td>5.439628e-16</td>\n",
       "    </tr>\n",
       "    <tr>\n",
       "      <th>1</th>\n",
       "      <td>y</td>\n",
       "      <td>acq</td>\n",
       "      <td>-0.567981</td>\n",
       "      <td>1.382140e-13</td>\n",
       "    </tr>\n",
       "    <tr>\n",
       "      <th>27</th>\n",
       "      <td>y</td>\n",
       "      <td>gender</td>\n",
       "      <td>-0.396433</td>\n",
       "      <td>6.776397e-02</td>\n",
       "    </tr>\n",
       "    <tr>\n",
       "      <th>29</th>\n",
       "      <td>y</td>\n",
       "      <td>retire</td>\n",
       "      <td>-0.199471</td>\n",
       "      <td>9.298206e-02</td>\n",
       "    </tr>\n",
       "    <tr>\n",
       "      <th>20</th>\n",
       "      <td>y</td>\n",
       "      <td>arthritis</td>\n",
       "      <td>0.151384</td>\n",
       "      <td>1.213696e-01</td>\n",
       "    </tr>\n",
       "    <tr>\n",
       "      <th>19</th>\n",
       "      <td>y</td>\n",
       "      <td>vaccine</td>\n",
       "      <td>-0.150725</td>\n",
       "      <td>1.230172e-01</td>\n",
       "    </tr>\n",
       "    <tr>\n",
       "      <th>21</th>\n",
       "      <td>y</td>\n",
       "      <td>CVD</td>\n",
       "      <td>0.141872</td>\n",
       "      <td>1.468661e-01</td>\n",
       "    </tr>\n",
       "    <tr>\n",
       "      <th>34</th>\n",
       "      <td>y</td>\n",
       "      <td>clinic</td>\n",
       "      <td>-0.114207</td>\n",
       "      <td>1.744066e-01</td>\n",
       "    </tr>\n",
       "    <tr>\n",
       "      <th>32</th>\n",
       "      <td>y</td>\n",
       "      <td>birthyear</td>\n",
       "      <td>0.121362</td>\n",
       "      <td>1.848292e-01</td>\n",
       "    </tr>\n",
       "    <tr>\n",
       "      <th>33</th>\n",
       "      <td>y</td>\n",
       "      <td>sex</td>\n",
       "      <td>-0.119035</td>\n",
       "      <td>1.934556e-01</td>\n",
       "    </tr>\n",
       "    <tr>\n",
       "      <th>0</th>\n",
       "      <td>y</td>\n",
       "      <td>id</td>\n",
       "      <td>-0.109321</td>\n",
       "      <td>1.936978e-01</td>\n",
       "    </tr>\n",
       "    <tr>\n",
       "      <th>17</th>\n",
       "      <td>y</td>\n",
       "      <td>smoking</td>\n",
       "      <td>-0.123364</td>\n",
       "      <td>2.077149e-01</td>\n",
       "    </tr>\n",
       "    <tr>\n",
       "      <th>23</th>\n",
       "      <td>y</td>\n",
       "      <td>allergy</td>\n",
       "      <td>0.109273</td>\n",
       "      <td>2.648329e-01</td>\n",
       "    </tr>\n",
       "    <tr>\n",
       "      <th>18</th>\n",
       "      <td>y</td>\n",
       "      <td>polyps</td>\n",
       "      <td>-0.104050</td>\n",
       "      <td>2.884890e-01</td>\n",
       "    </tr>\n",
       "    <tr>\n",
       "      <th>35</th>\n",
       "      <td>y</td>\n",
       "      <td>eos300</td>\n",
       "      <td>0.090098</td>\n",
       "      <td>2.968823e-01</td>\n",
       "    </tr>\n",
       "    <tr>\n",
       "      <th>38</th>\n",
       "      <td>y</td>\n",
       "      <td>acq-screen</td>\n",
       "      <td>-0.084327</td>\n",
       "      <td>3.166610e-01</td>\n",
       "    </tr>\n",
       "    <tr>\n",
       "      <th>22</th>\n",
       "      <td>y</td>\n",
       "      <td>Prev-biologic</td>\n",
       "      <td>0.094373</td>\n",
       "      <td>3.359205e-01</td>\n",
       "    </tr>\n",
       "    <tr>\n",
       "      <th>7</th>\n",
       "      <td>y</td>\n",
       "      <td>co-heartfailure</td>\n",
       "      <td>0.097744</td>\n",
       "      <td>6.818324e-01</td>\n",
       "    </tr>\n",
       "    <tr>\n",
       "      <th>10</th>\n",
       "      <td>y</td>\n",
       "      <td>co-asthma</td>\n",
       "      <td>-0.082707</td>\n",
       "      <td>7.288509e-01</td>\n",
       "    </tr>\n",
       "    <tr>\n",
       "      <th>14</th>\n",
       "      <td>y</td>\n",
       "      <td>co-pneumonia</td>\n",
       "      <td>0.076623</td>\n",
       "      <td>7.413114e-01</td>\n",
       "    </tr>\n",
       "    <tr>\n",
       "      <th>8</th>\n",
       "      <td>y</td>\n",
       "      <td>co-diabetes</td>\n",
       "      <td>0.072727</td>\n",
       "      <td>7.540637e-01</td>\n",
       "    </tr>\n",
       "    <tr>\n",
       "      <th>6</th>\n",
       "      <td>y</td>\n",
       "      <td>co-copd</td>\n",
       "      <td>0.096561</td>\n",
       "      <td>7.652992e-01</td>\n",
       "    </tr>\n",
       "    <tr>\n",
       "      <th>30</th>\n",
       "      <td>y</td>\n",
       "      <td>disab</td>\n",
       "      <td>0.025060</td>\n",
       "      <td>7.664011e-01</td>\n",
       "    </tr>\n",
       "    <tr>\n",
       "      <th>16</th>\n",
       "      <td>y</td>\n",
       "      <td>assess_x</td>\n",
       "      <td>-0.022571</td>\n",
       "      <td>8.183561e-01</td>\n",
       "    </tr>\n",
       "    <tr>\n",
       "      <th>26</th>\n",
       "      <td>y</td>\n",
       "      <td>age</td>\n",
       "      <td>-0.040124</td>\n",
       "      <td>8.592845e-01</td>\n",
       "    </tr>\n",
       "    <tr>\n",
       "      <th>28</th>\n",
       "      <td>y</td>\n",
       "      <td>work</td>\n",
       "      <td>-0.014061</td>\n",
       "      <td>8.676231e-01</td>\n",
       "    </tr>\n",
       "    <tr>\n",
       "      <th>24</th>\n",
       "      <td>y</td>\n",
       "      <td>weight</td>\n",
       "      <td>0.016199</td>\n",
       "      <td>8.690940e-01</td>\n",
       "    </tr>\n",
       "    <tr>\n",
       "      <th>25</th>\n",
       "      <td>y</td>\n",
       "      <td>height</td>\n",
       "      <td>0.012860</td>\n",
       "      <td>8.959031e-01</td>\n",
       "    </tr>\n",
       "    <tr>\n",
       "      <th>15</th>\n",
       "      <td>y</td>\n",
       "      <td>medhistory_table</td>\n",
       "      <td>0.000939</td>\n",
       "      <td>9.911190e-01</td>\n",
       "    </tr>\n",
       "    <tr>\n",
       "      <th>31</th>\n",
       "      <td>y</td>\n",
       "      <td>demographics_table</td>\n",
       "      <td>0.000939</td>\n",
       "      <td>9.911190e-01</td>\n",
       "    </tr>\n",
       "    <tr>\n",
       "      <th>9</th>\n",
       "      <td>y</td>\n",
       "      <td>co-yellowfever</td>\n",
       "      <td>NaN</td>\n",
       "      <td>NaN</td>\n",
       "    </tr>\n",
       "    <tr>\n",
       "      <th>11</th>\n",
       "      <td>y</td>\n",
       "      <td>co-pulmonaryembolism</td>\n",
       "      <td>NaN</td>\n",
       "      <td>NaN</td>\n",
       "    </tr>\n",
       "    <tr>\n",
       "      <th>12</th>\n",
       "      <td>y</td>\n",
       "      <td>co-bronchitis</td>\n",
       "      <td>NaN</td>\n",
       "      <td>NaN</td>\n",
       "    </tr>\n",
       "    <tr>\n",
       "      <th>13</th>\n",
       "      <td>y</td>\n",
       "      <td>co-arthritis</td>\n",
       "      <td>NaN</td>\n",
       "      <td>NaN</td>\n",
       "    </tr>\n",
       "    <tr>\n",
       "      <th>36</th>\n",
       "      <td>y</td>\n",
       "      <td>eos150</td>\n",
       "      <td>NaN</td>\n",
       "      <td>NaN</td>\n",
       "    </tr>\n",
       "    <tr>\n",
       "      <th>37</th>\n",
       "      <td>y</td>\n",
       "      <td>sputum</td>\n",
       "      <td>NaN</td>\n",
       "      <td>NaN</td>\n",
       "    </tr>\n",
       "  </tbody>\n",
       "</table>\n",
       "</div>"
      ],
      "text/plain": [
       "   col1                  col2      corr        pvalue\n",
       "5     y                  acq5  0.663667  1.672047e-19\n",
       "4     y                  acq4  0.646168  2.908548e-18\n",
       "3     y                  acq3  0.624139  8.222309e-17\n",
       "2     y                  acq2  0.610862  5.439628e-16\n",
       "1     y                   acq -0.567981  1.382140e-13\n",
       "27    y                gender -0.396433  6.776397e-02\n",
       "29    y                retire -0.199471  9.298206e-02\n",
       "20    y             arthritis  0.151384  1.213696e-01\n",
       "19    y               vaccine -0.150725  1.230172e-01\n",
       "21    y                   CVD  0.141872  1.468661e-01\n",
       "34    y                clinic -0.114207  1.744066e-01\n",
       "32    y             birthyear  0.121362  1.848292e-01\n",
       "33    y                   sex -0.119035  1.934556e-01\n",
       "0     y                    id -0.109321  1.936978e-01\n",
       "17    y               smoking -0.123364  2.077149e-01\n",
       "23    y               allergy  0.109273  2.648329e-01\n",
       "18    y                polyps -0.104050  2.884890e-01\n",
       "35    y                eos300  0.090098  2.968823e-01\n",
       "38    y            acq-screen -0.084327  3.166610e-01\n",
       "22    y         Prev-biologic  0.094373  3.359205e-01\n",
       "7     y       co-heartfailure  0.097744  6.818324e-01\n",
       "10    y             co-asthma -0.082707  7.288509e-01\n",
       "14    y          co-pneumonia  0.076623  7.413114e-01\n",
       "8     y           co-diabetes  0.072727  7.540637e-01\n",
       "6     y               co-copd  0.096561  7.652992e-01\n",
       "30    y                 disab  0.025060  7.664011e-01\n",
       "16    y              assess_x -0.022571  8.183561e-01\n",
       "26    y                   age -0.040124  8.592845e-01\n",
       "28    y                  work -0.014061  8.676231e-01\n",
       "24    y                weight  0.016199  8.690940e-01\n",
       "25    y                height  0.012860  8.959031e-01\n",
       "15    y      medhistory_table  0.000939  9.911190e-01\n",
       "31    y    demographics_table  0.000939  9.911190e-01\n",
       "9     y        co-yellowfever       NaN           NaN\n",
       "11    y  co-pulmonaryembolism       NaN           NaN\n",
       "12    y         co-bronchitis       NaN           NaN\n",
       "13    y          co-arthritis       NaN           NaN\n",
       "36    y                eos150       NaN           NaN\n",
       "37    y                sputum       NaN           NaN"
      ]
     },
     "execution_count": 84,
     "metadata": {},
     "output_type": "execute_result"
    }
   ],
   "source": [
    "compute_correlations(input_df, 'y')"
   ]
  },
  {
   "cell_type": "markdown",
   "metadata": {},
   "source": [
    "## Fit model"
   ]
  },
  {
   "cell_type": "code",
   "execution_count": 96,
   "metadata": {},
   "outputs": [],
   "source": [
    "def encode_categorical(df, column):\n",
    "    categories = {c: i for i, c in enumerate(set(df[column]))}\n",
    "    df[column] = df[column].map(categories)"
   ]
  },
  {
   "cell_type": "code",
   "execution_count": null,
   "metadata": {},
   "outputs": [],
   "source": [
    "def iter_grid_params(grid_params):\n",
    "    if not grid_params:\n",
    "        return [{}]\n",
    "    grid_params = grid_params.copy()\n",
    "    key, values = grid_params.popitem()\n",
    "    result = []\n",
    "    for child_dict in iter_grid_params(grid_params):\n",
    "        for value in values:\n",
    "            result.append({**child_dict, key: value})\n",
    "    return result"
   ]
  },
  {
   "cell_type": "code",
   "execution_count": 97,
   "metadata": {},
   "outputs": [],
   "source": [
    "columns_to_drop = [\n",
    "    \"acq\", \n",
    "    'date2', 'acq2', 'date3', 'acq3', 'date4', 'acq4', 'date5', 'acq5',\n",
    "    \"assess_x\", \"assess_y\",\n",
    "    \"date_x\", \"date_y\"\n",
    "]\n",
    "data_df = input_df.drop(pd.Index(columns_to_drop), axis=1)"
   ]
  },
  {
   "cell_type": "code",
   "execution_count": 98,
   "metadata": {},
   "outputs": [],
   "source": [
    "# columns_to_keep = [\n",
    "#     \"y\", \"retire\", \"arthritis\", \"vaccine\",\n",
    "# ]\n",
    "# data_df = data_df[columns_to_keep]"
   ]
  },
  {
   "cell_type": "code",
   "execution_count": 99,
   "metadata": {},
   "outputs": [
    {
     "data": {
      "text/plain": [
       "['medhistory_table',\n",
       " 'race',\n",
       " 'ethnicity',\n",
       " 'work',\n",
       " 'disab',\n",
       " 'clinic',\n",
       " 'infconsent',\n",
       " '18+',\n",
       " 'result']"
      ]
     },
     "execution_count": 99,
     "metadata": {},
     "output_type": "execute_result"
    }
   ],
   "source": [
    "categorical_feature=[\n",
    "    \"medhistory_table\",\n",
    "    \"race\",\n",
    "    \"ethnicity\",\n",
    "    \"work\",\n",
    "    \"disab\",\n",
    "    \"demographics_tabl\",\n",
    "    \"clinic\",\n",
    "    \"infconsent\",\n",
    "    \"18+\",\n",
    "    \"result\",\n",
    "]\n",
    "categorical_feature = [c for c in categorical_feature if c in data_df]\n",
    "for column in categorical_feature:\n",
    "    encode_categorical(data_df, column)\n",
    "    \n",
    "categorical_feature"
   ]
  },
  {
   "cell_type": "markdown",
   "metadata": {},
   "source": [
    "#### Prepare LGB datasets"
   ]
  },
  {
   "cell_type": "code",
   "execution_count": 102,
   "metadata": {},
   "outputs": [],
   "source": [
    "lgb_train_test_splits = []\n",
    "\n",
    "kf = KFold(n_splits=10, shuffle=True, random_state=42)\n",
    "for train_index, test_index in kf.split(data_df):\n",
    "    train_df = data_df.iloc[train_index]\n",
    "    test_df = data_df.iloc[test_index]\n",
    "    X_train = train_df.drop(\"y\", axis=1)\n",
    "    y_train = train_df[\"y\"]\n",
    "    X_test = test_df.drop(\"y\", axis=1)\n",
    "    y_test = test_df[\"y\"]\n",
    "    lgb_train = lgb.Dataset(\n",
    "        X_train, y_train, categorical_feature=categorical_feature, free_raw_data=False\n",
    "    )\n",
    "    lgb_test = lgb.Dataset(\n",
    "        X_test,\n",
    "        y_test,\n",
    "        reference=lgb_train,\n",
    "        categorical_feature=categorical_feature,\n",
    "        free_raw_data=False,\n",
    "    )\n",
    "    lgb_train_test_splits.append((lgb_train, lgb_test))\n",
    "\n",
    "lgb_full = lgb.Dataset(\n",
    "    data_df.drop(\"y\", axis=1),\n",
    "    data_df[\"y\"],\n",
    "    categorical_feature=categorical_feature,\n",
    "    free_raw_data=False,\n",
    ")"
   ]
  },
  {
   "cell_type": "markdown",
   "metadata": {},
   "source": [
    "#### Run grid-search"
   ]
  },
  {
   "cell_type": "code",
   "execution_count": 109,
   "metadata": {},
   "outputs": [],
   "source": [
    "grid_params = {\n",
    "    'boosting_type': ['gbdt'],\n",
    "    'learning_rate': [0.05, 0.1, 0.2, 0.5],\n",
    "#     'colsample_bytree' : [0.65, 0.66, 0.8],\n",
    "#     'max_bin': [512],\n",
    "    'max_depth': [0, 2, 4],\n",
    "#     'min_split_gain': [0.5],\n",
    "#     'min_child_weight': [1],\n",
    "#     'min_child_samples': [5],\n",
    "    'num_leaves': [2, 4, 6, 8, 12, 16, 32],\n",
    "#     'num_class' : [1],\n",
    "    'num_iterations': [100, 200, 500, 1000],\n",
    "#     'reg_alpha' : [1, 1.2],\n",
    "#     'reg_lambda' : [1, 1.2, 1.4],\n",
    "#     'subsample_for_bin': [200],\n",
    "    'subsample' : [0.8, 1],\n",
    "#     'subsample_freq': [1],\n",
    "#     'scale_pos_weight': [1],\n",
    "}"
   ]
  },
  {
   "cell_type": "code",
   "execution_count": 110,
   "metadata": {},
   "outputs": [],
   "source": [
    "default_params = {\n",
    "    \"random_state\": 42,\n",
    "    \"objective\": \"regression_l1\",\n",
    "    \"metric\" : [\"l1\", \"l2\"],\n",
    "#     'nthread': 3,\n",
    "}"
   ]
  },
  {
   "cell_type": "code",
   "execution_count": null,
   "metadata": {},
   "outputs": [
    {
     "data": {
      "application/vnd.jupyter.widget-view+json": {
       "model_id": "89f84658abad4e75818409b751a46614",
       "version_major": 2,
       "version_minor": 0
      },
      "text/plain": [
       "HBox(children=(IntProgress(value=0, max=672), HTML(value='')))"
      ]
     },
     "metadata": {},
     "output_type": "display_data"
    }
   ],
   "source": [
    "training_stats = []\n",
    "\n",
    "for params in tqdm.tqdm_notebook(iter_grid_params(grid_params)):\n",
    "    params = {**default_params, **params}\n",
    "    stats = {\n",
    "        \"best_score_training_l1\": [],\n",
    "        \"best_score_training_l2\": [],\n",
    "        \"best_score_valid_l1\": [],\n",
    "        \"best_score_valid_l2\": [],\n",
    "    }\n",
    "    for lgb_train, lgb_test in lgb_train_test_splits:\n",
    "        gbm = lgb.train(\n",
    "            params,\n",
    "            lgb_train,\n",
    "            valid_sets=[lgb_train, lgb_test],\n",
    "            early_stopping_rounds=None,\n",
    "            verbose_eval=0,\n",
    "        )\n",
    "        stats[\"best_score_training_l1\"].append(gbm.best_score[\"training\"][\"l1\"])\n",
    "        stats[\"best_score_training_l2\"].append(gbm.best_score[\"training\"][\"l2\"])\n",
    "        stats[\"best_score_valid_l1\"].append(gbm.best_score[\"valid_1\"][\"l1\"])\n",
    "        stats[\"best_score_valid_l2\"].append(gbm.best_score[\"valid_1\"][\"l2\"])\n",
    "    training_stats.append(\n",
    "        {\n",
    "            **{k: np.mean(v) for k, v in stats.items()},\n",
    "            \"params\": {**default_params, **params},\n",
    "        }\n",
    "    )"
   ]
  },
  {
   "cell_type": "code",
   "execution_count": 57,
   "metadata": {},
   "outputs": [],
   "source": [
    "training_stats_df = pd.DataFrame(training_stats).sort_values(\"best_score_valid_l1\", ascending=True)"
   ]
  },
  {
   "cell_type": "code",
   "execution_count": 58,
   "metadata": {},
   "outputs": [
    {
     "data": {
      "text/html": [
       "<div>\n",
       "<style scoped>\n",
       "    .dataframe tbody tr th:only-of-type {\n",
       "        vertical-align: middle;\n",
       "    }\n",
       "\n",
       "    .dataframe tbody tr th {\n",
       "        vertical-align: top;\n",
       "    }\n",
       "\n",
       "    .dataframe thead th {\n",
       "        text-align: right;\n",
       "    }\n",
       "</style>\n",
       "<table border=\"1\" class=\"dataframe\">\n",
       "  <thead>\n",
       "    <tr style=\"text-align: right;\">\n",
       "      <th></th>\n",
       "      <th>best_score_training_l1</th>\n",
       "      <th>best_score_training_l2</th>\n",
       "      <th>best_score_valid_l1</th>\n",
       "      <th>best_score_valid_l2</th>\n",
       "      <th>params</th>\n",
       "    </tr>\n",
       "  </thead>\n",
       "  <tbody>\n",
       "    <tr>\n",
       "      <th>1414</th>\n",
       "      <td>0.818834</td>\n",
       "      <td>1.707190</td>\n",
       "      <td>1.372240</td>\n",
       "      <td>3.113583</td>\n",
       "      <td>{'boosting_type': 'dart', 'learning_rate': 0.2...</td>\n",
       "    </tr>\n",
       "    <tr>\n",
       "      <th>1415</th>\n",
       "      <td>0.818834</td>\n",
       "      <td>1.707190</td>\n",
       "      <td>1.372240</td>\n",
       "      <td>3.113583</td>\n",
       "      <td>{'boosting_type': 'dart', 'learning_rate': 0.2...</td>\n",
       "    </tr>\n",
       "    <tr>\n",
       "      <th>1274</th>\n",
       "      <td>0.818834</td>\n",
       "      <td>1.707190</td>\n",
       "      <td>1.372240</td>\n",
       "      <td>3.113583</td>\n",
       "      <td>{'boosting_type': 'dart', 'learning_rate': 0.2...</td>\n",
       "    </tr>\n",
       "    <tr>\n",
       "      <th>1275</th>\n",
       "      <td>0.818834</td>\n",
       "      <td>1.707190</td>\n",
       "      <td>1.372240</td>\n",
       "      <td>3.113583</td>\n",
       "      <td>{'boosting_type': 'dart', 'learning_rate': 0.2...</td>\n",
       "    </tr>\n",
       "    <tr>\n",
       "      <th>997</th>\n",
       "      <td>0.894567</td>\n",
       "      <td>1.871701</td>\n",
       "      <td>1.372771</td>\n",
       "      <td>3.096063</td>\n",
       "      <td>{'boosting_type': 'dart', 'learning_rate': 0.0...</td>\n",
       "    </tr>\n",
       "    <tr>\n",
       "      <th>996</th>\n",
       "      <td>0.894567</td>\n",
       "      <td>1.871701</td>\n",
       "      <td>1.372771</td>\n",
       "      <td>3.096063</td>\n",
       "      <td>{'boosting_type': 'dart', 'learning_rate': 0.0...</td>\n",
       "    </tr>\n",
       "    <tr>\n",
       "      <th>857</th>\n",
       "      <td>0.894567</td>\n",
       "      <td>1.871701</td>\n",
       "      <td>1.372771</td>\n",
       "      <td>3.096063</td>\n",
       "      <td>{'boosting_type': 'dart', 'learning_rate': 0.0...</td>\n",
       "    </tr>\n",
       "    <tr>\n",
       "      <th>856</th>\n",
       "      <td>0.894567</td>\n",
       "      <td>1.871701</td>\n",
       "      <td>1.372771</td>\n",
       "      <td>3.096063</td>\n",
       "      <td>{'boosting_type': 'dart', 'learning_rate': 0.0...</td>\n",
       "    </tr>\n",
       "    <tr>\n",
       "      <th>1207</th>\n",
       "      <td>0.824373</td>\n",
       "      <td>1.708722</td>\n",
       "      <td>1.375742</td>\n",
       "      <td>3.104651</td>\n",
       "      <td>{'boosting_type': 'dart', 'learning_rate': 0.1...</td>\n",
       "    </tr>\n",
       "    <tr>\n",
       "      <th>1067</th>\n",
       "      <td>0.824373</td>\n",
       "      <td>1.708722</td>\n",
       "      <td>1.375742</td>\n",
       "      <td>3.104651</td>\n",
       "      <td>{'boosting_type': 'dart', 'learning_rate': 0.1...</td>\n",
       "    </tr>\n",
       "    <tr>\n",
       "      <th>1066</th>\n",
       "      <td>0.824373</td>\n",
       "      <td>1.708722</td>\n",
       "      <td>1.375742</td>\n",
       "      <td>3.104651</td>\n",
       "      <td>{'boosting_type': 'dart', 'learning_rate': 0.1...</td>\n",
       "    </tr>\n",
       "    <tr>\n",
       "      <th>1206</th>\n",
       "      <td>0.824373</td>\n",
       "      <td>1.708722</td>\n",
       "      <td>1.375742</td>\n",
       "      <td>3.104651</td>\n",
       "      <td>{'boosting_type': 'dart', 'learning_rate': 0.1...</td>\n",
       "    </tr>\n",
       "    <tr>\n",
       "      <th>1065</th>\n",
       "      <td>0.897885</td>\n",
       "      <td>1.862938</td>\n",
       "      <td>1.378912</td>\n",
       "      <td>3.086491</td>\n",
       "      <td>{'boosting_type': 'dart', 'learning_rate': 0.1...</td>\n",
       "    </tr>\n",
       "    <tr>\n",
       "      <th>1205</th>\n",
       "      <td>0.897885</td>\n",
       "      <td>1.862938</td>\n",
       "      <td>1.378912</td>\n",
       "      <td>3.086491</td>\n",
       "      <td>{'boosting_type': 'dart', 'learning_rate': 0.1...</td>\n",
       "    </tr>\n",
       "    <tr>\n",
       "      <th>1204</th>\n",
       "      <td>0.897885</td>\n",
       "      <td>1.862938</td>\n",
       "      <td>1.378912</td>\n",
       "      <td>3.086491</td>\n",
       "      <td>{'boosting_type': 'dart', 'learning_rate': 0.1...</td>\n",
       "    </tr>\n",
       "    <tr>\n",
       "      <th>1064</th>\n",
       "      <td>0.897885</td>\n",
       "      <td>1.862938</td>\n",
       "      <td>1.378912</td>\n",
       "      <td>3.086491</td>\n",
       "      <td>{'boosting_type': 'dart', 'learning_rate': 0.1...</td>\n",
       "    </tr>\n",
       "    <tr>\n",
       "      <th>1084</th>\n",
       "      <td>0.883338</td>\n",
       "      <td>1.835726</td>\n",
       "      <td>1.379012</td>\n",
       "      <td>3.079006</td>\n",
       "      <td>{'boosting_type': 'dart', 'learning_rate': 0.1...</td>\n",
       "    </tr>\n",
       "    <tr>\n",
       "      <th>1225</th>\n",
       "      <td>0.883338</td>\n",
       "      <td>1.835726</td>\n",
       "      <td>1.379012</td>\n",
       "      <td>3.079006</td>\n",
       "      <td>{'boosting_type': 'dart', 'learning_rate': 0.1...</td>\n",
       "    </tr>\n",
       "    <tr>\n",
       "      <th>1085</th>\n",
       "      <td>0.883338</td>\n",
       "      <td>1.835726</td>\n",
       "      <td>1.379012</td>\n",
       "      <td>3.079006</td>\n",
       "      <td>{'boosting_type': 'dart', 'learning_rate': 0.1...</td>\n",
       "    </tr>\n",
       "    <tr>\n",
       "      <th>1235</th>\n",
       "      <td>0.883338</td>\n",
       "      <td>1.835726</td>\n",
       "      <td>1.379012</td>\n",
       "      <td>3.079006</td>\n",
       "      <td>{'boosting_type': 'dart', 'learning_rate': 0.1...</td>\n",
       "    </tr>\n",
       "  </tbody>\n",
       "</table>\n",
       "</div>"
      ],
      "text/plain": [
       "      best_score_training_l1  best_score_training_l2  best_score_valid_l1  \\\n",
       "1414                0.818834                1.707190             1.372240   \n",
       "1415                0.818834                1.707190             1.372240   \n",
       "1274                0.818834                1.707190             1.372240   \n",
       "1275                0.818834                1.707190             1.372240   \n",
       "997                 0.894567                1.871701             1.372771   \n",
       "996                 0.894567                1.871701             1.372771   \n",
       "857                 0.894567                1.871701             1.372771   \n",
       "856                 0.894567                1.871701             1.372771   \n",
       "1207                0.824373                1.708722             1.375742   \n",
       "1067                0.824373                1.708722             1.375742   \n",
       "1066                0.824373                1.708722             1.375742   \n",
       "1206                0.824373                1.708722             1.375742   \n",
       "1065                0.897885                1.862938             1.378912   \n",
       "1205                0.897885                1.862938             1.378912   \n",
       "1204                0.897885                1.862938             1.378912   \n",
       "1064                0.897885                1.862938             1.378912   \n",
       "1084                0.883338                1.835726             1.379012   \n",
       "1225                0.883338                1.835726             1.379012   \n",
       "1085                0.883338                1.835726             1.379012   \n",
       "1235                0.883338                1.835726             1.379012   \n",
       "\n",
       "      best_score_valid_l2                                             params  \n",
       "1414             3.113583  {'boosting_type': 'dart', 'learning_rate': 0.2...  \n",
       "1415             3.113583  {'boosting_type': 'dart', 'learning_rate': 0.2...  \n",
       "1274             3.113583  {'boosting_type': 'dart', 'learning_rate': 0.2...  \n",
       "1275             3.113583  {'boosting_type': 'dart', 'learning_rate': 0.2...  \n",
       "997              3.096063  {'boosting_type': 'dart', 'learning_rate': 0.0...  \n",
       "996              3.096063  {'boosting_type': 'dart', 'learning_rate': 0.0...  \n",
       "857              3.096063  {'boosting_type': 'dart', 'learning_rate': 0.0...  \n",
       "856              3.096063  {'boosting_type': 'dart', 'learning_rate': 0.0...  \n",
       "1207             3.104651  {'boosting_type': 'dart', 'learning_rate': 0.1...  \n",
       "1067             3.104651  {'boosting_type': 'dart', 'learning_rate': 0.1...  \n",
       "1066             3.104651  {'boosting_type': 'dart', 'learning_rate': 0.1...  \n",
       "1206             3.104651  {'boosting_type': 'dart', 'learning_rate': 0.1...  \n",
       "1065             3.086491  {'boosting_type': 'dart', 'learning_rate': 0.1...  \n",
       "1205             3.086491  {'boosting_type': 'dart', 'learning_rate': 0.1...  \n",
       "1204             3.086491  {'boosting_type': 'dart', 'learning_rate': 0.1...  \n",
       "1064             3.086491  {'boosting_type': 'dart', 'learning_rate': 0.1...  \n",
       "1084             3.079006  {'boosting_type': 'dart', 'learning_rate': 0.1...  \n",
       "1225             3.079006  {'boosting_type': 'dart', 'learning_rate': 0.1...  \n",
       "1085             3.079006  {'boosting_type': 'dart', 'learning_rate': 0.1...  \n",
       "1235             3.079006  {'boosting_type': 'dart', 'learning_rate': 0.1...  "
      ]
     },
     "execution_count": 58,
     "metadata": {},
     "output_type": "execute_result"
    }
   ],
   "source": [
    "training_stats_df.head(5)"
   ]
  },
  {
   "cell_type": "code",
   "execution_count": 50,
   "metadata": {},
   "outputs": [],
   "source": [
    "df = pd.DataFrame(training_stats_df[\"params\"].tolist())"
   ]
  },
  {
   "cell_type": "code",
   "execution_count": 51,
   "metadata": {},
   "outputs": [
    {
     "data": {
      "image/png": "[encoded data removed]",
      "text/plain": [
       "<Figure size 432x288 with 1 Axes>"
      ]
     },
     "metadata": {
      "needs_background": "light"
     },
     "output_type": "display_data"
    },
    {
     "data": {
      "image/png": "[encoded data removed]",
      "text/plain": [
       "<Figure size 432x288 with 1 Axes>"
      ]
     },
     "metadata": {
      "needs_background": "light"
     },
     "output_type": "display_data"
    },
    {
     "data": {
      "image/png": "[encoded data removed]",
      "text/plain": [
       "<Figure size 432x288 with 1 Axes>"
      ]
     },
     "metadata": {
      "needs_background": "light"
     },
     "output_type": "display_data"
    },
    {
     "data": {
      "image/png": "[encoded data removed]",
      "text/plain": [
       "<Figure size 432x288 with 1 Axes>"
      ]
     },
     "metadata": {
      "needs_background": "light"
     },
     "output_type": "display_data"
    },
    {
     "data": {
      "image/png": "[encoded data removed]",
      "text/plain": [
       "<Figure size 432x288 with 1 Axes>"
      ]
     },
     "metadata": {
      "needs_background": "light"
     },
     "output_type": "display_data"
    },
    {
     "data": {
      "image/png": "[encoded data removed]",
      "text/plain": [
       "<Figure size 432x288 with 1 Axes>"
      ]
     },
     "metadata": {
      "needs_background": "light"
     },
     "output_type": "display_data"
    }
   ],
   "source": [
    "for key in df:\n",
    "    plt.plot(df[key])\n",
    "    plt.title(key)\n",
    "    plt.show()"
   ]
  },
  {
   "cell_type": "markdown",
   "metadata": {},
   "source": [
    "#### Train best model"
   ]
  },
  {
   "cell_type": "code",
   "execution_count": null,
   "metadata": {},
   "outputs": [],
   "source": [
    "best_params = training_stats_df.iloc[0][\"params\"].copy()"
   ]
  },
  {
   "cell_type": "code",
   "execution_count": null,
   "metadata": {},
   "outputs": [],
   "source": [
    "gbm = lgb.train(best_params, lgb_full, valid_sets=[lgb_full], verbose_eval=0)"
   ]
  },
  {
   "cell_type": "code",
   "execution_count": 26,
   "metadata": {},
   "outputs": [
    {
     "data": {
      "text/plain": [
       "defaultdict(collections.OrderedDict,\n",
       "            {'training': OrderedDict([('l1', 1.830815352758987),\n",
       "                          ('l2', 5.5384819553514975)]),\n",
       "             'valid_1': OrderedDict([('l1', 2.131606006816712),\n",
       "                          ('l2', 7.777293266962498)])})"
      ]
     },
     "execution_count": 26,
     "metadata": {},
     "output_type": "execute_result"
    }
   ],
   "source": [
    "gbm.best_score"
   ]
  },
  {
   "cell_type": "code",
   "execution_count": 28,
   "metadata": {},
   "outputs": [
    {
     "data": {
      "text/plain": [
       "27"
      ]
     },
     "execution_count": 28,
     "metadata": {},
     "output_type": "execute_result"
    }
   ],
   "source": [
    "gbm.num_trees()"
   ]
  },
  {
   "cell_type": "code",
   "execution_count": 29,
   "metadata": {},
   "outputs": [
    {
     "data": {
      "text/plain": [
       "<matplotlib.axes._subplots.AxesSubplot at 0x7f3fb84a4518>"
      ]
     },
     "execution_count": 29,
     "metadata": {},
     "output_type": "execute_result"
    },
    {
     "data": {
      "image/png": "[encoded data removed]",
      "text/plain": [
       "<Figure size 432x288 with 1 Axes>"
      ]
     },
     "metadata": {
      "needs_background": "light"
     },
     "output_type": "display_data"
    }
   ],
   "source": [
    "lgb.plot_importance(gbm)"
   ]
  },
  {
   "cell_type": "code",
   "execution_count": null,
   "metadata": {},
   "outputs": [],
   "source": []
  }
 ],
 "metadata": {
  "kernelspec": {
   "display_name": "Python [conda env:defaults-v1]",
   "language": "python",
   "name": "conda-env-defaults-v1-py"
  },
  "language_info": {
   "codemirror_mode": {
    "name": "ipython",
    "version": 3
   },
   "file_extension": ".py",
   "mimetype": "text/x-python",
   "name": "python",
   "nbconvert_exporter": "python",
   "pygments_lexer": "ipython3",
   "version": "3.7.3"
  }
 },
 "nbformat": 4,
 "nbformat_minor": 4
}
