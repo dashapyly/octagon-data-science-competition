{
 "cells": [
  {
   "cell_type": "markdown",
   "metadata": {},
   "source": [
    "## Summary\n",
    "\n",
    "---"
   ]
  },
  {
   "cell_type": "markdown",
   "metadata": {},
   "source": [
    "## Imports"
   ]
  },
  {
   "cell_type": "code",
   "execution_count": null,
   "metadata": {},
   "outputs": [],
   "source": [
    "from pathlib import Path\n",
    "\n",
    "import numpy as np\n",
    "import tqdm\n",
    "\n",
    "import lightgbm as lgb\n",
    "import matplotlib.pyplot as plt\n",
    "import pandas as pd\n",
    "import pyarrow as pa\n",
    "import pyarrow.parquet as pq\n",
    "import shap\n",
    "from scipy import stats\n",
    "from sklearn import metrics\n",
    "from sklearn.model_selection import GridSearchCV, StratifiedKFold"
   ]
  },
  {
   "cell_type": "code",
   "execution_count": 182,
   "metadata": {},
   "outputs": [],
   "source": [
    "pd.set_option(\"max_rows\", 1000)\n",
    "pd.set_option(\"max_columns\", 1000)"
   ]
  },
  {
   "cell_type": "markdown",
   "metadata": {},
   "source": [
    "## Parameters"
   ]
  },
  {
   "cell_type": "code",
   "execution_count": 183,
   "metadata": {},
   "outputs": [
    {
     "data": {
      "text/plain": [
       "'bayesian-linear-regression'"
      ]
     },
     "execution_count": 183,
     "metadata": {},
     "output_type": "execute_result"
    }
   ],
   "source": [
    "NOTEBOOK_NAME = \"bayesian-linear-regression\"\n",
    "NOTEBOOK_PATH = Path(NOTEBOOK_NAME).resolve()\n",
    "NOTEBOOK_PATH.mkdir(exist_ok=True)\n",
    "NOTEBOOK_NAME"
   ]
  },
  {
   "cell_type": "markdown",
   "metadata": {},
   "source": [
    "## Load data"
   ]
  },
  {
   "cell_type": "code",
   "execution_count": 4,
   "metadata": {},
   "outputs": [],
   "source": [
    "input_df = pq.read_table(\"01_prepare_combined_dataset/combined.parquet\").to_pandas()"
   ]
  },
  {
   "cell_type": "code",
   "execution_count": 5,
   "metadata": {},
   "outputs": [],
   "source": [
    "# input_df = pq.read_table(\"data-challenge/data_final2.parquet\").to_pandas()"
   ]
  },
  {
   "cell_type": "markdown",
   "metadata": {},
   "source": [
    "## Filter data"
   ]
  },
  {
   "cell_type": "code",
   "execution_count": 6,
   "metadata": {},
   "outputs": [],
   "source": [
    "input_df[\"y\"] = (\n",
    "    (input_df[[\"acq2\", \"acq3\", \"acq4\", \"acq5\"]].mean(axis=1) - input_df[\"acq\"]) < -1\n",
    ")"
   ]
  },
  {
   "cell_type": "code",
   "execution_count": 7,
   "metadata": {},
   "outputs": [],
   "source": [
    "input_df = input_df[input_df[\"y\"].notnull()]\n",
    "input_df = input_df[\n",
    "    (input_df[[\"acq\", \"acq2\", \"acq3\", \"acq4\", \"acq5\"]] <= 6).all(axis=1)\n",
    "]"
   ]
  },
  {
   "cell_type": "code",
   "execution_count": 8,
   "metadata": {},
   "outputs": [],
   "source": [
    "assert len(input_df) == 143, len(input_df)"
   ]
  },
  {
   "cell_type": "markdown",
   "metadata": {},
   "source": [
    "## Explore input data"
   ]
  },
  {
   "cell_type": "code",
   "execution_count": 9,
   "metadata": {},
   "outputs": [],
   "source": [
    "# fg, ax = plt.subplots(figsize=(5, 4))\n",
    "# ax.hist(input_df[\"y\"], bins=20)\n",
    "# ax.set_xlabel(\"Change in ACQ\")\n",
    "# ax.set_ylabel(\"Number of participants\")\n",
    "# None"
   ]
  },
  {
   "cell_type": "code",
   "execution_count": 10,
   "metadata": {},
   "outputs": [
    {
     "data": {
      "text/plain": [
       "Index(['id', 'date_x', 'acq', 'date2', 'acq2', 'date3', 'acq3', 'date4',\n",
       "       'acq4', 'date5', 'acq5', 'co-copd', 'co-heartfailure', 'co-diabetes',\n",
       "       'co-yellowfever', 'co-asthma', 'co-pulmonaryembolism', 'co-bronchitis',\n",
       "       'co-arthritis', 'co-pneumonia', 'medhistory_table', 'assess', 'smoking',\n",
       "       'polyps', 'vaccine', 'arthritis', 'CVD', 'Prev-biologic', 'allergy',\n",
       "       'weight', 'height', 'bmi', 'age', 'race', 'gender', 'work', 'retire',\n",
       "       'disab', 'demographics_table', 'sex', 'date_y', 'clinic', 'infconsent',\n",
       "       '18+', 'eos300', 'eos150', 'sputum', 'acq-screen', 'result', 'y'],\n",
       "      dtype='object')"
      ]
     },
     "execution_count": 10,
     "metadata": {},
     "output_type": "execute_result"
    }
   ],
   "source": [
    "input_df.columns"
   ]
  },
  {
   "cell_type": "code",
   "execution_count": 11,
   "metadata": {},
   "outputs": [],
   "source": [
    "def compute_correlations(df, target_col):\n",
    "    corrs = []\n",
    "    for col in df._get_numeric_data():\n",
    "        if col == target_col:\n",
    "            continue\n",
    "        df_subset = df[[col, target_col]].dropna()\n",
    "        corr = stats.spearmanr(df_subset[col], df_subset[target_col])\n",
    "        corrs.append((target_col, col) + tuple(corr))\n",
    "    df = pd.DataFrame(corrs, columns=[\"col1\", \"col2\", \"corr\", \"pvalue\"])\n",
    "    df = df.sort_values(\"pvalue\", ascending=True)\n",
    "    return df"
   ]
  },
  {
   "cell_type": "code",
   "execution_count": 12,
   "metadata": {},
   "outputs": [
    {
     "name": "stderr",
     "output_type": "stream",
     "text": [
      "/home/ubuntu/anaconda3/envs/defaults-v1/lib/python3.7/site-packages/numpy/lib/function_base.py:2534: RuntimeWarning: invalid value encountered in true_divide\n",
      "  c /= stddev[:, None]\n",
      "/home/ubuntu/anaconda3/envs/defaults-v1/lib/python3.7/site-packages/numpy/lib/function_base.py:2535: RuntimeWarning: invalid value encountered in true_divide\n",
      "  c /= stddev[None, :]\n",
      "/home/ubuntu/anaconda3/envs/defaults-v1/lib/python3.7/site-packages/scipy/stats/_distn_infrastructure.py:901: RuntimeWarning: invalid value encountered in greater\n",
      "  return (a < x) & (x < b)\n",
      "/home/ubuntu/anaconda3/envs/defaults-v1/lib/python3.7/site-packages/scipy/stats/_distn_infrastructure.py:901: RuntimeWarning: invalid value encountered in less\n",
      "  return (a < x) & (x < b)\n",
      "/home/ubuntu/anaconda3/envs/defaults-v1/lib/python3.7/site-packages/scipy/stats/_distn_infrastructure.py:1892: RuntimeWarning: invalid value encountered in less_equal\n",
      "  cond2 = cond0 & (x <= _a)\n"
     ]
    },
    {
     "data": {
      "text/html": [
       "<div>\n",
       "<style scoped>\n",
       "    .dataframe tbody tr th:only-of-type {\n",
       "        vertical-align: middle;\n",
       "    }\n",
       "\n",
       "    .dataframe tbody tr th {\n",
       "        vertical-align: top;\n",
       "    }\n",
       "\n",
       "    .dataframe thead th {\n",
       "        text-align: right;\n",
       "    }\n",
       "</style>\n",
       "<table border=\"1\" class=\"dataframe\">\n",
       "  <thead>\n",
       "    <tr style=\"text-align: right;\">\n",
       "      <th></th>\n",
       "      <th>col1</th>\n",
       "      <th>col2</th>\n",
       "      <th>corr</th>\n",
       "      <th>pvalue</th>\n",
       "    </tr>\n",
       "  </thead>\n",
       "  <tbody>\n",
       "    <tr>\n",
       "      <th>5</th>\n",
       "      <td>y</td>\n",
       "      <td>acq5</td>\n",
       "      <td>-0.577211</td>\n",
       "      <td>4.490351e-14</td>\n",
       "    </tr>\n",
       "    <tr>\n",
       "      <th>4</th>\n",
       "      <td>y</td>\n",
       "      <td>acq4</td>\n",
       "      <td>-0.559940</td>\n",
       "      <td>3.578274e-13</td>\n",
       "    </tr>\n",
       "    <tr>\n",
       "      <th>3</th>\n",
       "      <td>y</td>\n",
       "      <td>acq3</td>\n",
       "      <td>-0.542856</td>\n",
       "      <td>2.486233e-12</td>\n",
       "    </tr>\n",
       "    <tr>\n",
       "      <th>2</th>\n",
       "      <td>y</td>\n",
       "      <td>acq2</td>\n",
       "      <td>-0.531933</td>\n",
       "      <td>8.117820e-12</td>\n",
       "    </tr>\n",
       "    <tr>\n",
       "      <th>1</th>\n",
       "      <td>y</td>\n",
       "      <td>acq</td>\n",
       "      <td>0.419604</td>\n",
       "      <td>1.823313e-07</td>\n",
       "    </tr>\n",
       "    <tr>\n",
       "      <th>27</th>\n",
       "      <td>y</td>\n",
       "      <td>age</td>\n",
       "      <td>0.201728</td>\n",
       "      <td>1.569026e-02</td>\n",
       "    </tr>\n",
       "    <tr>\n",
       "      <th>30</th>\n",
       "      <td>y</td>\n",
       "      <td>retire</td>\n",
       "      <td>0.266297</td>\n",
       "      <td>2.375572e-02</td>\n",
       "    </tr>\n",
       "    <tr>\n",
       "      <th>34</th>\n",
       "      <td>y</td>\n",
       "      <td>clinic</td>\n",
       "      <td>0.143913</td>\n",
       "      <td>8.638430e-02</td>\n",
       "    </tr>\n",
       "    <tr>\n",
       "      <th>33</th>\n",
       "      <td>y</td>\n",
       "      <td>sex</td>\n",
       "      <td>0.155447</td>\n",
       "      <td>8.865467e-02</td>\n",
       "    </tr>\n",
       "    <tr>\n",
       "      <th>0</th>\n",
       "      <td>y</td>\n",
       "      <td>id</td>\n",
       "      <td>0.140839</td>\n",
       "      <td>9.338890e-02</td>\n",
       "    </tr>\n",
       "    <tr>\n",
       "      <th>8</th>\n",
       "      <td>y</td>\n",
       "      <td>co-diabetes</td>\n",
       "      <td>-0.346410</td>\n",
       "      <td>1.239679e-01</td>\n",
       "    </tr>\n",
       "    <tr>\n",
       "      <th>28</th>\n",
       "      <td>y</td>\n",
       "      <td>gender</td>\n",
       "      <td>0.284358</td>\n",
       "      <td>1.996410e-01</td>\n",
       "    </tr>\n",
       "    <tr>\n",
       "      <th>21</th>\n",
       "      <td>y</td>\n",
       "      <td>CVD</td>\n",
       "      <td>-0.124170</td>\n",
       "      <td>2.047408e-01</td>\n",
       "    </tr>\n",
       "    <tr>\n",
       "      <th>14</th>\n",
       "      <td>y</td>\n",
       "      <td>co-pneumonia</td>\n",
       "      <td>-0.206584</td>\n",
       "      <td>3.689387e-01</td>\n",
       "    </tr>\n",
       "    <tr>\n",
       "      <th>20</th>\n",
       "      <td>y</td>\n",
       "      <td>arthritis</td>\n",
       "      <td>-0.070202</td>\n",
       "      <td>4.745564e-01</td>\n",
       "    </tr>\n",
       "    <tr>\n",
       "      <th>23</th>\n",
       "      <td>y</td>\n",
       "      <td>allergy</td>\n",
       "      <td>-0.069059</td>\n",
       "      <td>4.817978e-01</td>\n",
       "    </tr>\n",
       "    <tr>\n",
       "      <th>31</th>\n",
       "      <td>y</td>\n",
       "      <td>disab</td>\n",
       "      <td>-0.057589</td>\n",
       "      <td>4.944885e-01</td>\n",
       "    </tr>\n",
       "    <tr>\n",
       "      <th>22</th>\n",
       "      <td>y</td>\n",
       "      <td>Prev-biologic</td>\n",
       "      <td>-0.065479</td>\n",
       "      <td>5.048535e-01</td>\n",
       "    </tr>\n",
       "    <tr>\n",
       "      <th>19</th>\n",
       "      <td>y</td>\n",
       "      <td>vaccine</td>\n",
       "      <td>0.064902</td>\n",
       "      <td>5.086266e-01</td>\n",
       "    </tr>\n",
       "    <tr>\n",
       "      <th>29</th>\n",
       "      <td>y</td>\n",
       "      <td>work</td>\n",
       "      <td>0.050328</td>\n",
       "      <td>5.505560e-01</td>\n",
       "    </tr>\n",
       "    <tr>\n",
       "      <th>38</th>\n",
       "      <td>y</td>\n",
       "      <td>acq-screen</td>\n",
       "      <td>0.048238</td>\n",
       "      <td>5.672461e-01</td>\n",
       "    </tr>\n",
       "    <tr>\n",
       "      <th>10</th>\n",
       "      <td>y</td>\n",
       "      <td>co-asthma</td>\n",
       "      <td>0.130722</td>\n",
       "      <td>5.827794e-01</td>\n",
       "    </tr>\n",
       "    <tr>\n",
       "      <th>7</th>\n",
       "      <td>y</td>\n",
       "      <td>co-heartfailure</td>\n",
       "      <td>-0.130722</td>\n",
       "      <td>5.827794e-01</td>\n",
       "    </tr>\n",
       "    <tr>\n",
       "      <th>35</th>\n",
       "      <td>y</td>\n",
       "      <td>eos300</td>\n",
       "      <td>-0.046794</td>\n",
       "      <td>5.885303e-01</td>\n",
       "    </tr>\n",
       "    <tr>\n",
       "      <th>6</th>\n",
       "      <td>y</td>\n",
       "      <td>co-copd</td>\n",
       "      <td>0.169031</td>\n",
       "      <td>5.994703e-01</td>\n",
       "    </tr>\n",
       "    <tr>\n",
       "      <th>17</th>\n",
       "      <td>y</td>\n",
       "      <td>smoking</td>\n",
       "      <td>0.037687</td>\n",
       "      <td>7.013104e-01</td>\n",
       "    </tr>\n",
       "    <tr>\n",
       "      <th>15</th>\n",
       "      <td>y</td>\n",
       "      <td>medhistory_table</td>\n",
       "      <td>0.018051</td>\n",
       "      <td>8.305614e-01</td>\n",
       "    </tr>\n",
       "    <tr>\n",
       "      <th>32</th>\n",
       "      <td>y</td>\n",
       "      <td>demographics_table</td>\n",
       "      <td>0.018051</td>\n",
       "      <td>8.305614e-01</td>\n",
       "    </tr>\n",
       "    <tr>\n",
       "      <th>24</th>\n",
       "      <td>y</td>\n",
       "      <td>weight</td>\n",
       "      <td>-0.020274</td>\n",
       "      <td>8.365712e-01</td>\n",
       "    </tr>\n",
       "    <tr>\n",
       "      <th>25</th>\n",
       "      <td>y</td>\n",
       "      <td>height</td>\n",
       "      <td>-0.016856</td>\n",
       "      <td>8.638362e-01</td>\n",
       "    </tr>\n",
       "    <tr>\n",
       "      <th>16</th>\n",
       "      <td>y</td>\n",
       "      <td>assess</td>\n",
       "      <td>-0.009045</td>\n",
       "      <td>9.266812e-01</td>\n",
       "    </tr>\n",
       "    <tr>\n",
       "      <th>26</th>\n",
       "      <td>y</td>\n",
       "      <td>bmi</td>\n",
       "      <td>0.006550</td>\n",
       "      <td>9.468726e-01</td>\n",
       "    </tr>\n",
       "    <tr>\n",
       "      <th>18</th>\n",
       "      <td>y</td>\n",
       "      <td>polyps</td>\n",
       "      <td>0.003153</td>\n",
       "      <td>9.744104e-01</td>\n",
       "    </tr>\n",
       "    <tr>\n",
       "      <th>9</th>\n",
       "      <td>y</td>\n",
       "      <td>co-yellowfever</td>\n",
       "      <td>NaN</td>\n",
       "      <td>NaN</td>\n",
       "    </tr>\n",
       "    <tr>\n",
       "      <th>11</th>\n",
       "      <td>y</td>\n",
       "      <td>co-pulmonaryembolism</td>\n",
       "      <td>NaN</td>\n",
       "      <td>NaN</td>\n",
       "    </tr>\n",
       "    <tr>\n",
       "      <th>12</th>\n",
       "      <td>y</td>\n",
       "      <td>co-bronchitis</td>\n",
       "      <td>NaN</td>\n",
       "      <td>NaN</td>\n",
       "    </tr>\n",
       "    <tr>\n",
       "      <th>13</th>\n",
       "      <td>y</td>\n",
       "      <td>co-arthritis</td>\n",
       "      <td>NaN</td>\n",
       "      <td>NaN</td>\n",
       "    </tr>\n",
       "    <tr>\n",
       "      <th>36</th>\n",
       "      <td>y</td>\n",
       "      <td>eos150</td>\n",
       "      <td>NaN</td>\n",
       "      <td>NaN</td>\n",
       "    </tr>\n",
       "    <tr>\n",
       "      <th>37</th>\n",
       "      <td>y</td>\n",
       "      <td>sputum</td>\n",
       "      <td>NaN</td>\n",
       "      <td>NaN</td>\n",
       "    </tr>\n",
       "  </tbody>\n",
       "</table>\n",
       "</div>"
      ],
      "text/plain": [
       "   col1                  col2      corr        pvalue\n",
       "5     y                  acq5 -0.577211  4.490351e-14\n",
       "4     y                  acq4 -0.559940  3.578274e-13\n",
       "3     y                  acq3 -0.542856  2.486233e-12\n",
       "2     y                  acq2 -0.531933  8.117820e-12\n",
       "1     y                   acq  0.419604  1.823313e-07\n",
       "27    y                   age  0.201728  1.569026e-02\n",
       "30    y                retire  0.266297  2.375572e-02\n",
       "34    y                clinic  0.143913  8.638430e-02\n",
       "33    y                   sex  0.155447  8.865467e-02\n",
       "0     y                    id  0.140839  9.338890e-02\n",
       "8     y           co-diabetes -0.346410  1.239679e-01\n",
       "28    y                gender  0.284358  1.996410e-01\n",
       "21    y                   CVD -0.124170  2.047408e-01\n",
       "14    y          co-pneumonia -0.206584  3.689387e-01\n",
       "20    y             arthritis -0.070202  4.745564e-01\n",
       "23    y               allergy -0.069059  4.817978e-01\n",
       "31    y                 disab -0.057589  4.944885e-01\n",
       "22    y         Prev-biologic -0.065479  5.048535e-01\n",
       "19    y               vaccine  0.064902  5.086266e-01\n",
       "29    y                  work  0.050328  5.505560e-01\n",
       "38    y            acq-screen  0.048238  5.672461e-01\n",
       "10    y             co-asthma  0.130722  5.827794e-01\n",
       "7     y       co-heartfailure -0.130722  5.827794e-01\n",
       "35    y                eos300 -0.046794  5.885303e-01\n",
       "6     y               co-copd  0.169031  5.994703e-01\n",
       "17    y               smoking  0.037687  7.013104e-01\n",
       "15    y      medhistory_table  0.018051  8.305614e-01\n",
       "32    y    demographics_table  0.018051  8.305614e-01\n",
       "24    y                weight -0.020274  8.365712e-01\n",
       "25    y                height -0.016856  8.638362e-01\n",
       "16    y                assess -0.009045  9.266812e-01\n",
       "26    y                   bmi  0.006550  9.468726e-01\n",
       "18    y                polyps  0.003153  9.744104e-01\n",
       "9     y        co-yellowfever       NaN           NaN\n",
       "11    y  co-pulmonaryembolism       NaN           NaN\n",
       "12    y         co-bronchitis       NaN           NaN\n",
       "13    y          co-arthritis       NaN           NaN\n",
       "36    y                eos150       NaN           NaN\n",
       "37    y                sputum       NaN           NaN"
      ]
     },
     "execution_count": 12,
     "metadata": {},
     "output_type": "execute_result"
    }
   ],
   "source": [
    "compute_correlations(input_df, 'y')"
   ]
  },
  {
   "cell_type": "markdown",
   "metadata": {},
   "source": [
    "## Fit model"
   ]
  },
  {
   "cell_type": "code",
   "execution_count": 13,
   "metadata": {},
   "outputs": [],
   "source": [
    "def encode_categorical(df, column):\n",
    "    categories = {c: i for i, c in enumerate(set(df[column]))}\n",
    "    df[column] = df[column].map(categories)"
   ]
  },
  {
   "cell_type": "code",
   "execution_count": 14,
   "metadata": {},
   "outputs": [],
   "source": [
    "def iter_grid_params(grid_params):\n",
    "    if not grid_params:\n",
    "        return [{}]\n",
    "    grid_params = grid_params.copy()\n",
    "    key, values = grid_params.popitem()\n",
    "    result = []\n",
    "    for child_dict in iter_grid_params(grid_params):\n",
    "        for value in values:\n",
    "            result.append({**child_dict, key: value})\n",
    "    return result"
   ]
  },
  {
   "cell_type": "code",
   "execution_count": 15,
   "metadata": {},
   "outputs": [],
   "source": [
    "columns_to_drop = [\n",
    "    #\n",
    "    \"id\",\n",
    "    \"date_x\",\n",
    "    \"date_y\",\n",
    "    \"acq\",\n",
    "    \"date2\",\n",
    "    \"acq2\",\n",
    "    \"date3\",\n",
    "    \"acq3\",\n",
    "    \"date4\",\n",
    "    \"acq4\",\n",
    "    \"date5\",\n",
    "    \"acq5\",\n",
    "    \"assess\",\n",
    "    \"date_x\",\n",
    "    \"date_y\",\n",
    "    \"clinic\",\n",
    "    \"infconsent\",\n",
    "    \"18+\",\n",
    "    #     \"eos300\",\n",
    "    \"eos150\",\n",
    "    \"sputum\",\n",
    "    \"acq-screen\",\n",
    "    \"result\",\n",
    "]\n",
    "data_df = input_df.drop(pd.Index(columns_to_drop), axis=1)"
   ]
  },
  {
   "cell_type": "code",
   "execution_count": 16,
   "metadata": {},
   "outputs": [],
   "source": [
    "# columns_to_keep = [\n",
    "#     \"y\", \"retire\", \"arthritis\", \"vaccine\",\n",
    "# ]\n",
    "# data_df = data_df[columns_to_keep]"
   ]
  },
  {
   "cell_type": "code",
   "execution_count": 17,
   "metadata": {},
   "outputs": [
    {
     "data": {
      "text/plain": [
       "['medhistory_table', 'race', 'work', 'disab']"
      ]
     },
     "execution_count": 17,
     "metadata": {},
     "output_type": "execute_result"
    }
   ],
   "source": [
    "categorical_feature=[\n",
    "    \"medhistory_table\",\n",
    "    \"race\",\n",
    "    \"ethnicity\",\n",
    "    \"work\",\n",
    "    \"disab\",\n",
    "    \"demographics_tabl\",\n",
    "    \"clinic\",\n",
    "    \"infconsent\",\n",
    "    \"18+\",\n",
    "    \"result\",\n",
    "]\n",
    "categorical_feature = [c for c in categorical_feature if c in data_df]\n",
    "for column in categorical_feature:\n",
    "    encode_categorical(data_df, column)\n",
    "    \n",
    "categorical_feature"
   ]
  },
  {
   "cell_type": "markdown",
   "metadata": {},
   "source": [
    "### Prepare LGB datasets"
   ]
  },
  {
   "cell_type": "code",
   "execution_count": 18,
   "metadata": {},
   "outputs": [
    {
     "data": {
      "text/plain": [
       "Index(['co-copd', 'co-heartfailure', 'co-diabetes', 'co-yellowfever',\n",
       "       'co-asthma', 'co-pulmonaryembolism', 'co-bronchitis', 'co-arthritis',\n",
       "       'co-pneumonia', 'medhistory_table', 'smoking', 'polyps', 'vaccine',\n",
       "       'arthritis', 'CVD', 'Prev-biologic', 'allergy', 'weight', 'height',\n",
       "       'bmi', 'age', 'race', 'gender', 'work', 'retire', 'disab',\n",
       "       'demographics_table', 'sex', 'eos300', 'y'],\n",
       "      dtype='object')"
      ]
     },
     "execution_count": 18,
     "metadata": {},
     "output_type": "execute_result"
    }
   ],
   "source": [
    "data_df.columns"
   ]
  },
  {
   "cell_type": "code",
   "execution_count": 19,
   "metadata": {},
   "outputs": [],
   "source": [
    "lgb_train_test_splits = []\n",
    "\n",
    "kf = StratifiedKFold(n_splits=10, shuffle=True, random_state=42)\n",
    "for train_index, test_index in kf.split(data_df, data_df[\"y\"]):\n",
    "    train_df = data_df.iloc[train_index]\n",
    "    test_df = data_df.iloc[test_index]\n",
    "    X_train = train_df.drop(\"y\", axis=1)\n",
    "    y_train = train_df[\"y\"]\n",
    "    X_test = test_df.drop(\"y\", axis=1)\n",
    "    y_test = test_df[\"y\"]\n",
    "    lgb_train = lgb.Dataset(\n",
    "        X_train, y_train, categorical_feature=categorical_feature, free_raw_data=False\n",
    "    )\n",
    "    lgb_test = lgb.Dataset(\n",
    "        X_test,\n",
    "        y_test,\n",
    "        reference=lgb_train,\n",
    "        categorical_feature=categorical_feature,\n",
    "        free_raw_data=False,\n",
    "    )\n",
    "    lgb_train_test_splits.append((lgb_train, lgb_test))\n",
    "\n",
    "lgb_full = lgb.Dataset(\n",
    "    data_df.drop(\"y\", axis=1),\n",
    "    data_df[\"y\"],\n",
    "    categorical_feature=categorical_feature,\n",
    "    free_raw_data=False,\n",
    ")"
   ]
  },
  {
   "cell_type": "markdown",
   "metadata": {},
   "source": [
    "### Run grid-search"
   ]
  },
  {
   "cell_type": "code",
   "execution_count": 20,
   "metadata": {},
   "outputs": [],
   "source": [
    "grid_params = {\n",
    "    'boosting_type': ['gbdt'],\n",
    "    'learning_rate': [0.001, 0.005, 0.01, 0.05, 0.1, 0.2],\n",
    "#     'colsample_bytree' : [0.65, 0.66, 0.8],\n",
    "#     'max_bin': [512],\n",
    "#     'max_depth': [0, 2, 4, 8],\n",
    "#     'min_split_gain': [0.5],\n",
    "#     'min_child_weight': [1],\n",
    "#     'min_child_samples': [5],\n",
    "    #: \"For small datasets, using small num_leaves is recommended\"\n",
    "    'num_leaves': [2, 4, 6, 8, 12, 16, 24, 32],\n",
    "#     'num_class' : [1],\n",
    "    'num_iterations': [5, 10, 20, 50, 100, 200],\n",
    "#     'reg_alpha' : [1, 1.2],\n",
    "#     'reg_lambda' : [1, 1.2, 1.4],\n",
    "#     'subsample_for_bin': [200],\n",
    "#     'subsample' : [0.8, 1],\n",
    "#     'subsample_freq': [1],\n",
    "#     'scale_pos_weight': [1],\n",
    "    \"min_sum_hessian_in_leaf\": [0],\n",
    "    \"min_data_in_leaf\": [1, 5, 10, 20],\n",
    "    \"max_bin\": [15, 31, 63, 123, 255],\n",
    "}"
   ]
  },
  {
   "cell_type": "code",
   "execution_count": 21,
   "metadata": {},
   "outputs": [],
   "source": [
    "default_params = {\n",
    "    \"random_state\": 42,\n",
    "    \"objective\": \"binary\",\n",
    "    \"metric\" : [\"binary\", \"binary_error\"],\n",
    "    \"is_unbalance\": True,\n",
    "#     'nthread': 3,\n",
    "}"
   ]
  },
  {
   "cell_type": "code",
   "execution_count": 337,
   "metadata": {},
   "outputs": [
    {
     "data": {
      "application/vnd.jupyter.widget-view+json": {
       "model_id": "1915cf7f87104089b3ce9d90587992ff",
       "version_major": 2,
       "version_minor": 0
      },
      "text/plain": [
       "HBox(children=(IntProgress(value=0, max=2592), HTML(value='')))"
      ]
     },
     "metadata": {},
     "output_type": "display_data"
    },
    {
     "name": "stderr",
     "output_type": "stream",
     "text": [
      "/home/ubuntu/anaconda3/envs/defaults-v1/lib/python3.7/site-packages/lightgbm/engine.py:118: UserWarning: Found `num_iterations` in params. Will use it instead of argument\n",
      "  warnings.warn(\"Found `{}` in params. Will use it instead of argument\".format(alias))\n",
      "/home/ubuntu/anaconda3/envs/defaults-v1/lib/python3.7/site-packages/lightgbm/basic.py:1205: UserWarning: Using categorical_feature in Dataset.\n",
      "  warnings.warn('Using categorical_feature in Dataset.')\n"
     ]
    },
    {
     "name": "stdout",
     "output_type": "stream",
     "text": [
      "\n"
     ]
    },
    {
     "ename": "KeyboardInterrupt",
     "evalue": "",
     "output_type": "error",
     "traceback": [
      "\u001b[0;31m---------------------------------------------------------------------------\u001b[0m",
      "\u001b[0;31mKeyboardInterrupt\u001b[0m                         Traceback (most recent call last)",
      "\u001b[0;32m<ipython-input-337-6aa607b78782>\u001b[0m in \u001b[0;36m<module>\u001b[0;34m\u001b[0m\n\u001b[1;32m     15\u001b[0m             \u001b[0mvalid_sets\u001b[0m\u001b[0;34m=\u001b[0m\u001b[0;34m[\u001b[0m\u001b[0mlgb_train\u001b[0m\u001b[0;34m,\u001b[0m \u001b[0mlgb_test\u001b[0m\u001b[0;34m]\u001b[0m\u001b[0;34m,\u001b[0m\u001b[0;34m\u001b[0m\u001b[0;34m\u001b[0m\u001b[0m\n\u001b[1;32m     16\u001b[0m             \u001b[0mearly_stopping_rounds\u001b[0m\u001b[0;34m=\u001b[0m\u001b[0;32mNone\u001b[0m\u001b[0;34m,\u001b[0m\u001b[0;34m\u001b[0m\u001b[0;34m\u001b[0m\u001b[0m\n\u001b[0;32m---> 17\u001b[0;31m             \u001b[0mverbose_eval\u001b[0m\u001b[0;34m=\u001b[0m\u001b[0;36m0\u001b[0m\u001b[0;34m,\u001b[0m\u001b[0;34m\u001b[0m\u001b[0;34m\u001b[0m\u001b[0m\n\u001b[0m\u001b[1;32m     18\u001b[0m         )\n\u001b[1;32m     19\u001b[0m         stats[\"best_binary_logloss_train\"].append(\n",
      "\u001b[0;32m~/anaconda3/envs/defaults-v1/lib/python3.7/site-packages/lightgbm/engine.py\u001b[0m in \u001b[0;36mtrain\u001b[0;34m(params, train_set, num_boost_round, valid_sets, valid_names, fobj, feval, init_model, feature_name, categorical_feature, early_stopping_rounds, evals_result, verbose_eval, learning_rates, keep_training_booster, callbacks)\u001b[0m\n\u001b[1;32m    216\u001b[0m                                     evaluation_result_list=None))\n\u001b[1;32m    217\u001b[0m \u001b[0;34m\u001b[0m\u001b[0m\n\u001b[0;32m--> 218\u001b[0;31m         \u001b[0mbooster\u001b[0m\u001b[0;34m.\u001b[0m\u001b[0mupdate\u001b[0m\u001b[0;34m(\u001b[0m\u001b[0mfobj\u001b[0m\u001b[0;34m=\u001b[0m\u001b[0mfobj\u001b[0m\u001b[0;34m)\u001b[0m\u001b[0;34m\u001b[0m\u001b[0;34m\u001b[0m\u001b[0m\n\u001b[0m\u001b[1;32m    219\u001b[0m \u001b[0;34m\u001b[0m\u001b[0m\n\u001b[1;32m    220\u001b[0m         \u001b[0mevaluation_result_list\u001b[0m \u001b[0;34m=\u001b[0m \u001b[0;34m[\u001b[0m\u001b[0;34m]\u001b[0m\u001b[0;34m\u001b[0m\u001b[0;34m\u001b[0m\u001b[0m\n",
      "\u001b[0;32m~/anaconda3/envs/defaults-v1/lib/python3.7/site-packages/lightgbm/basic.py\u001b[0m in \u001b[0;36mupdate\u001b[0;34m(self, train_set, fobj)\u001b[0m\n\u001b[1;32m   1800\u001b[0m             _safe_call(_LIB.LGBM_BoosterUpdateOneIter(\n\u001b[1;32m   1801\u001b[0m                 \u001b[0mself\u001b[0m\u001b[0;34m.\u001b[0m\u001b[0mhandle\u001b[0m\u001b[0;34m,\u001b[0m\u001b[0;34m\u001b[0m\u001b[0;34m\u001b[0m\u001b[0m\n\u001b[0;32m-> 1802\u001b[0;31m                 ctypes.byref(is_finished)))\n\u001b[0m\u001b[1;32m   1803\u001b[0m             \u001b[0mself\u001b[0m\u001b[0;34m.\u001b[0m\u001b[0m__is_predicted_cur_iter\u001b[0m \u001b[0;34m=\u001b[0m \u001b[0;34m[\u001b[0m\u001b[0;32mFalse\u001b[0m \u001b[0;32mfor\u001b[0m \u001b[0m_\u001b[0m \u001b[0;32min\u001b[0m \u001b[0mrange_\u001b[0m\u001b[0;34m(\u001b[0m\u001b[0mself\u001b[0m\u001b[0;34m.\u001b[0m\u001b[0m__num_dataset\u001b[0m\u001b[0;34m)\u001b[0m\u001b[0;34m]\u001b[0m\u001b[0;34m\u001b[0m\u001b[0;34m\u001b[0m\u001b[0m\n\u001b[1;32m   1804\u001b[0m             \u001b[0;32mreturn\u001b[0m \u001b[0mis_finished\u001b[0m\u001b[0;34m.\u001b[0m\u001b[0mvalue\u001b[0m \u001b[0;34m==\u001b[0m \u001b[0;36m1\u001b[0m\u001b[0;34m\u001b[0m\u001b[0;34m\u001b[0m\u001b[0m\n",
      "\u001b[0;31mKeyboardInterrupt\u001b[0m: "
     ]
    }
   ],
   "source": [
    "training_stats = []\n",
    "\n",
    "for params in tqdm.tqdm_notebook(iter_grid_params(grid_params)):\n",
    "    params = {**default_params, **params}\n",
    "    stats = {\n",
    "        \"best_binary_logloss_train\": [],\n",
    "        \"best_error_train\": [],\n",
    "        \"best_binary_logloss_valid\": [],\n",
    "        \"best_error_valid\": [],\n",
    "    }\n",
    "    for lgb_train, lgb_test in lgb_train_test_splits:\n",
    "        gbm = lgb.train(\n",
    "            params,\n",
    "            lgb_train,\n",
    "            valid_sets=[lgb_train, lgb_test],\n",
    "            early_stopping_rounds=None,\n",
    "            verbose_eval=0,\n",
    "        )\n",
    "        stats[\"best_binary_logloss_train\"].append(\n",
    "            gbm.best_score[\"training\"][\"binary_logloss\"]\n",
    "        )\n",
    "        stats[\"best_error_train\"].append(gbm.best_score[\"training\"][\"binary_error\"])\n",
    "        stats[\"best_binary_logloss_valid\"].append(\n",
    "            gbm.best_score[\"valid_1\"][\"binary_logloss\"]\n",
    "        )\n",
    "        stats[\"best_error_valid\"].append(gbm.best_score[\"valid_1\"][\"binary_error\"])\n",
    "    training_stats.append(\n",
    "        {\n",
    "            **{k: np.mean(v) for k, v in stats.items()},\n",
    "            \"params\": {**default_params, **params},\n",
    "        }\n",
    "    )"
   ]
  },
  {
   "cell_type": "code",
   "execution_count": 137,
   "metadata": {},
   "outputs": [],
   "source": [
    "training_stats_df = pd.DataFrame(training_stats).sort_values(\"best_score_valid_l1\", ascending=True)"
   ]
  },
  {
   "cell_type": "code",
   "execution_count": 138,
   "metadata": {},
   "outputs": [
    {
     "data": {
      "text/html": [
       "<div>\n",
       "<style scoped>\n",
       "    .dataframe tbody tr th:only-of-type {\n",
       "        vertical-align: middle;\n",
       "    }\n",
       "\n",
       "    .dataframe tbody tr th {\n",
       "        vertical-align: top;\n",
       "    }\n",
       "\n",
       "    .dataframe thead th {\n",
       "        text-align: right;\n",
       "    }\n",
       "</style>\n",
       "<table border=\"1\" class=\"dataframe\">\n",
       "  <thead>\n",
       "    <tr style=\"text-align: right;\">\n",
       "      <th></th>\n",
       "      <th>best_score_training_l1</th>\n",
       "      <th>best_score_training_l2</th>\n",
       "      <th>best_score_valid_l1</th>\n",
       "      <th>best_score_valid_l2</th>\n",
       "      <th>params</th>\n",
       "    </tr>\n",
       "  </thead>\n",
       "  <tbody>\n",
       "    <tr>\n",
       "      <th>1928</th>\n",
       "      <td>0.63541</td>\n",
       "      <td>0.311559</td>\n",
       "      <td>0.669765</td>\n",
       "      <td>0.385595</td>\n",
       "      <td>{'random_state': 42, 'objective': 'binary', 'm...</td>\n",
       "    </tr>\n",
       "    <tr>\n",
       "      <th>1856</th>\n",
       "      <td>0.63541</td>\n",
       "      <td>0.311559</td>\n",
       "      <td>0.669765</td>\n",
       "      <td>0.385595</td>\n",
       "      <td>{'random_state': 42, 'objective': 'binary', 'm...</td>\n",
       "    </tr>\n",
       "    <tr>\n",
       "      <th>1910</th>\n",
       "      <td>0.63541</td>\n",
       "      <td>0.311559</td>\n",
       "      <td>0.669765</td>\n",
       "      <td>0.385595</td>\n",
       "      <td>{'random_state': 42, 'objective': 'binary', 'm...</td>\n",
       "    </tr>\n",
       "    <tr>\n",
       "      <th>1874</th>\n",
       "      <td>0.63541</td>\n",
       "      <td>0.311559</td>\n",
       "      <td>0.669765</td>\n",
       "      <td>0.385595</td>\n",
       "      <td>{'random_state': 42, 'objective': 'binary', 'm...</td>\n",
       "    </tr>\n",
       "    <tr>\n",
       "      <th>1892</th>\n",
       "      <td>0.63541</td>\n",
       "      <td>0.311559</td>\n",
       "      <td>0.669765</td>\n",
       "      <td>0.385595</td>\n",
       "      <td>{'random_state': 42, 'objective': 'binary', 'm...</td>\n",
       "    </tr>\n",
       "  </tbody>\n",
       "</table>\n",
       "</div>"
      ],
      "text/plain": [
       "      best_score_training_l1  best_score_training_l2  best_score_valid_l1  \\\n",
       "1928                 0.63541                0.311559             0.669765   \n",
       "1856                 0.63541                0.311559             0.669765   \n",
       "1910                 0.63541                0.311559             0.669765   \n",
       "1874                 0.63541                0.311559             0.669765   \n",
       "1892                 0.63541                0.311559             0.669765   \n",
       "\n",
       "      best_score_valid_l2                                             params  \n",
       "1928             0.385595  {'random_state': 42, 'objective': 'binary', 'm...  \n",
       "1856             0.385595  {'random_state': 42, 'objective': 'binary', 'm...  \n",
       "1910             0.385595  {'random_state': 42, 'objective': 'binary', 'm...  \n",
       "1874             0.385595  {'random_state': 42, 'objective': 'binary', 'm...  \n",
       "1892             0.385595  {'random_state': 42, 'objective': 'binary', 'm...  "
      ]
     },
     "execution_count": 138,
     "metadata": {},
     "output_type": "execute_result"
    }
   ],
   "source": [
    "training_stats_df.head(5)"
   ]
  },
  {
   "cell_type": "code",
   "execution_count": 139,
   "metadata": {},
   "outputs": [],
   "source": [
    "df = pd.DataFrame(training_stats_df[\"params\"].tolist())"
   ]
  },
  {
   "cell_type": "code",
   "execution_count": 140,
   "metadata": {},
   "outputs": [
    {
     "data": {
      "image/png": "[encoded data removed]",
      "text/plain": [
       "<Figure size 432x288 with 1 Axes>"
      ]
     },
     "metadata": {
      "needs_background": "light"
     },
     "output_type": "display_data"
    },
    {
     "data": {
      "image/png": "[encoded data removed]",
      "text/plain": [
       "<Figure size 432x288 with 1 Axes>"
      ]
     },
     "metadata": {
      "needs_background": "light"
     },
     "output_type": "display_data"
    },
    {
     "data": {
      "image/png": "[encoded data removed]",
      "text/plain": [
       "<Figure size 432x288 with 1 Axes>"
      ]
     },
     "metadata": {
      "needs_background": "light"
     },
     "output_type": "display_data"
    },
    {
     "data": {
      "image/png": "[encoded data removed]",
      "text/plain": [
       "<Figure size 432x288 with 1 Axes>"
      ]
     },
     "metadata": {
      "needs_background": "light"
     },
     "output_type": "display_data"
    },
    {
     "data": {
      "image/png": "[encoded data removed]",
      "text/plain": [
       "<Figure size 432x288 with 1 Axes>"
      ]
     },
     "metadata": {
      "needs_background": "light"
     },
     "output_type": "display_data"
    }
   ],
   "source": [
    "for key in df:\n",
    "    if isinstance(df[key][0], list):\n",
    "        continue\n",
    "    if len(df[key].drop_duplicates()) == 1:\n",
    "        continue\n",
    "    plt.plot(df[key])\n",
    "    plt.title(key)\n",
    "    plt.show()"
   ]
  },
  {
   "cell_type": "markdown",
   "metadata": {},
   "source": [
    "### Train best model"
   ]
  },
  {
   "cell_type": "code",
   "execution_count": 338,
   "metadata": {},
   "outputs": [],
   "source": [
    "best_params = training_stats_df.iloc[0][\"params\"].copy()"
   ]
  },
  {
   "cell_type": "code",
   "execution_count": 339,
   "metadata": {},
   "outputs": [],
   "source": [
    "gbm = lgb.train(best_params, lgb_full, valid_sets=[lgb_full], verbose_eval=0)"
   ]
  },
  {
   "cell_type": "code",
   "execution_count": 340,
   "metadata": {},
   "outputs": [
    {
     "data": {
      "text/plain": [
       "defaultdict(dict,\n",
       "            {'training': {'binary_error': 0.3006993006993007,\n",
       "              'binary_logloss': 0.6392947951695244}})"
      ]
     },
     "execution_count": 340,
     "metadata": {},
     "output_type": "execute_result"
    }
   ],
   "source": [
    "gbm.best_score"
   ]
  },
  {
   "cell_type": "code",
   "execution_count": 341,
   "metadata": {},
   "outputs": [
    {
     "data": {
      "text/plain": [
       "5"
      ]
     },
     "execution_count": 341,
     "metadata": {},
     "output_type": "execute_result"
    }
   ],
   "source": [
    "gbm.num_trees()"
   ]
  },
  {
   "cell_type": "code",
   "execution_count": 145,
   "metadata": {},
   "outputs": [
    {
     "data": {
      "text/plain": [
       "array([ True, False, False, False,  True,  True, False, False, False,\n",
       "       False,  True, False, False,  True,  True, False, False, False,\n",
       "        True,  True,  True, False,  True,  True,  True,  True, False,\n",
       "       False, False,  True,  True, False,  True,  True, False,  True,\n",
       "        True, False,  True,  True, False, False, False, False, False,\n",
       "        True,  True,  True,  True, False, False, False, False, False,\n",
       "        True,  True, False,  True, False,  True,  True,  True, False,\n",
       "        True, False, False, False,  True,  True,  True, False, False,\n",
       "        True, False, False, False, False,  True, False,  True, False,\n",
       "        True, False,  True, False,  True,  True,  True,  True,  True,\n",
       "       False,  True, False, False, False,  True,  True,  True,  True,\n",
       "        True,  True,  True, False,  True,  True, False,  True,  True,\n",
       "       False,  True, False,  True,  True,  True, False,  True, False,\n",
       "       False, False,  True,  True,  True,  True, False, False, False,\n",
       "       False, False, False,  True, False, False,  True,  True,  True,\n",
       "        True, False,  True,  True, False,  True, False,  True])"
      ]
     },
     "execution_count": 145,
     "metadata": {},
     "output_type": "execute_result"
    }
   ],
   "source": [
    "data_df_copy = data_df.copy()\n",
    "for c in data_df_copy:\n",
    "    if c not in [\"age\", \"retire\"]:\n",
    "        data_df_copy[c] = 0\n",
    "        \n",
    "gbm.predict(data_df) == gbm.predict(data_df_copy)"
   ]
  },
  {
   "cell_type": "code",
   "execution_count": 146,
   "metadata": {},
   "outputs": [
    {
     "data": {
      "text/plain": [
       "array([0, 0, 0, 0, 0, 0, 0, 0, 0, 0, 0, 0, 0, 0, 3, 0, 0, 0, 0, 0, 5, 0,\n",
       "       0, 0, 2, 0, 0, 0, 0])"
      ]
     },
     "execution_count": 146,
     "metadata": {},
     "output_type": "execute_result"
    }
   ],
   "source": [
    "gbm.feature_importance()"
   ]
  },
  {
   "cell_type": "markdown",
   "metadata": {},
   "source": [
    "## Analyze best model"
   ]
  },
  {
   "cell_type": "markdown",
   "metadata": {},
   "source": [
    "### Feature importances"
   ]
  },
  {
   "cell_type": "code",
   "execution_count": 328,
   "metadata": {},
   "outputs": [
    {
     "data": {
      "image/png": "[encoded data removed]",
      "text/plain": [
       "<Figure size 288x360 with 1 Axes>"
      ]
     },
     "metadata": {
      "needs_background": "light"
     },
     "output_type": "display_data"
    }
   ],
   "source": [
    "fg, ax = plt.subplots(figsize=(4, 5))\n",
    "lgb.plot_importance(gbm, ax=ax)\n",
    "ax.set_xlim(0, 6.4)\n",
    "fg.savefig(NOTEBOOK_PATH / \"feature-importance.svg\", bbox_inches=\"tight\")"
   ]
  },
  {
   "cell_type": "markdown",
   "metadata": {},
   "source": [
    "### Cross-validation accuracy"
   ]
  },
  {
   "cell_type": "code",
   "execution_count": 330,
   "metadata": {},
   "outputs": [
    {
     "name": "stdout",
     "output_type": "stream",
     "text": [
      "[0 0 0 0 0 0 0 0 0 0 0 0 0 0 3 0 0 0 0 0 5 0 0 0 3 0 0 0 0]\n",
      "[0 0 0 0 0 0 0 0 0 0 1 0 0 0 3 0 0 0 1 0 5 0 0 0 0 0 0 0 0]\n",
      "[0 0 0 0 0 0 0 0 0 0 0 0 1 0 3 0 0 0 1 0 5 0 0 0 0 0 0 0 0]\n",
      "[0 0 0 0 0 0 0 0 0 0 0 0 0 0 2 0 2 0 0 0 5 0 0 0 3 0 0 0 0]\n",
      "[0 0 0 0 0 0 0 0 0 0 0 0 0 0 4 0 0 0 0 0 5 0 0 0 1 0 0 0 0]\n",
      "[0 0 0 0 0 0 0 0 0 0 0 0 0 0 4 0 0 0 0 0 5 0 0 0 1 0 0 0 0]\n",
      "[0 0 0 0 0 0 0 0 0 0 0 0 0 0 2 0 0 0 0 0 5 0 0 0 3 0 0 0 0]\n",
      "[0 0 0 0 0 0 0 0 0 0 0 0 0 0 3 0 0 0 0 0 5 0 0 0 2 0 0 0 0]\n",
      "[0 0 0 0 0 0 0 0 0 0 0 0 0 0 3 0 0 0 0 0 5 0 0 0 2 0 0 0 0]\n",
      "[0 0 0 0 0 0 0 0 0 0 0 0 0 1 3 0 0 0 0 1 5 0 0 0 2 0 0 0 0]\n"
     ]
    }
   ],
   "source": [
    "actual = []\n",
    "predicted = []\n",
    "\n",
    "for lgb_train, lgb_test in lgb_train_test_splits:\n",
    "    gbm_sub = lgb.train(\n",
    "        best_params,\n",
    "        lgb_train,\n",
    "        valid_sets=[lgb_train, lgb_test],\n",
    "        early_stopping_rounds=None,\n",
    "        verbose_eval=0,\n",
    "    )\n",
    "    print(gbm_sub.feature_importance())\n",
    "    actual.append(lgb_test.label)\n",
    "    predicted.append(gbm_sub.predict(lgb_test.data))\n",
    "    \n",
    "actual = np.hstack(actual)\n",
    "predicted = np.hstack(predicted)"
   ]
  },
  {
   "cell_type": "code",
   "execution_count": 342,
   "metadata": {},
   "outputs": [
    {
     "data": {
      "image/png": "[encoded data removed]",
      "text/plain": [
       "<Figure size 360x288 with 1 Axes>"
      ]
     },
     "metadata": {
      "needs_background": "light"
     },
     "output_type": "display_data"
    }
   ],
   "source": [
    "with plt.rc_context(rc={\"font.size\": 12}):\n",
    "    fg, ax = plt.subplots(figsize=(5, 4))\n",
    "\n",
    "accuracy = (actual == (predicted > 0.5)).sum() / len(predicted)\n",
    "textstr = f\"Accuracy: {accuracy:.2%}\"\n",
    "ax.text(\n",
    "    0.03,\n",
    "    0.97,\n",
    "    textstr,\n",
    "    transform=ax.transAxes,\n",
    "    fontsize=12,\n",
    "    verticalalignment=\"top\",\n",
    "    bbox=dict(facecolor=\"white\", alpha=0.1),\n",
    ")\n",
    "\n",
    "ax.set_xlabel(\"Predicted change in ACQ score\")\n",
    "ax.set_ylabel(\"Number of participants\")\n",
    "xlim = (0.35, 0.7)\n",
    "assert predicted.min() > xlim[0] and predicted.max() < xlim[1]\n",
    "ax.hist(predicted[actual], bins=20, range=xlim, label=\"ΔACQ < -1\", alpha=0.9)\n",
    "ax.hist(predicted[~actual], bins=20, range=xlim, label=\"ΔACQ ≥ -1\", alpha=0.7)\n",
    "ax.legend()\n",
    "fg.savefig(NOTEBOOK_PATH / \"model-accuracy.svg\", bbox_inches=\"tight\")"
   ]
  },
  {
   "cell_type": "markdown",
   "metadata": {},
   "source": [
    "### Plot ROC curve"
   ]
  },
  {
   "cell_type": "code",
   "execution_count": 332,
   "metadata": {},
   "outputs": [
    {
     "data": {
      "image/png": "[encoded data removed]",
      "text/plain": [
       "<Figure size 360x324 with 1 Axes>"
      ]
     },
     "metadata": {
      "needs_background": "light"
     },
     "output_type": "display_data"
    }
   ],
   "source": [
    "with plt.rc_context(rc={\"font.size\": 12}):\n",
    "    fg, ax = plt.subplots(figsize=(5, 4.5))\n",
    "\n",
    "fpr_rt_lm, tpr_rt_lm, _ = metrics.roc_curve(actual, predicted)\n",
    "ax.plot(\n",
    "    fpr_rt_lm,\n",
    "    tpr_rt_lm,\n",
    "    label=f\"GBDT (AUC: {metrics.roc_auc_score(actual, predicted):.3f})\",\n",
    ")\n",
    "ax.plot(fpr_rt_lm, fpr_rt_lm, \"k--\")\n",
    "ax.set_xlabel(\"False positive rate\")\n",
    "ax.set_ylabel(\"True positive rate\")\n",
    "ax.legend()\n",
    "fg.savefig(NOTEBOOK_PATH / \"model-roc.svg\", bbox_inches=\"tight\")"
   ]
  },
  {
   "cell_type": "markdown",
   "metadata": {},
   "source": [
    "### Partial dependence plots"
   ]
  },
  {
   "cell_type": "code",
   "execution_count": 333,
   "metadata": {},
   "outputs": [],
   "source": [
    "X = data_df.drop(\"y\", axis=1)\n",
    "mask = gbm.feature_importance() > 0"
   ]
  },
  {
   "cell_type": "code",
   "execution_count": 334,
   "metadata": {},
   "outputs": [
    {
     "name": "stderr",
     "output_type": "stream",
     "text": [
      "/home/ubuntu/anaconda3/envs/defaults-v1/lib/python3.7/site-packages/shap/explainers/tree.py:180: UserWarning: LightGBM binary classifier with TreeExplainer shap values output has changed to a list of ndarray\n",
      "  warnings.warn('LightGBM binary classifier with TreeExplainer shap values output has changed to a list of ndarray')\n"
     ]
    }
   ],
   "source": [
    "explainer = shap.TreeExplainer(gbm)\n",
    "shap_values = explainer.shap_values(X)"
   ]
  },
  {
   "cell_type": "code",
   "execution_count": 335,
   "metadata": {},
   "outputs": [
    {
     "data": {
      "image/png": "[encoded data removed]",
      "text/plain": [
       "<Figure size 504x360 with 2 Axes>"
      ]
     },
     "metadata": {
      "needs_background": "light"
     },
     "output_type": "display_data"
    },
    {
     "data": {
      "image/png": "[encoded data removed]",
      "text/plain": [
       "<Figure size 504x360 with 2 Axes>"
      ]
     },
     "metadata": {
      "needs_background": "light"
     },
     "output_type": "display_data"
    },
    {
     "data": {
      "image/png": "[encoded data removed]",
      "text/plain": [
       "<Figure size 504x360 with 2 Axes>"
      ]
     },
     "metadata": {
      "needs_background": "light"
     },
     "output_type": "display_data"
    }
   ],
   "source": [
    "for col in X.loc[:, gbm.feature_importance() > 0].columns:\n",
    "    fg, ax = plt.subplots(figsize=(7, 5))\n",
    "    shap.dependence_plot(col, shap_values[1], X, X.columns, ax=ax)\n",
    "    fg.savefig(NOTEBOOK_PATH / f\"shap-{col}.svg\", bbox_inches=\"tight\")"
   ]
  },
  {
   "cell_type": "code",
   "execution_count": 336,
   "metadata": {},
   "outputs": [
    {
     "data": {
      "image/png": "[encoded data removed]",
      "text/plain": [
       "<Figure size 576x194.4 with 1 Axes>"
      ]
     },
     "metadata": {
      "needs_background": "light"
     },
     "output_type": "display_data"
    }
   ],
   "source": [
    "shap.summary_plot(np.vstack([v[mask] for v in shap_values[1]]), X.loc[:, mask].columns)"
   ]
  },
  {
   "cell_type": "code",
   "execution_count": null,
   "metadata": {},
   "outputs": [],
   "source": []
  }
 ],
 "metadata": {
  "kernelspec": {
   "display_name": "Python [conda env:defaults-v1]",
   "language": "python",
   "name": "conda-env-defaults-v1-py"
  },
  "language_info": {
   "codemirror_mode": {
    "name": "ipython",
    "version": 3
   },
   "file_extension": ".py",
   "mimetype": "text/x-python",
   "name": "python",
   "nbconvert_exporter": "python",
   "pygments_lexer": "ipython3",
   "version": "3.7.3"
  }
 },
 "nbformat": 4,
 "nbformat_minor": 4
}
