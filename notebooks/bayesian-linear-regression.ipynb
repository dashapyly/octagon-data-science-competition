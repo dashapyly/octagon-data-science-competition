{
 "cells": [
  {
   "cell_type": "markdown",
   "metadata": {},
   "source": [
    "## Summary\n",
    "\n",
    "---"
   ]
  },
  {
   "cell_type": "markdown",
   "metadata": {},
   "source": [
    "## Imports"
   ]
  },
  {
   "cell_type": "code",
   "execution_count": 153,
   "metadata": {},
   "outputs": [],
   "source": [
    "from pathlib import Path\n",
    "\n",
    "import numpy as np\n",
    "import pandas as pd\n",
    "import pyarrow as pa\n",
    "import pyarrow.parquet as pq\n",
    "import matplotlib.pyplot as plt\n",
    "import pymc3 as pm\n",
    "import lightgbm as lgb\n",
    "from scipy import stats\n",
    "from sklearn.model_selection import KFold\n",
    "from sklearn.model_selection import GridSearchCV"
   ]
  },
  {
   "cell_type": "code",
   "execution_count": 2,
   "metadata": {},
   "outputs": [],
   "source": [
    "pd.set_option(\"max_columns\", 1000)"
   ]
  },
  {
   "cell_type": "markdown",
   "metadata": {},
   "source": [
    "## Parameters"
   ]
  },
  {
   "cell_type": "code",
   "execution_count": 3,
   "metadata": {},
   "outputs": [
    {
     "data": {
      "text/plain": [
       "'bayesian-linear-regression'"
      ]
     },
     "execution_count": 3,
     "metadata": {},
     "output_type": "execute_result"
    }
   ],
   "source": [
    "NOTEBOOK_NAME = \"bayesian-linear-regression\"\n",
    "NOTEBOOK_PATH = Path(NOTEBOOK_NAME).resolve()\n",
    "NOTEBOOK_PATH.mkdir(exist_ok=True)\n",
    "NOTEBOOK_NAME"
   ]
  },
  {
   "cell_type": "markdown",
   "metadata": {},
   "source": [
    "## Load data"
   ]
  },
  {
   "cell_type": "code",
   "execution_count": 105,
   "metadata": {},
   "outputs": [],
   "source": [
    "input_df = pq.read_table(\"01_prepare_combined_dataset/combined.parquet\").to_pandas()"
   ]
  },
  {
   "cell_type": "code",
   "execution_count": 106,
   "metadata": {},
   "outputs": [],
   "source": [
    "# input_df = pq.read_table(\"data-challenge/data_final.parquet\").to_pandas()"
   ]
  },
  {
   "cell_type": "code",
   "execution_count": null,
   "metadata": {},
   "outputs": [],
   "source": [
    "## Filter data"
   ]
  },
  {
   "cell_type": "code",
   "execution_count": 119,
   "metadata": {},
   "outputs": [],
   "source": [
    "input_df[\"y\"] = input_df[[\"acq2\", \"acq3\", \"acq4\", \"acq5\"]].mean(axis=1) - input_df[\"acq\"]"
   ]
  },
  {
   "cell_type": "code",
   "execution_count": 120,
   "metadata": {},
   "outputs": [],
   "source": [
    "input_df = input_df[input_df[\"y\"].notnull()]\n",
    "input_df = input_df[\n",
    "    (input_df[[\"acq\", \"acq2\", \"acq3\", \"acq4\", \"acq5\"]] <= 6).all(axis=1)\n",
    "]"
   ]
  },
  {
   "cell_type": "code",
   "execution_count": 121,
   "metadata": {},
   "outputs": [],
   "source": [
    "assert len(input_df) == 143, len(input_df)"
   ]
  },
  {
   "cell_type": "markdown",
   "metadata": {},
   "source": [
    "## Explore input data"
   ]
  },
  {
   "cell_type": "code",
   "execution_count": 283,
   "metadata": {},
   "outputs": [
    {
     "data": {
      "image/png": "[encoded data removed]",
      "text/plain": [
       "<Figure size 360x288 with 1 Axes>"
      ]
     },
     "metadata": {
      "needs_background": "light"
     },
     "output_type": "display_data"
    }
   ],
   "source": [
    "fg, ax = plt.subplots(figsize=(5, 4))\n",
    "ax.hist(input_df[\"y\"], bins=20)\n",
    "ax.set_xlabel(\"Change in ACQ\")\n",
    "ax.set_ylabel(\"Number of participants\")\n",
    "None"
   ]
  },
  {
   "cell_type": "code",
   "execution_count": 284,
   "metadata": {},
   "outputs": [
    {
     "data": {
      "text/plain": [
       "Index(['id', 'date_x', 'acq', 'date2', 'acq2', 'date3', 'acq3', 'date4',\n",
       "       'acq4', 'date5', 'acq5', 'co-copd', 'co-heartfailure', 'co-diabetes',\n",
       "       'co-yellowfever', 'co-asthma', 'co-pulmonaryembolism', 'co-bronchitis',\n",
       "       'co-arthritis', 'co-pneumonia', 'medhistory_table', 'assess_x',\n",
       "       'smoking', 'polyps', 'vaccine', 'arthritis', 'CVD', 'Prev-biologic',\n",
       "       'allergy', 'weight', 'height', 'age', 'race', 'ethnicity', 'gender',\n",
       "       'work', 'retire', 'disab', 'demographics_table', 'assess_y',\n",
       "       'birthyear', 'sex', 'date_y', 'clinic', 'infconsent', '18+', 'eos300',\n",
       "       'eos150', 'sputum', 'acq-screen', 'result', 'y'],\n",
       "      dtype='object')"
      ]
     },
     "execution_count": 284,
     "metadata": {},
     "output_type": "execute_result"
    }
   ],
   "source": [
    "input_df.columns"
   ]
  },
  {
   "cell_type": "code",
   "execution_count": null,
   "metadata": {},
   "outputs": [],
   "source": [
    "input_df[c]"
   ]
  },
  {
   "cell_type": "code",
   "execution_count": null,
   "metadata": {},
   "outputs": [],
   "source": []
  },
  {
   "cell_type": "markdown",
   "metadata": {},
   "source": [
    "## Fit model"
   ]
  },
  {
   "cell_type": "code",
   "execution_count": 207,
   "metadata": {},
   "outputs": [],
   "source": [
    "def encode_categorical(df, column):\n",
    "    categories = {c: i for i, c in enumerate(set(df[column]))}\n",
    "    df[column] = df[column].map(categories)"
   ]
  },
  {
   "cell_type": "code",
   "execution_count": 208,
   "metadata": {},
   "outputs": [],
   "source": [
    "columns_to_drop = [\n",
    "    'date_x', 'acq', 'date2', 'acq2', 'date3', 'acq3', \n",
    "    'date4', 'acq4', 'date5', 'acq5', \"assess_y\", \"date_y\"\n",
    "]\n",
    "data_df = input_df.drop(pd.Index(columns_to_drop), axis=1)\n",
    "\n",
    "columns_to_keep = [\n",
    "    \"y\"]\n",
    "\n",
    "\n",
    "categorical_feature=[\n",
    "    \"medhistory_table\",\n",
    "    \"race\",\n",
    "    \"ethnicity\",\n",
    "    \"work\",\n",
    "    \"disab\",\n",
    "    \"demographics_tabl\",\n",
    "    \"clinic\",\n",
    "    \"infconsent\",\n",
    "    \"18+\",\n",
    "    \"result\",\n",
    "]\n",
    "categorical_feature = [c for c in categorical_feature if c in data_df]\n",
    "for column in categorical_feature:\n",
    "    encode_categorical(data_df, column)\n",
    "    \n",
    "    \n"
   ]
  },
  {
   "cell_type": "code",
   "execution_count": 209,
   "metadata": {},
   "outputs": [],
   "source": [
    "kf = KFold(n_splits=10, shuffle=True, random_state=42)"
   ]
  },
  {
   "cell_type": "code",
   "execution_count": 210,
   "metadata": {},
   "outputs": [],
   "source": [
    "for train_index, test_index in kf.split(df_train):\n",
    "    train_df = data_df.iloc[train_index]\n",
    "    test_df = data_df.iloc[test_index]\n",
    "    X_train = train_df.drop(\"y\", axis=1)\n",
    "    y_train = train_df[\"y\"]\n",
    "    X_test = test_df.drop(\"y\", axis=1)\n",
    "    y_test = test_df[\"y\"]\n",
    "    \n",
    "    break"
   ]
  },
  {
   "cell_type": "code",
   "execution_count": 211,
   "metadata": {},
   "outputs": [
    {
     "data": {
      "text/plain": [
       "id                        int64\n",
       "co-copd                 float64\n",
       "co-heartfailure         float64\n",
       "co-diabetes             float64\n",
       "co-yellowfever          float64\n",
       "co-asthma               float64\n",
       "co-pulmonaryembolism    float64\n",
       "co-bronchitis           float64\n",
       "co-arthritis            float64\n",
       "co-pneumonia            float64\n",
       "medhistory_table          int64\n",
       "assess_x                float64\n",
       "smoking                 float64\n",
       "polyps                  float64\n",
       "vaccine                 float64\n",
       "arthritis               float64\n",
       "CVD                     float64\n",
       "Prev-biologic           float64\n",
       "allergy                 float64\n",
       "weight                  float64\n",
       "height                  float64\n",
       "age                     float64\n",
       "race                      int64\n",
       "ethnicity                 int64\n",
       "gender                  float64\n",
       "work                      int64\n",
       "retire                  float64\n",
       "disab                     int64\n",
       "demographics_table        int64\n",
       "birthyear               float64\n",
       "sex                     float64\n",
       "clinic                    int64\n",
       "infconsent                int64\n",
       "18+                       int64\n",
       "eos300                  float64\n",
       "eos150                  float64\n",
       "sputum                  float64\n",
       "acq-screen              float64\n",
       "result                    int64\n",
       "y                       float64\n",
       "dtype: object"
      ]
     },
     "execution_count": 211,
     "metadata": {},
     "output_type": "execute_result"
    }
   ],
   "source": [
    "train_df.dtypes"
   ]
  },
  {
   "cell_type": "code",
   "execution_count": 212,
   "metadata": {},
   "outputs": [
    {
     "data": {
      "text/html": [
       "<div>\n",
       "<style scoped>\n",
       "    .dataframe tbody tr th:only-of-type {\n",
       "        vertical-align: middle;\n",
       "    }\n",
       "\n",
       "    .dataframe tbody tr th {\n",
       "        vertical-align: top;\n",
       "    }\n",
       "\n",
       "    .dataframe thead th {\n",
       "        text-align: right;\n",
       "    }\n",
       "</style>\n",
       "<table border=\"1\" class=\"dataframe\">\n",
       "  <thead>\n",
       "    <tr style=\"text-align: right;\">\n",
       "      <th></th>\n",
       "      <th>id</th>\n",
       "      <th>co-copd</th>\n",
       "      <th>co-heartfailure</th>\n",
       "      <th>co-diabetes</th>\n",
       "      <th>co-yellowfever</th>\n",
       "      <th>co-asthma</th>\n",
       "      <th>co-pulmonaryembolism</th>\n",
       "      <th>co-bronchitis</th>\n",
       "      <th>co-arthritis</th>\n",
       "      <th>co-pneumonia</th>\n",
       "      <th>medhistory_table</th>\n",
       "      <th>assess_x</th>\n",
       "      <th>smoking</th>\n",
       "      <th>polyps</th>\n",
       "      <th>vaccine</th>\n",
       "      <th>arthritis</th>\n",
       "      <th>CVD</th>\n",
       "      <th>Prev-biologic</th>\n",
       "      <th>allergy</th>\n",
       "      <th>weight</th>\n",
       "      <th>height</th>\n",
       "      <th>age</th>\n",
       "      <th>race</th>\n",
       "      <th>ethnicity</th>\n",
       "      <th>gender</th>\n",
       "      <th>work</th>\n",
       "      <th>retire</th>\n",
       "      <th>disab</th>\n",
       "      <th>demographics_table</th>\n",
       "      <th>birthyear</th>\n",
       "      <th>sex</th>\n",
       "      <th>clinic</th>\n",
       "      <th>infconsent</th>\n",
       "      <th>18+</th>\n",
       "      <th>eos300</th>\n",
       "      <th>eos150</th>\n",
       "      <th>sputum</th>\n",
       "      <th>acq-screen</th>\n",
       "      <th>result</th>\n",
       "      <th>y</th>\n",
       "    </tr>\n",
       "  </thead>\n",
       "  <tbody>\n",
       "    <tr>\n",
       "      <th>0</th>\n",
       "      <td>122</td>\n",
       "      <td>NaN</td>\n",
       "      <td>0.134831</td>\n",
       "      <td>0.088137</td>\n",
       "      <td>NaN</td>\n",
       "      <td>0.791711</td>\n",
       "      <td>NaN</td>\n",
       "      <td>NaN</td>\n",
       "      <td>NaN</td>\n",
       "      <td>0.154149</td>\n",
       "      <td>0</td>\n",
       "      <td>NaN</td>\n",
       "      <td>NaN</td>\n",
       "      <td>NaN</td>\n",
       "      <td>NaN</td>\n",
       "      <td>NaN</td>\n",
       "      <td>NaN</td>\n",
       "      <td>NaN</td>\n",
       "      <td>NaN</td>\n",
       "      <td>NaN</td>\n",
       "      <td>NaN</td>\n",
       "      <td>18.0</td>\n",
       "      <td>3</td>\n",
       "      <td>5</td>\n",
       "      <td>2.0</td>\n",
       "      <td>0</td>\n",
       "      <td>1.0</td>\n",
       "      <td>0</td>\n",
       "      <td>0</td>\n",
       "      <td>NaN</td>\n",
       "      <td>NaN</td>\n",
       "      <td>0</td>\n",
       "      <td>0</td>\n",
       "      <td>0</td>\n",
       "      <td>1.0</td>\n",
       "      <td>NaN</td>\n",
       "      <td>NaN</td>\n",
       "      <td>4.833333</td>\n",
       "      <td>1</td>\n",
       "      <td>-1.362167</td>\n",
       "    </tr>\n",
       "    <tr>\n",
       "      <th>1</th>\n",
       "      <td>129</td>\n",
       "      <td>1.0</td>\n",
       "      <td>0.975158</td>\n",
       "      <td>0.440870</td>\n",
       "      <td>NaN</td>\n",
       "      <td>0.166631</td>\n",
       "      <td>NaN</td>\n",
       "      <td>NaN</td>\n",
       "      <td>NaN</td>\n",
       "      <td>0.067263</td>\n",
       "      <td>0</td>\n",
       "      <td>NaN</td>\n",
       "      <td>NaN</td>\n",
       "      <td>NaN</td>\n",
       "      <td>NaN</td>\n",
       "      <td>NaN</td>\n",
       "      <td>NaN</td>\n",
       "      <td>NaN</td>\n",
       "      <td>NaN</td>\n",
       "      <td>NaN</td>\n",
       "      <td>NaN</td>\n",
       "      <td>54.0</td>\n",
       "      <td>3</td>\n",
       "      <td>5</td>\n",
       "      <td>1.0</td>\n",
       "      <td>1</td>\n",
       "      <td>NaN</td>\n",
       "      <td>1</td>\n",
       "      <td>0</td>\n",
       "      <td>NaN</td>\n",
       "      <td>NaN</td>\n",
       "      <td>0</td>\n",
       "      <td>0</td>\n",
       "      <td>0</td>\n",
       "      <td>1.0</td>\n",
       "      <td>NaN</td>\n",
       "      <td>NaN</td>\n",
       "      <td>1.333333</td>\n",
       "      <td>0</td>\n",
       "      <td>-1.410933</td>\n",
       "    </tr>\n",
       "    <tr>\n",
       "      <th>2</th>\n",
       "      <td>120</td>\n",
       "      <td>1.0</td>\n",
       "      <td>0.727836</td>\n",
       "      <td>0.787530</td>\n",
       "      <td>NaN</td>\n",
       "      <td>0.948943</td>\n",
       "      <td>NaN</td>\n",
       "      <td>NaN</td>\n",
       "      <td>NaN</td>\n",
       "      <td>0.845027</td>\n",
       "      <td>0</td>\n",
       "      <td>NaN</td>\n",
       "      <td>NaN</td>\n",
       "      <td>NaN</td>\n",
       "      <td>NaN</td>\n",
       "      <td>NaN</td>\n",
       "      <td>NaN</td>\n",
       "      <td>NaN</td>\n",
       "      <td>NaN</td>\n",
       "      <td>NaN</td>\n",
       "      <td>NaN</td>\n",
       "      <td>52.0</td>\n",
       "      <td>3</td>\n",
       "      <td>5</td>\n",
       "      <td>0.0</td>\n",
       "      <td>0</td>\n",
       "      <td>1.0</td>\n",
       "      <td>1</td>\n",
       "      <td>0</td>\n",
       "      <td>NaN</td>\n",
       "      <td>NaN</td>\n",
       "      <td>0</td>\n",
       "      <td>0</td>\n",
       "      <td>0</td>\n",
       "      <td>1.0</td>\n",
       "      <td>NaN</td>\n",
       "      <td>NaN</td>\n",
       "      <td>4.666667</td>\n",
       "      <td>1</td>\n",
       "      <td>0.681100</td>\n",
       "    </tr>\n",
       "    <tr>\n",
       "      <th>3</th>\n",
       "      <td>127</td>\n",
       "      <td>0.0</td>\n",
       "      <td>0.891873</td>\n",
       "      <td>0.963744</td>\n",
       "      <td>NaN</td>\n",
       "      <td>0.993591</td>\n",
       "      <td>NaN</td>\n",
       "      <td>NaN</td>\n",
       "      <td>NaN</td>\n",
       "      <td>0.256935</td>\n",
       "      <td>0</td>\n",
       "      <td>NaN</td>\n",
       "      <td>NaN</td>\n",
       "      <td>NaN</td>\n",
       "      <td>NaN</td>\n",
       "      <td>NaN</td>\n",
       "      <td>NaN</td>\n",
       "      <td>NaN</td>\n",
       "      <td>NaN</td>\n",
       "      <td>NaN</td>\n",
       "      <td>NaN</td>\n",
       "      <td>47.0</td>\n",
       "      <td>3</td>\n",
       "      <td>6</td>\n",
       "      <td>1.0</td>\n",
       "      <td>1</td>\n",
       "      <td>NaN</td>\n",
       "      <td>1</td>\n",
       "      <td>0</td>\n",
       "      <td>NaN</td>\n",
       "      <td>NaN</td>\n",
       "      <td>0</td>\n",
       "      <td>0</td>\n",
       "      <td>0</td>\n",
       "      <td>1.0</td>\n",
       "      <td>NaN</td>\n",
       "      <td>NaN</td>\n",
       "      <td>4.166667</td>\n",
       "      <td>1</td>\n",
       "      <td>-4.342200</td>\n",
       "    </tr>\n",
       "    <tr>\n",
       "      <th>4</th>\n",
       "      <td>123</td>\n",
       "      <td>NaN</td>\n",
       "      <td>0.656758</td>\n",
       "      <td>0.851192</td>\n",
       "      <td>NaN</td>\n",
       "      <td>NaN</td>\n",
       "      <td>NaN</td>\n",
       "      <td>NaN</td>\n",
       "      <td>NaN</td>\n",
       "      <td>0.383282</td>\n",
       "      <td>0</td>\n",
       "      <td>NaN</td>\n",
       "      <td>NaN</td>\n",
       "      <td>NaN</td>\n",
       "      <td>NaN</td>\n",
       "      <td>NaN</td>\n",
       "      <td>NaN</td>\n",
       "      <td>NaN</td>\n",
       "      <td>NaN</td>\n",
       "      <td>NaN</td>\n",
       "      <td>NaN</td>\n",
       "      <td>16.0</td>\n",
       "      <td>3</td>\n",
       "      <td>1</td>\n",
       "      <td>3.0</td>\n",
       "      <td>0</td>\n",
       "      <td>1.0</td>\n",
       "      <td>1</td>\n",
       "      <td>0</td>\n",
       "      <td>NaN</td>\n",
       "      <td>NaN</td>\n",
       "      <td>0</td>\n",
       "      <td>0</td>\n",
       "      <td>0</td>\n",
       "      <td>1.0</td>\n",
       "      <td>NaN</td>\n",
       "      <td>NaN</td>\n",
       "      <td>3.166667</td>\n",
       "      <td>1</td>\n",
       "      <td>-0.948000</td>\n",
       "    </tr>\n",
       "  </tbody>\n",
       "</table>\n",
       "</div>"
      ],
      "text/plain": [
       "    id  co-copd  co-heartfailure  co-diabetes  co-yellowfever  co-asthma  \\\n",
       "0  122      NaN         0.134831     0.088137             NaN   0.791711   \n",
       "1  129      1.0         0.975158     0.440870             NaN   0.166631   \n",
       "2  120      1.0         0.727836     0.787530             NaN   0.948943   \n",
       "3  127      0.0         0.891873     0.963744             NaN   0.993591   \n",
       "4  123      NaN         0.656758     0.851192             NaN        NaN   \n",
       "\n",
       "   co-pulmonaryembolism  co-bronchitis  co-arthritis  co-pneumonia  \\\n",
       "0                   NaN            NaN           NaN      0.154149   \n",
       "1                   NaN            NaN           NaN      0.067263   \n",
       "2                   NaN            NaN           NaN      0.845027   \n",
       "3                   NaN            NaN           NaN      0.256935   \n",
       "4                   NaN            NaN           NaN      0.383282   \n",
       "\n",
       "   medhistory_table  assess_x  smoking  polyps  vaccine  arthritis  CVD  \\\n",
       "0                 0       NaN      NaN     NaN      NaN        NaN  NaN   \n",
       "1                 0       NaN      NaN     NaN      NaN        NaN  NaN   \n",
       "2                 0       NaN      NaN     NaN      NaN        NaN  NaN   \n",
       "3                 0       NaN      NaN     NaN      NaN        NaN  NaN   \n",
       "4                 0       NaN      NaN     NaN      NaN        NaN  NaN   \n",
       "\n",
       "   Prev-biologic  allergy  weight  height   age  race  ethnicity  gender  \\\n",
       "0            NaN      NaN     NaN     NaN  18.0     3          5     2.0   \n",
       "1            NaN      NaN     NaN     NaN  54.0     3          5     1.0   \n",
       "2            NaN      NaN     NaN     NaN  52.0     3          5     0.0   \n",
       "3            NaN      NaN     NaN     NaN  47.0     3          6     1.0   \n",
       "4            NaN      NaN     NaN     NaN  16.0     3          1     3.0   \n",
       "\n",
       "   work  retire  disab  demographics_table  birthyear  sex  clinic  \\\n",
       "0     0     1.0      0                   0        NaN  NaN       0   \n",
       "1     1     NaN      1                   0        NaN  NaN       0   \n",
       "2     0     1.0      1                   0        NaN  NaN       0   \n",
       "3     1     NaN      1                   0        NaN  NaN       0   \n",
       "4     0     1.0      1                   0        NaN  NaN       0   \n",
       "\n",
       "   infconsent  18+  eos300  eos150  sputum  acq-screen  result         y  \n",
       "0           0    0     1.0     NaN     NaN    4.833333       1 -1.362167  \n",
       "1           0    0     1.0     NaN     NaN    1.333333       0 -1.410933  \n",
       "2           0    0     1.0     NaN     NaN    4.666667       1  0.681100  \n",
       "3           0    0     1.0     NaN     NaN    4.166667       1 -4.342200  \n",
       "4           0    0     1.0     NaN     NaN    3.166667       1 -0.948000  "
      ]
     },
     "execution_count": 212,
     "metadata": {},
     "output_type": "execute_result"
    }
   ],
   "source": [
    "train_df.head()"
   ]
  },
  {
   "cell_type": "code",
   "execution_count": 239,
   "metadata": {},
   "outputs": [],
   "source": [
    "lgb_train = lgb.Dataset(\n",
    "    X_train, y_train, categorical_feature=categorical_feature, free_raw_data=False)\n",
    "lgb_test = lgb.Dataset(\n",
    "    X_test, y_test, reference=lgb_train, categorical_feature=categorical_feature, free_raw_data=False)"
   ]
  },
  {
   "cell_type": "code",
   "execution_count": 249,
   "metadata": {},
   "outputs": [],
   "source": [
    "# Set params\n",
    "# Scores ~0.784 (without tuning and early stopping)\n",
    "params = {'boosting_type': 'gbdt',\n",
    "          'max_depth' : -1,\n",
    "          'objective': 'binary',\n",
    "          'nthread': 3, # Updated from nthread\n",
    "          'num_leaves': 64,\n",
    "          'learning_rate': 0.05,\n",
    "          'max_bin': 512,\n",
    "          'subsample_for_bin': 200,\n",
    "          'subsample': 1,\n",
    "          'subsample_freq': 1,\n",
    "          'colsample_bytree': 0.8,\n",
    "          'reg_alpha': 5,\n",
    "          'reg_lambda': 10,\n",
    "          'min_split_gain': 0.5,\n",
    "          'min_child_weight': 1,\n",
    "          'min_child_samples': 5,\n",
    "          'scale_pos_weight': 1,\n",
    "          'num_class' : 1,\n",
    "          'metric' : 'binary_error'}\n",
    "\n",
    "# Create parameters to search\n",
    "grid_params = {\n",
    "    'learning_rate': [0.005],\n",
    "    'n_estimators': [40],\n",
    "    'num_leaves': [6,8,12,16],\n",
    "    'boosting_type' : ['gbdt'],\n",
    "    'objective' : ['binary'],\n",
    "    'random_state' : [501], # Updated from 'seed'\n",
    "    'colsample_bytree' : [0.65, 0.66],\n",
    "    'subsample' : [0.7,0.75],\n",
    "    'reg_alpha' : [1,1.2],\n",
    "    'reg_lambda' : [1,1.2,1.4],\n",
    "    }"
   ]
  },
  {
   "cell_type": "code",
   "execution_count": 241,
   "metadata": {},
   "outputs": [],
   "source": [
    "mdl = lgb.LGBMRegressor(boosting_type= 'gbdt',\n",
    "          objective = 'binary',\n",
    "          n_jobs = 3, # Updated from 'nthread'\n",
    "          silent = True,\n",
    "          max_depth = params['max_depth'],\n",
    "          max_bin = params['max_bin'],\n",
    "          subsample_for_bin = params['subsample_for_bin'],\n",
    "          subsample = params['subsample'],\n",
    "          subsample_freq = params['subsample_freq'],\n",
    "          min_split_gain = params['min_split_gain'],\n",
    "          min_child_weight = params['min_child_weight'],\n",
    "          min_child_samples = params['min_child_samples'],\n",
    "          scale_pos_weight = params['scale_pos_weight'])"
   ]
  },
  {
   "cell_type": "code",
   "execution_count": 277,
   "metadata": {},
   "outputs": [],
   "source": [
    "def iter_grid_params(grid_params):\n",
    "    if not grid_params:\n",
    "        return [{}]\n",
    "    grid_params = grid_params.copy()\n",
    "    key, values = grid_params.popitem()\n",
    "    result = []\n",
    "    for child_dict in iter_grid_params(grid_params):\n",
    "        for value in values:\n",
    "            result.append({**child_dict, key: value})\n",
    "    return result"
   ]
  },
  {
   "cell_type": "code",
   "execution_count": 281,
   "metadata": {},
   "outputs": [],
   "source": [
    "for params_extra in iter_grid_params(grid_params):\n",
    "    gbm = lgb.train(\n",
    "        {**params, **params_extra},\n",
    "        lgb_train,\n",
    "        100000,\n",
    "        valid_sets=[lgb_train, lgb_test],\n",
    "        early_stopping_rounds=50,\n",
    "        verbose_eval=0,\n",
    "    )"
   ]
  },
  {
   "cell_type": "code",
   "execution_count": null,
   "metadata": {},
   "outputs": [],
   "source": []
  },
  {
   "cell_type": "code",
   "execution_count": 282,
   "metadata": {},
   "outputs": [
    {
     "data": {
      "text/plain": [
       "<matplotlib.axes._subplots.AxesSubplot at 0x7f0a12475390>"
      ]
     },
     "execution_count": 282,
     "metadata": {},
     "output_type": "execute_result"
    },
    {
     "data": {
      "image/png": "[encoded data removed]",
      "text/plain": [
       "<Figure size 432x288 with 1 Axes>"
      ]
     },
     "metadata": {
      "needs_background": "light"
     },
     "output_type": "display_data"
    }
   ],
   "source": [
    "lgb.plot_importance(gbm)"
   ]
  },
  {
   "cell_type": "code",
   "execution_count": 237,
   "metadata": {},
   "outputs": [
    {
     "data": {
      "text/plain": [
       "defaultdict(collections.OrderedDict, {})"
      ]
     },
     "execution_count": 237,
     "metadata": {},
     "output_type": "execute_result"
    }
   ],
   "source": [
    "gbm.best_score"
   ]
  },
  {
   "cell_type": "code",
   "execution_count": 231,
   "metadata": {},
   "outputs": [
    {
     "ename": "KeyError",
     "evalue": "'task'",
     "output_type": "error",
     "traceback": [
      "\u001b[0;31m---------------------------------------------------------------------------\u001b[0m",
      "\u001b[0;31mKeyError\u001b[0m                                  Traceback (most recent call last)",
      "\u001b[0;32m<ipython-input-231-76f9279b99ac>\u001b[0m in \u001b[0;36m<module>\u001b[0;34m\u001b[0m\n\u001b[1;32m      7\u001b[0m \u001b[0;34m\u001b[0m\u001b[0m\n\u001b[1;32m      8\u001b[0m mdl = lgb.LGBMClassifier(\n\u001b[0;32m----> 9\u001b[0;31m     \u001b[0mtask\u001b[0m \u001b[0;34m=\u001b[0m \u001b[0mparams\u001b[0m\u001b[0;34m[\u001b[0m\u001b[0;34m'task'\u001b[0m\u001b[0;34m]\u001b[0m\u001b[0;34m,\u001b[0m\u001b[0;34m\u001b[0m\u001b[0;34m\u001b[0m\u001b[0m\n\u001b[0m\u001b[1;32m     10\u001b[0m     \u001b[0mmetric\u001b[0m \u001b[0;34m=\u001b[0m \u001b[0mparams\u001b[0m\u001b[0;34m[\u001b[0m\u001b[0;34m'metric'\u001b[0m\u001b[0;34m]\u001b[0m\u001b[0;34m,\u001b[0m\u001b[0;34m\u001b[0m\u001b[0;34m\u001b[0m\u001b[0m\n\u001b[1;32m     11\u001b[0m     \u001b[0mmetric_freq\u001b[0m \u001b[0;34m=\u001b[0m \u001b[0mparams\u001b[0m\u001b[0;34m[\u001b[0m\u001b[0;34m'metric_freq'\u001b[0m\u001b[0;34m]\u001b[0m\u001b[0;34m,\u001b[0m\u001b[0;34m\u001b[0m\u001b[0;34m\u001b[0m\u001b[0m\n",
      "\u001b[0;31mKeyError\u001b[0m: 'task'"
     ]
    }
   ],
   "source": [
    "gridParams = {\n",
    "    'learning_rate': [ 0.1],\n",
    "    'num_leaves': [63],\n",
    "    'boosting_type' : ['gbdt'],\n",
    "    'objective' : ['binary']\n",
    "}\n",
    "\n",
    "mdl = lgb.LGBMClassifier(\n",
    "    task = params['task'],\n",
    "    metric = params['metric'],\n",
    "    metric_freq = params['metric_freq'],\n",
    "    is_training_metric = params['is_training_metric'],\n",
    "    max_bin = params['max_bin'],\n",
    "    tree_learner = params['tree_learner'],\n",
    "    feature_fraction = params['feature_fraction'],\n",
    "    bagging_fraction = params['bagging_fraction'],\n",
    "    bagging_freq = params['bagging_freq'],\n",
    "    min_data_in_leaf = params['min_data_in_leaf'],\n",
    "    min_sum_hessian_in_leaf = params['min_sum_hessian_in_leaf'],\n",
    "    is_enable_sparse = params['is_enable_sparse'],\n",
    "    use_two_round_loading = params['use_two_round_loading'],\n",
    "    is_save_binary_file = params['is_save_binary_file'],\n",
    "    n_jobs = -1\n",
    ")"
   ]
  },
  {
   "cell_type": "code",
   "execution_count": null,
   "metadata": {},
   "outputs": [],
   "source": []
  }
 ],
 "metadata": {
  "kernelspec": {
   "display_name": "defaults-v1",
   "language": "python",
   "name": "defaults-v1"
  },
  "language_info": {
   "codemirror_mode": {
    "name": "ipython",
    "version": 3
   },
   "file_extension": ".py",
   "mimetype": "text/x-python",
   "name": "python",
   "nbconvert_exporter": "python",
   "pygments_lexer": "ipython3",
   "version": "3.7.3"
  }
 },
 "nbformat": 4,
 "nbformat_minor": 4
}
